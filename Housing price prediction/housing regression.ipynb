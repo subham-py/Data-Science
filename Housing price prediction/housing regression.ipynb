{
 "cells": [
  {
   "cell_type": "markdown",
   "metadata": {},
   "source": [
    "## House Prices: Advanced Regression Techniques\n",
    "\n",
    "Ask a home buyer to describe their dream house, and they probably won't begin with the height of the basement ceiling or the proximity to an east-west railroad. But this playground competition's dataset proves that much more influences price negotiations than the number of bedrooms or a white-picket fence.\n",
    "\n",
    "**Importing Libraries**"
   ]
  },
  {
   "cell_type": "code",
   "execution_count": 1,
   "metadata": {},
   "outputs": [],
   "source": [
    "import numpy as np\n",
    "import pandas as pd\n",
    "import matplotlib.pyplot as plt\n",
    "import tensorflow as tf\n",
    "import seaborn as sns\n",
    "%matplotlib inline"
   ]
  },
  {
   "cell_type": "markdown",
   "metadata": {},
   "source": [
    "#### Sample output:"
   ]
  },
  {
   "cell_type": "code",
   "execution_count": 2,
   "metadata": {},
   "outputs": [
    {
     "data": {
      "text/html": [
       "<div>\n",
       "<style scoped>\n",
       "    .dataframe tbody tr th:only-of-type {\n",
       "        vertical-align: middle;\n",
       "    }\n",
       "\n",
       "    .dataframe tbody tr th {\n",
       "        vertical-align: top;\n",
       "    }\n",
       "\n",
       "    .dataframe thead th {\n",
       "        text-align: right;\n",
       "    }\n",
       "</style>\n",
       "<table border=\"1\" class=\"dataframe\">\n",
       "  <thead>\n",
       "    <tr style=\"text-align: right;\">\n",
       "      <th></th>\n",
       "      <th>Id</th>\n",
       "      <th>SalePrice</th>\n",
       "    </tr>\n",
       "  </thead>\n",
       "  <tbody>\n",
       "    <tr>\n",
       "      <th>0</th>\n",
       "      <td>1461</td>\n",
       "      <td>169277.052498</td>\n",
       "    </tr>\n",
       "    <tr>\n",
       "      <th>1</th>\n",
       "      <td>1462</td>\n",
       "      <td>187758.393989</td>\n",
       "    </tr>\n",
       "    <tr>\n",
       "      <th>2</th>\n",
       "      <td>1463</td>\n",
       "      <td>183583.683570</td>\n",
       "    </tr>\n",
       "    <tr>\n",
       "      <th>3</th>\n",
       "      <td>1464</td>\n",
       "      <td>179317.477511</td>\n",
       "    </tr>\n",
       "    <tr>\n",
       "      <th>4</th>\n",
       "      <td>1465</td>\n",
       "      <td>150730.079977</td>\n",
       "    </tr>\n",
       "  </tbody>\n",
       "</table>\n",
       "</div>"
      ],
      "text/plain": [
       "     Id      SalePrice\n",
       "0  1461  169277.052498\n",
       "1  1462  187758.393989\n",
       "2  1463  183583.683570\n",
       "3  1464  179317.477511\n",
       "4  1465  150730.079977"
      ]
     },
     "execution_count": 2,
     "metadata": {},
     "output_type": "execute_result"
    }
   ],
   "source": []
  },
  {
   "cell_type": "markdown",
   "metadata": {},
   "source": [
    "### Collecting test and train data :"
   ]
  },
  {
   "cell_type": "code",
   "execution_count": 3,
   "metadata": {},
   "outputs": [
    {
     "data": {
      "text/html": [
       "<div>\n",
       "<style scoped>\n",
       "    .dataframe tbody tr th:only-of-type {\n",
       "        vertical-align: middle;\n",
       "    }\n",
       "\n",
       "    .dataframe tbody tr th {\n",
       "        vertical-align: top;\n",
       "    }\n",
       "\n",
       "    .dataframe thead th {\n",
       "        text-align: right;\n",
       "    }\n",
       "</style>\n",
       "<table border=\"1\" class=\"dataframe\">\n",
       "  <thead>\n",
       "    <tr style=\"text-align: right;\">\n",
       "      <th></th>\n",
       "      <th>Id</th>\n",
       "      <th>MSSubClass</th>\n",
       "      <th>MSZoning</th>\n",
       "      <th>LotFrontage</th>\n",
       "      <th>LotArea</th>\n",
       "      <th>Street</th>\n",
       "      <th>Alley</th>\n",
       "      <th>LotShape</th>\n",
       "      <th>LandContour</th>\n",
       "      <th>Utilities</th>\n",
       "      <th>...</th>\n",
       "      <th>PoolArea</th>\n",
       "      <th>PoolQC</th>\n",
       "      <th>Fence</th>\n",
       "      <th>MiscFeature</th>\n",
       "      <th>MiscVal</th>\n",
       "      <th>MoSold</th>\n",
       "      <th>YrSold</th>\n",
       "      <th>SaleType</th>\n",
       "      <th>SaleCondition</th>\n",
       "      <th>SalePrice</th>\n",
       "    </tr>\n",
       "  </thead>\n",
       "  <tbody>\n",
       "    <tr>\n",
       "      <th>0</th>\n",
       "      <td>1</td>\n",
       "      <td>60</td>\n",
       "      <td>RL</td>\n",
       "      <td>65.0</td>\n",
       "      <td>8450</td>\n",
       "      <td>Pave</td>\n",
       "      <td>NaN</td>\n",
       "      <td>Reg</td>\n",
       "      <td>Lvl</td>\n",
       "      <td>AllPub</td>\n",
       "      <td>...</td>\n",
       "      <td>0</td>\n",
       "      <td>NaN</td>\n",
       "      <td>NaN</td>\n",
       "      <td>NaN</td>\n",
       "      <td>0</td>\n",
       "      <td>2</td>\n",
       "      <td>2008</td>\n",
       "      <td>WD</td>\n",
       "      <td>Normal</td>\n",
       "      <td>208500</td>\n",
       "    </tr>\n",
       "    <tr>\n",
       "      <th>1</th>\n",
       "      <td>2</td>\n",
       "      <td>20</td>\n",
       "      <td>RL</td>\n",
       "      <td>80.0</td>\n",
       "      <td>9600</td>\n",
       "      <td>Pave</td>\n",
       "      <td>NaN</td>\n",
       "      <td>Reg</td>\n",
       "      <td>Lvl</td>\n",
       "      <td>AllPub</td>\n",
       "      <td>...</td>\n",
       "      <td>0</td>\n",
       "      <td>NaN</td>\n",
       "      <td>NaN</td>\n",
       "      <td>NaN</td>\n",
       "      <td>0</td>\n",
       "      <td>5</td>\n",
       "      <td>2007</td>\n",
       "      <td>WD</td>\n",
       "      <td>Normal</td>\n",
       "      <td>181500</td>\n",
       "    </tr>\n",
       "    <tr>\n",
       "      <th>2</th>\n",
       "      <td>3</td>\n",
       "      <td>60</td>\n",
       "      <td>RL</td>\n",
       "      <td>68.0</td>\n",
       "      <td>11250</td>\n",
       "      <td>Pave</td>\n",
       "      <td>NaN</td>\n",
       "      <td>IR1</td>\n",
       "      <td>Lvl</td>\n",
       "      <td>AllPub</td>\n",
       "      <td>...</td>\n",
       "      <td>0</td>\n",
       "      <td>NaN</td>\n",
       "      <td>NaN</td>\n",
       "      <td>NaN</td>\n",
       "      <td>0</td>\n",
       "      <td>9</td>\n",
       "      <td>2008</td>\n",
       "      <td>WD</td>\n",
       "      <td>Normal</td>\n",
       "      <td>223500</td>\n",
       "    </tr>\n",
       "    <tr>\n",
       "      <th>3</th>\n",
       "      <td>4</td>\n",
       "      <td>70</td>\n",
       "      <td>RL</td>\n",
       "      <td>60.0</td>\n",
       "      <td>9550</td>\n",
       "      <td>Pave</td>\n",
       "      <td>NaN</td>\n",
       "      <td>IR1</td>\n",
       "      <td>Lvl</td>\n",
       "      <td>AllPub</td>\n",
       "      <td>...</td>\n",
       "      <td>0</td>\n",
       "      <td>NaN</td>\n",
       "      <td>NaN</td>\n",
       "      <td>NaN</td>\n",
       "      <td>0</td>\n",
       "      <td>2</td>\n",
       "      <td>2006</td>\n",
       "      <td>WD</td>\n",
       "      <td>Abnorml</td>\n",
       "      <td>140000</td>\n",
       "    </tr>\n",
       "    <tr>\n",
       "      <th>4</th>\n",
       "      <td>5</td>\n",
       "      <td>60</td>\n",
       "      <td>RL</td>\n",
       "      <td>84.0</td>\n",
       "      <td>14260</td>\n",
       "      <td>Pave</td>\n",
       "      <td>NaN</td>\n",
       "      <td>IR1</td>\n",
       "      <td>Lvl</td>\n",
       "      <td>AllPub</td>\n",
       "      <td>...</td>\n",
       "      <td>0</td>\n",
       "      <td>NaN</td>\n",
       "      <td>NaN</td>\n",
       "      <td>NaN</td>\n",
       "      <td>0</td>\n",
       "      <td>12</td>\n",
       "      <td>2008</td>\n",
       "      <td>WD</td>\n",
       "      <td>Normal</td>\n",
       "      <td>250000</td>\n",
       "    </tr>\n",
       "  </tbody>\n",
       "</table>\n",
       "<p>5 rows × 81 columns</p>\n",
       "</div>"
      ],
      "text/plain": [
       "   Id  MSSubClass MSZoning  LotFrontage  LotArea Street Alley LotShape  \\\n",
       "0   1          60       RL         65.0     8450   Pave   NaN      Reg   \n",
       "1   2          20       RL         80.0     9600   Pave   NaN      Reg   \n",
       "2   3          60       RL         68.0    11250   Pave   NaN      IR1   \n",
       "3   4          70       RL         60.0     9550   Pave   NaN      IR1   \n",
       "4   5          60       RL         84.0    14260   Pave   NaN      IR1   \n",
       "\n",
       "  LandContour Utilities  ... PoolArea PoolQC Fence MiscFeature MiscVal MoSold  \\\n",
       "0         Lvl    AllPub  ...        0    NaN   NaN         NaN       0      2   \n",
       "1         Lvl    AllPub  ...        0    NaN   NaN         NaN       0      5   \n",
       "2         Lvl    AllPub  ...        0    NaN   NaN         NaN       0      9   \n",
       "3         Lvl    AllPub  ...        0    NaN   NaN         NaN       0      2   \n",
       "4         Lvl    AllPub  ...        0    NaN   NaN         NaN       0     12   \n",
       "\n",
       "  YrSold  SaleType  SaleCondition  SalePrice  \n",
       "0   2008        WD         Normal     208500  \n",
       "1   2007        WD         Normal     181500  \n",
       "2   2008        WD         Normal     223500  \n",
       "3   2006        WD        Abnorml     140000  \n",
       "4   2008        WD         Normal     250000  \n",
       "\n",
       "[5 rows x 81 columns]"
      ]
     },
     "execution_count": 3,
     "metadata": {},
     "output_type": "execute_result"
    }
   ],
   "source": [
    "train = pd.read_csv('train.csv')\n",
    "train.head()"
   ]
  },
  {
   "cell_type": "code",
   "execution_count": 4,
   "metadata": {},
   "outputs": [],
   "source": [
    "test = pd.read_csv('test.csv')"
   ]
  },
  {
   "cell_type": "code",
   "execution_count": 5,
   "metadata": {},
   "outputs": [
    {
     "name": "stdout",
     "output_type": "stream",
     "text": [
      "<class 'pandas.core.frame.DataFrame'>\n",
      "RangeIndex: 1460 entries, 0 to 1459\n",
      "Data columns (total 81 columns):\n",
      "Id               1460 non-null int64\n",
      "MSSubClass       1460 non-null int64\n",
      "MSZoning         1460 non-null object\n",
      "LotFrontage      1201 non-null float64\n",
      "LotArea          1460 non-null int64\n",
      "Street           1460 non-null object\n",
      "Alley            91 non-null object\n",
      "LotShape         1460 non-null object\n",
      "LandContour      1460 non-null object\n",
      "Utilities        1460 non-null object\n",
      "LotConfig        1460 non-null object\n",
      "LandSlope        1460 non-null object\n",
      "Neighborhood     1460 non-null object\n",
      "Condition1       1460 non-null object\n",
      "Condition2       1460 non-null object\n",
      "BldgType         1460 non-null object\n",
      "HouseStyle       1460 non-null object\n",
      "OverallQual      1460 non-null int64\n",
      "OverallCond      1460 non-null int64\n",
      "YearBuilt        1460 non-null int64\n",
      "YearRemodAdd     1460 non-null int64\n",
      "RoofStyle        1460 non-null object\n",
      "RoofMatl         1460 non-null object\n",
      "Exterior1st      1460 non-null object\n",
      "Exterior2nd      1460 non-null object\n",
      "MasVnrType       1452 non-null object\n",
      "MasVnrArea       1452 non-null float64\n",
      "ExterQual        1460 non-null object\n",
      "ExterCond        1460 non-null object\n",
      "Foundation       1460 non-null object\n",
      "BsmtQual         1423 non-null object\n",
      "BsmtCond         1423 non-null object\n",
      "BsmtExposure     1422 non-null object\n",
      "BsmtFinType1     1423 non-null object\n",
      "BsmtFinSF1       1460 non-null int64\n",
      "BsmtFinType2     1422 non-null object\n",
      "BsmtFinSF2       1460 non-null int64\n",
      "BsmtUnfSF        1460 non-null int64\n",
      "TotalBsmtSF      1460 non-null int64\n",
      "Heating          1460 non-null object\n",
      "HeatingQC        1460 non-null object\n",
      "CentralAir       1460 non-null object\n",
      "Electrical       1459 non-null object\n",
      "1stFlrSF         1460 non-null int64\n",
      "2ndFlrSF         1460 non-null int64\n",
      "LowQualFinSF     1460 non-null int64\n",
      "GrLivArea        1460 non-null int64\n",
      "BsmtFullBath     1460 non-null int64\n",
      "BsmtHalfBath     1460 non-null int64\n",
      "FullBath         1460 non-null int64\n",
      "HalfBath         1460 non-null int64\n",
      "BedroomAbvGr     1460 non-null int64\n",
      "KitchenAbvGr     1460 non-null int64\n",
      "KitchenQual      1460 non-null object\n",
      "TotRmsAbvGrd     1460 non-null int64\n",
      "Functional       1460 non-null object\n",
      "Fireplaces       1460 non-null int64\n",
      "FireplaceQu      770 non-null object\n",
      "GarageType       1379 non-null object\n",
      "GarageYrBlt      1379 non-null float64\n",
      "GarageFinish     1379 non-null object\n",
      "GarageCars       1460 non-null int64\n",
      "GarageArea       1460 non-null int64\n",
      "GarageQual       1379 non-null object\n",
      "GarageCond       1379 non-null object\n",
      "PavedDrive       1460 non-null object\n",
      "WoodDeckSF       1460 non-null int64\n",
      "OpenPorchSF      1460 non-null int64\n",
      "EnclosedPorch    1460 non-null int64\n",
      "3SsnPorch        1460 non-null int64\n",
      "ScreenPorch      1460 non-null int64\n",
      "PoolArea         1460 non-null int64\n",
      "PoolQC           7 non-null object\n",
      "Fence            281 non-null object\n",
      "MiscFeature      54 non-null object\n",
      "MiscVal          1460 non-null int64\n",
      "MoSold           1460 non-null int64\n",
      "YrSold           1460 non-null int64\n",
      "SaleType         1460 non-null object\n",
      "SaleCondition    1460 non-null object\n",
      "SalePrice        1460 non-null int64\n",
      "dtypes: float64(3), int64(35), object(43)\n",
      "memory usage: 924.0+ KB\n"
     ]
    }
   ],
   "source": [
    "train.info()"
   ]
  },
  {
   "cell_type": "markdown",
   "metadata": {},
   "source": [
    "### Visualising the missing data in training set:"
   ]
  },
  {
   "cell_type": "code",
   "execution_count": 6,
   "metadata": {},
   "outputs": [
    {
     "data": {
      "text/plain": [
       "<matplotlib.axes._subplots.AxesSubplot at 0x2663b1dbeb8>"
      ]
     },
     "execution_count": 6,
     "metadata": {},
     "output_type": "execute_result"
    },
    {
     "data": {
      "image/png": "[encoded data removed]",
      "text/plain": [
       "<Figure size 432x288 with 1 Axes>"
      ]
     },
     "metadata": {
      "needs_background": "light"
     },
     "output_type": "display_data"
    }
   ],
   "source": [
    "sns.heatmap(train.isnull(), yticklabels=False, cmap='viridis', cbar=False)"
   ]
  },
  {
   "cell_type": "markdown",
   "metadata": {},
   "source": [
    "## Merging test and train data\n",
    "\n",
    "*Temporarily for feature engineering and dealing with missing data**"
   ]
  },
  {
   "cell_type": "code",
   "execution_count": 7,
   "metadata": {},
   "outputs": [
    {
     "name": "stdout",
     "output_type": "stream",
     "text": [
      "<class 'pandas.core.frame.DataFrame'>\n",
      "RangeIndex: 2919 entries, 0 to 2918\n",
      "Data columns (total 81 columns):\n",
      "1stFlrSF         2919 non-null int64\n",
      "2ndFlrSF         2919 non-null int64\n",
      "3SsnPorch        2919 non-null int64\n",
      "Alley            198 non-null object\n",
      "BedroomAbvGr     2919 non-null int64\n",
      "BldgType         2919 non-null object\n",
      "BsmtCond         2837 non-null object\n",
      "BsmtExposure     2837 non-null object\n",
      "BsmtFinSF1       2918 non-null float64\n",
      "BsmtFinSF2       2918 non-null float64\n",
      "BsmtFinType1     2840 non-null object\n",
      "BsmtFinType2     2839 non-null object\n",
      "BsmtFullBath     2917 non-null float64\n",
      "BsmtHalfBath     2917 non-null float64\n",
      "BsmtQual         2838 non-null object\n",
      "BsmtUnfSF        2918 non-null float64\n",
      "CentralAir       2919 non-null object\n",
      "Condition1       2919 non-null object\n",
      "Condition2       2919 non-null object\n",
      "Electrical       2918 non-null object\n",
      "EnclosedPorch    2919 non-null int64\n",
      "ExterCond        2919 non-null object\n",
      "ExterQual        2919 non-null object\n",
      "Exterior1st      2918 non-null object\n",
      "Exterior2nd      2918 non-null object\n",
      "Fence            571 non-null object\n",
      "FireplaceQu      1499 non-null object\n",
      "Fireplaces       2919 non-null int64\n",
      "Foundation       2919 non-null object\n",
      "FullBath         2919 non-null int64\n",
      "Functional       2917 non-null object\n",
      "GarageArea       2918 non-null float64\n",
      "GarageCars       2918 non-null float64\n",
      "GarageCond       2760 non-null object\n",
      "GarageFinish     2760 non-null object\n",
      "GarageQual       2760 non-null object\n",
      "GarageType       2762 non-null object\n",
      "GarageYrBlt      2760 non-null float64\n",
      "GrLivArea        2919 non-null int64\n",
      "HalfBath         2919 non-null int64\n",
      "Heating          2919 non-null object\n",
      "HeatingQC        2919 non-null object\n",
      "HouseStyle       2919 non-null object\n",
      "Id               2919 non-null int64\n",
      "KitchenAbvGr     2919 non-null int64\n",
      "KitchenQual      2918 non-null object\n",
      "LandContour      2919 non-null object\n",
      "LandSlope        2919 non-null object\n",
      "LotArea          2919 non-null int64\n",
      "LotConfig        2919 non-null object\n",
      "LotFrontage      2433 non-null float64\n",
      "LotShape         2919 non-null object\n",
      "LowQualFinSF     2919 non-null int64\n",
      "MSSubClass       2919 non-null int64\n",
      "MSZoning         2915 non-null object\n",
      "MasVnrArea       2896 non-null float64\n",
      "MasVnrType       2895 non-null object\n",
      "MiscFeature      105 non-null object\n",
      "MiscVal          2919 non-null int64\n",
      "MoSold           2919 non-null int64\n",
      "Neighborhood     2919 non-null object\n",
      "OpenPorchSF      2919 non-null int64\n",
      "OverallCond      2919 non-null int64\n",
      "OverallQual      2919 non-null int64\n",
      "PavedDrive       2919 non-null object\n",
      "PoolArea         2919 non-null int64\n",
      "PoolQC           10 non-null object\n",
      "RoofMatl         2919 non-null object\n",
      "RoofStyle        2919 non-null object\n",
      "SaleCondition    2919 non-null object\n",
      "SalePrice        1460 non-null float64\n",
      "SaleType         2918 non-null object\n",
      "ScreenPorch      2919 non-null int64\n",
      "Street           2919 non-null object\n",
      "TotRmsAbvGrd     2919 non-null int64\n",
      "TotalBsmtSF      2918 non-null float64\n",
      "Utilities        2917 non-null object\n",
      "WoodDeckSF       2919 non-null int64\n",
      "YearBuilt        2919 non-null int64\n",
      "YearRemodAdd     2919 non-null int64\n",
      "YrSold           2919 non-null int64\n",
      "dtypes: float64(12), int64(26), object(43)\n",
      "memory usage: 1.8+ MB\n"
     ]
    },
    {
     "name": "stderr",
     "output_type": "stream",
     "text": [
      "C:\\Users\\Subham\\Anaconda3\\lib\\site-packages\\ipykernel_launcher.py:1: FutureWarning: Sorting because non-concatenation axis is not aligned. A future version\n",
      "of pandas will change to not sort by default.\n",
      "\n",
      "To accept the future behavior, pass 'sort=False'.\n",
      "\n",
      "To retain the current behavior and silence the warning, pass 'sort=True'.\n",
      "\n",
      "  \"\"\"Entry point for launching an IPython kernel.\n"
     ]
    }
   ],
   "source": [
    "new = pd.concat((test,train),ignore_index=True)\n",
    "new.info()"
   ]
  },
  {
   "cell_type": "code",
   "execution_count": 8,
   "metadata": {},
   "outputs": [
    {
     "data": {
      "text/plain": [
       "False    1460\n",
       "True     1459\n",
       "Name: SalePrice, dtype: int64"
      ]
     },
     "execution_count": 8,
     "metadata": {},
     "output_type": "execute_result"
    }
   ],
   "source": [
    "new['SalePrice'].isnull().value_counts()"
   ]
  },
  {
   "cell_type": "markdown",
   "metadata": {},
   "source": [
    "Finding the index from where the training data is starting"
   ]
  },
  {
   "cell_type": "code",
   "execution_count": 9,
   "metadata": {},
   "outputs": [
    {
     "name": "stdout",
     "output_type": "stream",
     "text": [
      "<class 'pandas.core.frame.DataFrame'>\n",
      "RangeIndex: 1459 entries, 0 to 1458\n",
      "Data columns (total 80 columns):\n",
      "Id               1459 non-null int64\n",
      "MSSubClass       1459 non-null int64\n",
      "MSZoning         1455 non-null object\n",
      "LotFrontage      1232 non-null float64\n",
      "LotArea          1459 non-null int64\n",
      "Street           1459 non-null object\n",
      "Alley            107 non-null object\n",
      "LotShape         1459 non-null object\n",
      "LandContour      1459 non-null object\n",
      "Utilities        1457 non-null object\n",
      "LotConfig        1459 non-null object\n",
      "LandSlope        1459 non-null object\n",
      "Neighborhood     1459 non-null object\n",
      "Condition1       1459 non-null object\n",
      "Condition2       1459 non-null object\n",
      "BldgType         1459 non-null object\n",
      "HouseStyle       1459 non-null object\n",
      "OverallQual      1459 non-null int64\n",
      "OverallCond      1459 non-null int64\n",
      "YearBuilt        1459 non-null int64\n",
      "YearRemodAdd     1459 non-null int64\n",
      "RoofStyle        1459 non-null object\n",
      "RoofMatl         1459 non-null object\n",
      "Exterior1st      1458 non-null object\n",
      "Exterior2nd      1458 non-null object\n",
      "MasVnrType       1443 non-null object\n",
      "MasVnrArea       1444 non-null float64\n",
      "ExterQual        1459 non-null object\n",
      "ExterCond        1459 non-null object\n",
      "Foundation       1459 non-null object\n",
      "BsmtQual         1415 non-null object\n",
      "BsmtCond         1414 non-null object\n",
      "BsmtExposure     1415 non-null object\n",
      "BsmtFinType1     1417 non-null object\n",
      "BsmtFinSF1       1458 non-null float64\n",
      "BsmtFinType2     1417 non-null object\n",
      "BsmtFinSF2       1458 non-null float64\n",
      "BsmtUnfSF        1458 non-null float64\n",
      "TotalBsmtSF      1458 non-null float64\n",
      "Heating          1459 non-null object\n",
      "HeatingQC        1459 non-null object\n",
      "CentralAir       1459 non-null object\n",
      "Electrical       1459 non-null object\n",
      "1stFlrSF         1459 non-null int64\n",
      "2ndFlrSF         1459 non-null int64\n",
      "LowQualFinSF     1459 non-null int64\n",
      "GrLivArea        1459 non-null int64\n",
      "BsmtFullBath     1457 non-null float64\n",
      "BsmtHalfBath     1457 non-null float64\n",
      "FullBath         1459 non-null int64\n",
      "HalfBath         1459 non-null int64\n",
      "BedroomAbvGr     1459 non-null int64\n",
      "KitchenAbvGr     1459 non-null int64\n",
      "KitchenQual      1458 non-null object\n",
      "TotRmsAbvGrd     1459 non-null int64\n",
      "Functional       1457 non-null object\n",
      "Fireplaces       1459 non-null int64\n",
      "FireplaceQu      729 non-null object\n",
      "GarageType       1383 non-null object\n",
      "GarageYrBlt      1381 non-null float64\n",
      "GarageFinish     1381 non-null object\n",
      "GarageCars       1458 non-null float64\n",
      "GarageArea       1458 non-null float64\n",
      "GarageQual       1381 non-null object\n",
      "GarageCond       1381 non-null object\n",
      "PavedDrive       1459 non-null object\n",
      "WoodDeckSF       1459 non-null int64\n",
      "OpenPorchSF      1459 non-null int64\n",
      "EnclosedPorch    1459 non-null int64\n",
      "3SsnPorch        1459 non-null int64\n",
      "ScreenPorch      1459 non-null int64\n",
      "PoolArea         1459 non-null int64\n",
      "PoolQC           3 non-null object\n",
      "Fence            290 non-null object\n",
      "MiscFeature      51 non-null object\n",
      "MiscVal          1459 non-null int64\n",
      "MoSold           1459 non-null int64\n",
      "YrSold           1459 non-null int64\n",
      "SaleType         1458 non-null object\n",
      "SaleCondition    1459 non-null object\n",
      "dtypes: float64(11), int64(26), object(43)\n",
      "memory usage: 912.0+ KB\n"
     ]
    }
   ],
   "source": [
    "test.info()  # Train split from 1459"
   ]
  },
  {
   "cell_type": "markdown",
   "metadata": {},
   "source": [
    "#### Removing columns from the combined dataset where missing value counts more than 60% "
   ]
  },
  {
   "cell_type": "code",
   "execution_count": 10,
   "metadata": {},
   "outputs": [
    {
     "name": "stdout",
     "output_type": "stream",
     "text": [
      "Alley\n",
      "Fence\n",
      "FireplaceQu\n",
      "MiscFeature\n",
      "PoolQC\n"
     ]
    }
   ],
   "source": [
    "# Sale price gets auto excluded for 0.5 value\n",
    "for col in new.columns:\n",
    "    if new[col].count()/new.shape[0] < 0.6 and col != 'SalePrice':\n",
    "        new.drop([col],axis=1,inplace=True)\n",
    "        print(col)"
   ]
  },
  {
   "cell_type": "markdown",
   "metadata": {},
   "source": [
    "#### Visualising the necessity of missing data filling"
   ]
  },
  {
   "cell_type": "code",
   "execution_count": 11,
   "metadata": {},
   "outputs": [
    {
     "data": {
      "text/plain": [
       "<matplotlib.axes._subplots.AxesSubplot at 0x2663b6cf9e8>"
      ]
     },
     "execution_count": 11,
     "metadata": {},
     "output_type": "execute_result"
    },
    {
     "data": {
      "image/png": "[encoded data removed]",
      "text/plain": [
       "<Figure size 1080x720 with 1 Axes>"
      ]
     },
     "metadata": {
      "needs_background": "light"
     },
     "output_type": "display_data"
    }
   ],
   "source": [
    "plt.figure(figsize=(15,10))\n",
    "sns.heatmap(new.isnull(), yticklabels=False, cmap='viridis', cbar=False,xticklabels=True)"
   ]
  },
  {
   "cell_type": "code",
   "execution_count": 12,
   "metadata": {},
   "outputs": [
    {
     "data": {
      "text/plain": [
       "1stFlrSF           int64\n",
       "2ndFlrSF           int64\n",
       "3SsnPorch          int64\n",
       "BedroomAbvGr       int64\n",
       "BldgType          object\n",
       "BsmtCond          object\n",
       "BsmtExposure      object\n",
       "BsmtFinSF1       float64\n",
       "BsmtFinSF2       float64\n",
       "BsmtFinType1      object\n",
       "BsmtFinType2      object\n",
       "BsmtFullBath     float64\n",
       "BsmtHalfBath     float64\n",
       "BsmtQual          object\n",
       "BsmtUnfSF        float64\n",
       "CentralAir        object\n",
       "Condition1        object\n",
       "Condition2        object\n",
       "Electrical        object\n",
       "EnclosedPorch      int64\n",
       "ExterCond         object\n",
       "ExterQual         object\n",
       "Exterior1st       object\n",
       "Exterior2nd       object\n",
       "Fireplaces         int64\n",
       "Foundation        object\n",
       "FullBath           int64\n",
       "Functional        object\n",
       "GarageArea       float64\n",
       "GarageCars       float64\n",
       "                  ...   \n",
       "LotConfig         object\n",
       "LotFrontage      float64\n",
       "LotShape          object\n",
       "LowQualFinSF       int64\n",
       "MSSubClass         int64\n",
       "MSZoning          object\n",
       "MasVnrArea       float64\n",
       "MasVnrType        object\n",
       "MiscVal            int64\n",
       "MoSold             int64\n",
       "Neighborhood      object\n",
       "OpenPorchSF        int64\n",
       "OverallCond        int64\n",
       "OverallQual        int64\n",
       "PavedDrive        object\n",
       "PoolArea           int64\n",
       "RoofMatl          object\n",
       "RoofStyle         object\n",
       "SaleCondition     object\n",
       "SalePrice        float64\n",
       "SaleType          object\n",
       "ScreenPorch        int64\n",
       "Street            object\n",
       "TotRmsAbvGrd       int64\n",
       "TotalBsmtSF      float64\n",
       "Utilities         object\n",
       "WoodDeckSF         int64\n",
       "YearBuilt          int64\n",
       "YearRemodAdd       int64\n",
       "YrSold             int64\n",
       "Length: 76, dtype: object"
      ]
     },
     "execution_count": 12,
     "metadata": {},
     "output_type": "execute_result"
    }
   ],
   "source": [
    "new.dtypes  # Checking the various datatypes present"
   ]
  },
  {
   "cell_type": "code",
   "execution_count": 13,
   "metadata": {},
   "outputs": [
    {
     "data": {
      "text/plain": [
       "True"
      ]
     },
     "execution_count": 13,
     "metadata": {},
     "output_type": "execute_result"
    }
   ],
   "source": [
    "new['YrSold'].dtypes is np.dtype('float64') or new['YrSold'].dtypes is np.dtype('int64')"
   ]
  },
  {
   "cell_type": "markdown",
   "metadata": {},
   "source": [
    "### Filling the missing values:\n",
    "\n",
    "For *float* type we've taken **mean** and for *object* type we've taken **mode**"
   ]
  },
  {
   "cell_type": "code",
   "execution_count": 14,
   "metadata": {},
   "outputs": [
    {
     "name": "stdout",
     "output_type": "stream",
     "text": [
      "BsmtCond -> object\n",
      "BsmtExposure -> object\n",
      "BsmtFinSF1 -> float64\n",
      "BsmtFinSF2 -> float64\n",
      "BsmtFinType1 -> object\n",
      "BsmtFinType2 -> object\n",
      "BsmtFullBath -> float64\n",
      "BsmtHalfBath -> float64\n",
      "BsmtQual -> object\n",
      "BsmtUnfSF -> float64\n",
      "Electrical -> object\n",
      "Exterior1st -> object\n",
      "Exterior2nd -> object\n",
      "Functional -> object\n",
      "GarageArea -> float64\n",
      "GarageCars -> float64\n",
      "GarageCond -> object\n",
      "GarageFinish -> object\n",
      "GarageQual -> object\n",
      "GarageType -> object\n",
      "GarageYrBlt -> float64\n",
      "KitchenQual -> object\n",
      "LotFrontage -> float64\n",
      "MSZoning -> object\n",
      "MasVnrArea -> float64\n",
      "MasVnrType -> object\n",
      "SaleType -> object\n",
      "TotalBsmtSF -> float64\n",
      "Utilities -> object\n"
     ]
    }
   ],
   "source": [
    "for cols in new.columns:\n",
    "    if new[cols].isnull().any() and cols != 'SalePrice': #checks if nan exhists\n",
    "        \n",
    "        print('{} -> {}'.format(cols,new[cols].dtype))  # pthon older version: f' not works\n",
    "        \n",
    "        if new[cols].dtype is np.dtype('float64'):\n",
    "            new[cols] = new[cols].fillna(value=new[cols].mean())\n",
    "            \n",
    "        elif new[cols].dtype is np.dtype('O'):\n",
    "            new[cols] = new[cols].fillna(value=new[cols].mode()[0])"
   ]
  },
  {
   "cell_type": "code",
   "execution_count": 15,
   "metadata": {
    "scrolled": true
   },
   "outputs": [
    {
     "data": {
      "text/plain": [
       "1stFlrSF            0\n",
       "2ndFlrSF            0\n",
       "3SsnPorch           0\n",
       "BedroomAbvGr        0\n",
       "BldgType            0\n",
       "BsmtCond            0\n",
       "BsmtExposure        0\n",
       "BsmtFinSF1          0\n",
       "BsmtFinSF2          0\n",
       "BsmtFinType1        0\n",
       "BsmtFinType2        0\n",
       "BsmtFullBath        0\n",
       "BsmtHalfBath        0\n",
       "BsmtQual            0\n",
       "BsmtUnfSF           0\n",
       "CentralAir          0\n",
       "Condition1          0\n",
       "Condition2          0\n",
       "Electrical          0\n",
       "EnclosedPorch       0\n",
       "ExterCond           0\n",
       "ExterQual           0\n",
       "Exterior1st         0\n",
       "Exterior2nd         0\n",
       "Fireplaces          0\n",
       "Foundation          0\n",
       "FullBath            0\n",
       "Functional          0\n",
       "GarageArea          0\n",
       "GarageCars          0\n",
       "                 ... \n",
       "LotConfig           0\n",
       "LotFrontage         0\n",
       "LotShape            0\n",
       "LowQualFinSF        0\n",
       "MSSubClass          0\n",
       "MSZoning            0\n",
       "MasVnrArea          0\n",
       "MasVnrType          0\n",
       "MiscVal             0\n",
       "MoSold              0\n",
       "Neighborhood        0\n",
       "OpenPorchSF         0\n",
       "OverallCond         0\n",
       "OverallQual         0\n",
       "PavedDrive          0\n",
       "PoolArea            0\n",
       "RoofMatl            0\n",
       "RoofStyle           0\n",
       "SaleCondition       0\n",
       "SalePrice        1459\n",
       "SaleType            0\n",
       "ScreenPorch         0\n",
       "Street              0\n",
       "TotRmsAbvGrd        0\n",
       "TotalBsmtSF         0\n",
       "Utilities           0\n",
       "WoodDeckSF          0\n",
       "YearBuilt           0\n",
       "YearRemodAdd        0\n",
       "YrSold              0\n",
       "Length: 76, dtype: int64"
      ]
     },
     "execution_count": 15,
     "metadata": {},
     "output_type": "execute_result"
    }
   ],
   "source": [
    "new.isnull().sum()  # There are no missing values"
   ]
  },
  {
   "cell_type": "code",
   "execution_count": 16,
   "metadata": {},
   "outputs": [
    {
     "data": {
      "text/plain": [
       "Index(['1stFlrSF', '2ndFlrSF', '3SsnPorch', 'BedroomAbvGr', 'BldgType',\n",
       "       'BsmtCond', 'BsmtExposure', 'BsmtFinSF1', 'BsmtFinSF2', 'BsmtFinType1',\n",
       "       'BsmtFinType2', 'BsmtFullBath', 'BsmtHalfBath', 'BsmtQual', 'BsmtUnfSF',\n",
       "       'CentralAir', 'Condition1', 'Condition2', 'Electrical', 'EnclosedPorch',\n",
       "       'ExterCond', 'ExterQual', 'Exterior1st', 'Exterior2nd', 'Fireplaces',\n",
       "       'Foundation', 'FullBath', 'Functional', 'GarageArea', 'GarageCars',\n",
       "       'GarageCond', 'GarageFinish', 'GarageQual', 'GarageType', 'GarageYrBlt',\n",
       "       'GrLivArea', 'HalfBath', 'Heating', 'HeatingQC', 'HouseStyle', 'Id',\n",
       "       'KitchenAbvGr', 'KitchenQual', 'LandContour', 'LandSlope', 'LotArea',\n",
       "       'LotConfig', 'LotFrontage', 'LotShape', 'LowQualFinSF', 'MSSubClass',\n",
       "       'MSZoning', 'MasVnrArea', 'MasVnrType', 'MiscVal', 'MoSold',\n",
       "       'Neighborhood', 'OpenPorchSF', 'OverallCond', 'OverallQual',\n",
       "       'PavedDrive', 'PoolArea', 'RoofMatl', 'RoofStyle', 'SaleCondition',\n",
       "       'SalePrice', 'SaleType', 'ScreenPorch', 'Street', 'TotRmsAbvGrd',\n",
       "       'TotalBsmtSF', 'Utilities', 'WoodDeckSF', 'YearBuilt', 'YearRemodAdd',\n",
       "       'YrSold'],\n",
       "      dtype='object')"
      ]
     },
     "execution_count": 16,
     "metadata": {},
     "output_type": "execute_result"
    }
   ],
   "source": [
    "columns = new.columns\n",
    "columns"
   ]
  },
  {
   "cell_type": "markdown",
   "metadata": {},
   "source": [
    "### Adding Categorical Features"
   ]
  },
  {
   "cell_type": "code",
   "execution_count": 17,
   "metadata": {
    "scrolled": true
   },
   "outputs": [
    {
     "name": "stdout",
     "output_type": "stream",
     "text": [
      "1stFlrSF\n",
      "2ndFlrSF\n",
      "3SsnPorch\n",
      "BedroomAbvGr\n",
      "BldgType\n",
      "BsmtCond\n",
      "BsmtExposure\n",
      "BsmtFinSF1\n",
      "BsmtFinSF2\n",
      "BsmtFinType1\n",
      "BsmtFinType2\n",
      "BsmtFullBath\n",
      "BsmtHalfBath\n",
      "BsmtQual\n",
      "BsmtUnfSF\n",
      "CentralAir\n",
      "Condition1\n",
      "Condition2\n",
      "Electrical\n",
      "EnclosedPorch\n",
      "ExterCond\n",
      "ExterQual\n",
      "Exterior1st\n",
      "Exterior2nd\n",
      "Fireplaces\n",
      "Foundation\n",
      "FullBath\n",
      "Functional\n",
      "GarageArea\n",
      "GarageCars\n",
      "GarageCond\n",
      "GarageFinish\n",
      "GarageQual\n",
      "GarageType\n",
      "GarageYrBlt\n",
      "GrLivArea\n",
      "HalfBath\n",
      "Heating\n",
      "HeatingQC\n",
      "HouseStyle\n",
      "Id\n",
      "KitchenAbvGr\n",
      "KitchenQual\n",
      "LandContour\n",
      "LandSlope\n",
      "LotArea\n",
      "LotConfig\n",
      "LotFrontage\n",
      "LotShape\n",
      "LowQualFinSF\n",
      "MSSubClass\n",
      "MSZoning\n",
      "MasVnrArea\n",
      "MasVnrType\n",
      "MiscVal\n",
      "MoSold\n",
      "Neighborhood\n",
      "OpenPorchSF\n",
      "OverallCond\n",
      "OverallQual\n",
      "PavedDrive\n",
      "PoolArea\n",
      "RoofMatl\n",
      "RoofStyle\n",
      "SaleCondition\n",
      "SalePrice\n",
      "SaleType\n",
      "ScreenPorch\n",
      "Street\n",
      "TotRmsAbvGrd\n",
      "TotalBsmtSF\n",
      "Utilities\n",
      "WoodDeckSF\n",
      "YearBuilt\n",
      "YearRemodAdd\n",
      "YrSold\n"
     ]
    }
   ],
   "source": [
    "for col in columns:\n",
    "    print(col)\n",
    "    # Adding categorical features\n",
    "    if new[col].dtype is np.dtype('O'):\n",
    "        \n",
    "        new =pd.get_dummies(new,columns=[col],drop_first=True)\n",
    "        "
   ]
  },
  {
   "cell_type": "code",
   "execution_count": 18,
   "metadata": {},
   "outputs": [
    {
     "data": {
      "text/plain": [
       "(2919, 234)"
      ]
     },
     "execution_count": 18,
     "metadata": {},
     "output_type": "execute_result"
    }
   ],
   "source": [
    "new.shape"
   ]
  },
  {
   "cell_type": "code",
   "execution_count": 19,
   "metadata": {},
   "outputs": [],
   "source": [
    "## Tensorflow is giving error for space in column names\n",
    "newcol = []\n",
    "for col in new.columns:\n",
    "    col = ''.join(col.split('&'))\n",
    "    newcol.append(''.join(col.split()))"
   ]
  },
  {
   "cell_type": "code",
   "execution_count": 20,
   "metadata": {},
   "outputs": [],
   "source": [
    "new.columns = newcol"
   ]
  },
  {
   "cell_type": "markdown",
   "metadata": {},
   "source": [
    "### Un-merging to train and test set "
   ]
  },
  {
   "cell_type": "code",
   "execution_count": 21,
   "metadata": {},
   "outputs": [],
   "source": [
    "ftrain=new.loc[new.index>=1459].copy()\n",
    "ftest=new.loc[new.index<1459].copy()"
   ]
  },
  {
   "cell_type": "code",
   "execution_count": 22,
   "metadata": {
    "collapsed": true
   },
   "outputs": [
    {
     "data": {
      "text/plain": [
       "1459    208500.0\n",
       "1460    181500.0\n",
       "1461    223500.0\n",
       "1462    140000.0\n",
       "1463    250000.0\n",
       "1464    143000.0\n",
       "1465    307000.0\n",
       "1466    200000.0\n",
       "1467    129900.0\n",
       "1468    118000.0\n",
       "1469    129500.0\n",
       "1470    345000.0\n",
       "1471    144000.0\n",
       "1472    279500.0\n",
       "1473    157000.0\n",
       "1474    132000.0\n",
       "1475    149000.0\n",
       "1476     90000.0\n",
       "1477    159000.0\n",
       "1478    139000.0\n",
       "1479    325300.0\n",
       "1480    139400.0\n",
       "1481    230000.0\n",
       "1482    129900.0\n",
       "1483    154000.0\n",
       "1484    256300.0\n",
       "1485    134800.0\n",
       "1486    306000.0\n",
       "1487    207500.0\n",
       "1488     68500.0\n",
       "          ...   \n",
       "2889    192140.0\n",
       "2890    143750.0\n",
       "2891     64500.0\n",
       "2892    186500.0\n",
       "2893    160000.0\n",
       "2894    174000.0\n",
       "2895    120500.0\n",
       "2896    394617.0\n",
       "2897    149700.0\n",
       "2898    197000.0\n",
       "2899    191000.0\n",
       "2900    149300.0\n",
       "2901    310000.0\n",
       "2902    121000.0\n",
       "2903    179600.0\n",
       "2904    129000.0\n",
       "2905    157900.0\n",
       "2906    240000.0\n",
       "2907    112000.0\n",
       "2908     92000.0\n",
       "2909    136000.0\n",
       "2910    287090.0\n",
       "2911    145000.0\n",
       "2912     84500.0\n",
       "2913    185000.0\n",
       "2914    175000.0\n",
       "2915    210000.0\n",
       "2916    266500.0\n",
       "2917    142125.0\n",
       "2918    147500.0\n",
       "Name: SalePrice, Length: 1460, dtype: float64"
      ]
     },
     "execution_count": 22,
     "metadata": {},
     "output_type": "execute_result"
    }
   ],
   "source": [
    "ftrain['SalePrice']"
   ]
  },
  {
   "cell_type": "code",
   "execution_count": 154,
   "metadata": {},
   "outputs": [
    {
     "data": {
      "text/plain": [
       "nan"
      ]
     },
     "execution_count": 154,
     "metadata": {},
     "output_type": "execute_result"
    }
   ],
   "source": [
    "new.iloc[1458]['SalePrice']"
   ]
  },
  {
   "cell_type": "code",
   "execution_count": 24,
   "metadata": {},
   "outputs": [],
   "source": [
    "ftest.drop(['SalePrice'],axis=1,inplace=True)"
   ]
  },
  {
   "cell_type": "markdown",
   "metadata": {},
   "source": [
    "### Scaling the dataset\n",
    "\n",
    "Here we're using **MinMaxScalar** on the train and testset by fitting the model in test set only"
   ]
  },
  {
   "cell_type": "code",
   "execution_count": 203,
   "metadata": {},
   "outputs": [],
   "source": [
    "from sklearn.preprocessing import MinMaxScaler"
   ]
  },
  {
   "cell_type": "code",
   "execution_count": 204,
   "metadata": {},
   "outputs": [],
   "source": [
    "scaler = MinMaxScaler()"
   ]
  },
  {
   "cell_type": "code",
   "execution_count": 205,
   "metadata": {},
   "outputs": [
    {
     "data": {
      "text/plain": [
       "MinMaxScaler(copy=True, feature_range=(0, 1))"
      ]
     },
     "execution_count": 205,
     "metadata": {},
     "output_type": "execute_result"
    }
   ],
   "source": [
    "scaler.fit(ftrain.drop(['SalePrice','Id'], axis=1))"
   ]
  },
  {
   "cell_type": "code",
   "execution_count": 206,
   "metadata": {
    "scrolled": true
   },
   "outputs": [
    {
     "data": {
      "text/html": [
       "<div>\n",
       "<style scoped>\n",
       "    .dataframe tbody tr th:only-of-type {\n",
       "        vertical-align: middle;\n",
       "    }\n",
       "\n",
       "    .dataframe tbody tr th {\n",
       "        vertical-align: top;\n",
       "    }\n",
       "\n",
       "    .dataframe thead th {\n",
       "        text-align: right;\n",
       "    }\n",
       "</style>\n",
       "<table border=\"1\" class=\"dataframe\">\n",
       "  <thead>\n",
       "    <tr style=\"text-align: right;\">\n",
       "      <th></th>\n",
       "      <th>1stFlrSF</th>\n",
       "      <th>2ndFlrSF</th>\n",
       "      <th>3SsnPorch</th>\n",
       "      <th>BedroomAbvGr</th>\n",
       "      <th>BsmtFinSF1</th>\n",
       "      <th>BsmtFinSF2</th>\n",
       "      <th>BsmtFullBath</th>\n",
       "      <th>BsmtHalfBath</th>\n",
       "      <th>BsmtUnfSF</th>\n",
       "      <th>EnclosedPorch</th>\n",
       "      <th>...</th>\n",
       "      <th>SaleType_CWD</th>\n",
       "      <th>SaleType_Con</th>\n",
       "      <th>SaleType_ConLD</th>\n",
       "      <th>SaleType_ConLI</th>\n",
       "      <th>SaleType_ConLw</th>\n",
       "      <th>SaleType_New</th>\n",
       "      <th>SaleType_Oth</th>\n",
       "      <th>SaleType_WD</th>\n",
       "      <th>Street_Pave</th>\n",
       "      <th>Utilities_NoSeWa</th>\n",
       "    </tr>\n",
       "  </thead>\n",
       "  <tbody>\n",
       "    <tr>\n",
       "      <th>0</th>\n",
       "      <td>0.119780</td>\n",
       "      <td>0.413559</td>\n",
       "      <td>0.0</td>\n",
       "      <td>0.375</td>\n",
       "      <td>0.125089</td>\n",
       "      <td>0.0</td>\n",
       "      <td>0.333333</td>\n",
       "      <td>0.0</td>\n",
       "      <td>0.064212</td>\n",
       "      <td>0.000000</td>\n",
       "      <td>...</td>\n",
       "      <td>0.0</td>\n",
       "      <td>0.0</td>\n",
       "      <td>0.0</td>\n",
       "      <td>0.0</td>\n",
       "      <td>0.0</td>\n",
       "      <td>0.0</td>\n",
       "      <td>0.0</td>\n",
       "      <td>1.0</td>\n",
       "      <td>1.0</td>\n",
       "      <td>0.0</td>\n",
       "    </tr>\n",
       "    <tr>\n",
       "      <th>1</th>\n",
       "      <td>0.212942</td>\n",
       "      <td>0.000000</td>\n",
       "      <td>0.0</td>\n",
       "      <td>0.375</td>\n",
       "      <td>0.173281</td>\n",
       "      <td>0.0</td>\n",
       "      <td>0.000000</td>\n",
       "      <td>0.5</td>\n",
       "      <td>0.121575</td>\n",
       "      <td>0.000000</td>\n",
       "      <td>...</td>\n",
       "      <td>0.0</td>\n",
       "      <td>0.0</td>\n",
       "      <td>0.0</td>\n",
       "      <td>0.0</td>\n",
       "      <td>0.0</td>\n",
       "      <td>0.0</td>\n",
       "      <td>0.0</td>\n",
       "      <td>1.0</td>\n",
       "      <td>1.0</td>\n",
       "      <td>0.0</td>\n",
       "    </tr>\n",
       "    <tr>\n",
       "      <th>2</th>\n",
       "      <td>0.134465</td>\n",
       "      <td>0.419370</td>\n",
       "      <td>0.0</td>\n",
       "      <td>0.375</td>\n",
       "      <td>0.086109</td>\n",
       "      <td>0.0</td>\n",
       "      <td>0.333333</td>\n",
       "      <td>0.0</td>\n",
       "      <td>0.185788</td>\n",
       "      <td>0.000000</td>\n",
       "      <td>...</td>\n",
       "      <td>0.0</td>\n",
       "      <td>0.0</td>\n",
       "      <td>0.0</td>\n",
       "      <td>0.0</td>\n",
       "      <td>0.0</td>\n",
       "      <td>0.0</td>\n",
       "      <td>0.0</td>\n",
       "      <td>1.0</td>\n",
       "      <td>1.0</td>\n",
       "      <td>0.0</td>\n",
       "    </tr>\n",
       "    <tr>\n",
       "      <th>3</th>\n",
       "      <td>0.143873</td>\n",
       "      <td>0.366102</td>\n",
       "      <td>0.0</td>\n",
       "      <td>0.375</td>\n",
       "      <td>0.038271</td>\n",
       "      <td>0.0</td>\n",
       "      <td>0.333333</td>\n",
       "      <td>0.0</td>\n",
       "      <td>0.231164</td>\n",
       "      <td>0.492754</td>\n",
       "      <td>...</td>\n",
       "      <td>0.0</td>\n",
       "      <td>0.0</td>\n",
       "      <td>0.0</td>\n",
       "      <td>0.0</td>\n",
       "      <td>0.0</td>\n",
       "      <td>0.0</td>\n",
       "      <td>0.0</td>\n",
       "      <td>1.0</td>\n",
       "      <td>1.0</td>\n",
       "      <td>0.0</td>\n",
       "    </tr>\n",
       "    <tr>\n",
       "      <th>4</th>\n",
       "      <td>0.186095</td>\n",
       "      <td>0.509927</td>\n",
       "      <td>0.0</td>\n",
       "      <td>0.500</td>\n",
       "      <td>0.116052</td>\n",
       "      <td>0.0</td>\n",
       "      <td>0.333333</td>\n",
       "      <td>0.0</td>\n",
       "      <td>0.209760</td>\n",
       "      <td>0.000000</td>\n",
       "      <td>...</td>\n",
       "      <td>0.0</td>\n",
       "      <td>0.0</td>\n",
       "      <td>0.0</td>\n",
       "      <td>0.0</td>\n",
       "      <td>0.0</td>\n",
       "      <td>0.0</td>\n",
       "      <td>0.0</td>\n",
       "      <td>1.0</td>\n",
       "      <td>1.0</td>\n",
       "      <td>0.0</td>\n",
       "    </tr>\n",
       "  </tbody>\n",
       "</table>\n",
       "<p>5 rows × 232 columns</p>\n",
       "</div>"
      ],
      "text/plain": [
       "   1stFlrSF  2ndFlrSF  3SsnPorch  BedroomAbvGr  BsmtFinSF1  BsmtFinSF2  \\\n",
       "0  0.119780  0.413559        0.0         0.375    0.125089         0.0   \n",
       "1  0.212942  0.000000        0.0         0.375    0.173281         0.0   \n",
       "2  0.134465  0.419370        0.0         0.375    0.086109         0.0   \n",
       "3  0.143873  0.366102        0.0         0.375    0.038271         0.0   \n",
       "4  0.186095  0.509927        0.0         0.500    0.116052         0.0   \n",
       "\n",
       "   BsmtFullBath  BsmtHalfBath  BsmtUnfSF  EnclosedPorch  ...  SaleType_CWD  \\\n",
       "0      0.333333           0.0   0.064212       0.000000  ...           0.0   \n",
       "1      0.000000           0.5   0.121575       0.000000  ...           0.0   \n",
       "2      0.333333           0.0   0.185788       0.000000  ...           0.0   \n",
       "3      0.333333           0.0   0.231164       0.492754  ...           0.0   \n",
       "4      0.333333           0.0   0.209760       0.000000  ...           0.0   \n",
       "\n",
       "   SaleType_Con  SaleType_ConLD  SaleType_ConLI  SaleType_ConLw  SaleType_New  \\\n",
       "0           0.0             0.0             0.0             0.0           0.0   \n",
       "1           0.0             0.0             0.0             0.0           0.0   \n",
       "2           0.0             0.0             0.0             0.0           0.0   \n",
       "3           0.0             0.0             0.0             0.0           0.0   \n",
       "4           0.0             0.0             0.0             0.0           0.0   \n",
       "\n",
       "   SaleType_Oth  SaleType_WD  Street_Pave  Utilities_NoSeWa  \n",
       "0           0.0          1.0          1.0               0.0  \n",
       "1           0.0          1.0          1.0               0.0  \n",
       "2           0.0          1.0          1.0               0.0  \n",
       "3           0.0          1.0          1.0               0.0  \n",
       "4           0.0          1.0          1.0               0.0  \n",
       "\n",
       "[5 rows x 232 columns]"
      ]
     },
     "execution_count": 206,
     "metadata": {},
     "output_type": "execute_result"
    }
   ],
   "source": [
    "scaled_trainX = pd.DataFrame(data=scaler.transform(ftrain.drop(['SalePrice','Id'],axis=1))\n",
    "                            ,columns=ftest.columns.drop(['Id']))\n",
    "scaled_trainX.head()"
   ]
  },
  {
   "cell_type": "code",
   "execution_count": 207,
   "metadata": {},
   "outputs": [
    {
     "data": {
      "text/plain": [
       "(1460, 232)"
      ]
     },
     "execution_count": 207,
     "metadata": {},
     "output_type": "execute_result"
    }
   ],
   "source": [
    "scaled_trainX.shape"
   ]
  },
  {
   "cell_type": "code",
   "execution_count": 208,
   "metadata": {},
   "outputs": [
    {
     "data": {
      "text/plain": [
       "(1460,)"
      ]
     },
     "execution_count": 208,
     "metadata": {},
     "output_type": "execute_result"
    }
   ],
   "source": [
    "ftrain['SalePrice'].shape"
   ]
  },
  {
   "cell_type": "code",
   "execution_count": 209,
   "metadata": {},
   "outputs": [
    {
     "data": {
      "text/html": [
       "<div>\n",
       "<style scoped>\n",
       "    .dataframe tbody tr th:only-of-type {\n",
       "        vertical-align: middle;\n",
       "    }\n",
       "\n",
       "    .dataframe tbody tr th {\n",
       "        vertical-align: top;\n",
       "    }\n",
       "\n",
       "    .dataframe thead th {\n",
       "        text-align: right;\n",
       "    }\n",
       "</style>\n",
       "<table border=\"1\" class=\"dataframe\">\n",
       "  <thead>\n",
       "    <tr style=\"text-align: right;\">\n",
       "      <th></th>\n",
       "      <th>1stFlrSF</th>\n",
       "      <th>2ndFlrSF</th>\n",
       "      <th>3SsnPorch</th>\n",
       "      <th>BedroomAbvGr</th>\n",
       "      <th>BsmtFinSF1</th>\n",
       "      <th>BsmtFinSF2</th>\n",
       "      <th>BsmtFullBath</th>\n",
       "      <th>BsmtHalfBath</th>\n",
       "      <th>BsmtUnfSF</th>\n",
       "      <th>EnclosedPorch</th>\n",
       "      <th>...</th>\n",
       "      <th>SaleType_CWD</th>\n",
       "      <th>SaleType_Con</th>\n",
       "      <th>SaleType_ConLD</th>\n",
       "      <th>SaleType_ConLI</th>\n",
       "      <th>SaleType_ConLw</th>\n",
       "      <th>SaleType_New</th>\n",
       "      <th>SaleType_Oth</th>\n",
       "      <th>SaleType_WD</th>\n",
       "      <th>Street_Pave</th>\n",
       "      <th>Utilities_NoSeWa</th>\n",
       "    </tr>\n",
       "  </thead>\n",
       "  <tbody>\n",
       "    <tr>\n",
       "      <th>0</th>\n",
       "      <td>0.128958</td>\n",
       "      <td>0.000000</td>\n",
       "      <td>0.0</td>\n",
       "      <td>0.250</td>\n",
       "      <td>0.082920</td>\n",
       "      <td>0.097693</td>\n",
       "      <td>0.0</td>\n",
       "      <td>0.0</td>\n",
       "      <td>0.115582</td>\n",
       "      <td>0.0</td>\n",
       "      <td>...</td>\n",
       "      <td>0.0</td>\n",
       "      <td>0.0</td>\n",
       "      <td>0.0</td>\n",
       "      <td>0.0</td>\n",
       "      <td>0.0</td>\n",
       "      <td>0.0</td>\n",
       "      <td>0.0</td>\n",
       "      <td>1.0</td>\n",
       "      <td>1.0</td>\n",
       "      <td>0.0</td>\n",
       "    </tr>\n",
       "    <tr>\n",
       "      <th>1</th>\n",
       "      <td>0.228316</td>\n",
       "      <td>0.000000</td>\n",
       "      <td>0.0</td>\n",
       "      <td>0.375</td>\n",
       "      <td>0.163536</td>\n",
       "      <td>0.000000</td>\n",
       "      <td>0.0</td>\n",
       "      <td>0.0</td>\n",
       "      <td>0.173801</td>\n",
       "      <td>0.0</td>\n",
       "      <td>...</td>\n",
       "      <td>0.0</td>\n",
       "      <td>0.0</td>\n",
       "      <td>0.0</td>\n",
       "      <td>0.0</td>\n",
       "      <td>0.0</td>\n",
       "      <td>0.0</td>\n",
       "      <td>0.0</td>\n",
       "      <td>1.0</td>\n",
       "      <td>1.0</td>\n",
       "      <td>0.0</td>\n",
       "    </tr>\n",
       "    <tr>\n",
       "      <th>2</th>\n",
       "      <td>0.136301</td>\n",
       "      <td>0.339467</td>\n",
       "      <td>0.0</td>\n",
       "      <td>0.375</td>\n",
       "      <td>0.140149</td>\n",
       "      <td>0.000000</td>\n",
       "      <td>0.0</td>\n",
       "      <td>0.0</td>\n",
       "      <td>0.058647</td>\n",
       "      <td>0.0</td>\n",
       "      <td>...</td>\n",
       "      <td>0.0</td>\n",
       "      <td>0.0</td>\n",
       "      <td>0.0</td>\n",
       "      <td>0.0</td>\n",
       "      <td>0.0</td>\n",
       "      <td>0.0</td>\n",
       "      <td>0.0</td>\n",
       "      <td>1.0</td>\n",
       "      <td>1.0</td>\n",
       "      <td>0.0</td>\n",
       "    </tr>\n",
       "    <tr>\n",
       "      <th>3</th>\n",
       "      <td>0.135842</td>\n",
       "      <td>0.328329</td>\n",
       "      <td>0.0</td>\n",
       "      <td>0.375</td>\n",
       "      <td>0.106662</td>\n",
       "      <td>0.000000</td>\n",
       "      <td>0.0</td>\n",
       "      <td>0.0</td>\n",
       "      <td>0.138699</td>\n",
       "      <td>0.0</td>\n",
       "      <td>...</td>\n",
       "      <td>0.0</td>\n",
       "      <td>0.0</td>\n",
       "      <td>0.0</td>\n",
       "      <td>0.0</td>\n",
       "      <td>0.0</td>\n",
       "      <td>0.0</td>\n",
       "      <td>0.0</td>\n",
       "      <td>1.0</td>\n",
       "      <td>1.0</td>\n",
       "      <td>0.0</td>\n",
       "    </tr>\n",
       "    <tr>\n",
       "      <th>4</th>\n",
       "      <td>0.217072</td>\n",
       "      <td>0.000000</td>\n",
       "      <td>0.0</td>\n",
       "      <td>0.250</td>\n",
       "      <td>0.046598</td>\n",
       "      <td>0.000000</td>\n",
       "      <td>0.0</td>\n",
       "      <td>0.0</td>\n",
       "      <td>0.435360</td>\n",
       "      <td>0.0</td>\n",
       "      <td>...</td>\n",
       "      <td>0.0</td>\n",
       "      <td>0.0</td>\n",
       "      <td>0.0</td>\n",
       "      <td>0.0</td>\n",
       "      <td>0.0</td>\n",
       "      <td>0.0</td>\n",
       "      <td>0.0</td>\n",
       "      <td>1.0</td>\n",
       "      <td>1.0</td>\n",
       "      <td>0.0</td>\n",
       "    </tr>\n",
       "  </tbody>\n",
       "</table>\n",
       "<p>5 rows × 232 columns</p>\n",
       "</div>"
      ],
      "text/plain": [
       "   1stFlrSF  2ndFlrSF  3SsnPorch  BedroomAbvGr  BsmtFinSF1  BsmtFinSF2  \\\n",
       "0  0.128958  0.000000        0.0         0.250    0.082920    0.097693   \n",
       "1  0.228316  0.000000        0.0         0.375    0.163536    0.000000   \n",
       "2  0.136301  0.339467        0.0         0.375    0.140149    0.000000   \n",
       "3  0.135842  0.328329        0.0         0.375    0.106662    0.000000   \n",
       "4  0.217072  0.000000        0.0         0.250    0.046598    0.000000   \n",
       "\n",
       "   BsmtFullBath  BsmtHalfBath  BsmtUnfSF  EnclosedPorch  ...  SaleType_CWD  \\\n",
       "0           0.0           0.0   0.115582            0.0  ...           0.0   \n",
       "1           0.0           0.0   0.173801            0.0  ...           0.0   \n",
       "2           0.0           0.0   0.058647            0.0  ...           0.0   \n",
       "3           0.0           0.0   0.138699            0.0  ...           0.0   \n",
       "4           0.0           0.0   0.435360            0.0  ...           0.0   \n",
       "\n",
       "   SaleType_Con  SaleType_ConLD  SaleType_ConLI  SaleType_ConLw  SaleType_New  \\\n",
       "0           0.0             0.0             0.0             0.0           0.0   \n",
       "1           0.0             0.0             0.0             0.0           0.0   \n",
       "2           0.0             0.0             0.0             0.0           0.0   \n",
       "3           0.0             0.0             0.0             0.0           0.0   \n",
       "4           0.0             0.0             0.0             0.0           0.0   \n",
       "\n",
       "   SaleType_Oth  SaleType_WD  Street_Pave  Utilities_NoSeWa  \n",
       "0           0.0          1.0          1.0               0.0  \n",
       "1           0.0          1.0          1.0               0.0  \n",
       "2           0.0          1.0          1.0               0.0  \n",
       "3           0.0          1.0          1.0               0.0  \n",
       "4           0.0          1.0          1.0               0.0  \n",
       "\n",
       "[5 rows x 232 columns]"
      ]
     },
     "execution_count": 209,
     "metadata": {},
     "output_type": "execute_result"
    }
   ],
   "source": [
    "scaled_test = pd.DataFrame(data=scaler.transform(ftest.drop(['Id'],axis=1)),columns=ftest.columns.drop(['Id']))\n",
    "scaled_test.head()"
   ]
  },
  {
   "cell_type": "markdown",
   "metadata": {},
   "source": [
    "### Making one validation set (30%) for testing our model"
   ]
  },
  {
   "cell_type": "code",
   "execution_count": 210,
   "metadata": {},
   "outputs": [],
   "source": [
    "from sklearn.model_selection import train_test_split\n",
    "X=scaled_trainX\n",
    "y=ftrain['SalePrice']\n",
    "X_train, X_test, y_train, y_test = train_test_split(X, y, test_size=0.3, random_state=108)"
   ]
  },
  {
   "cell_type": "markdown",
   "metadata": {},
   "source": [
    "## Testing & Selecting ML Models\n",
    "\n",
    "### 01 : Using Linear Regression"
   ]
  },
  {
   "cell_type": "code",
   "execution_count": 211,
   "metadata": {},
   "outputs": [],
   "source": [
    "from sklearn.linear_model import LinearRegression"
   ]
  },
  {
   "cell_type": "code",
   "execution_count": 212,
   "metadata": {},
   "outputs": [],
   "source": [
    "lm = LinearRegression()"
   ]
  },
  {
   "cell_type": "code",
   "execution_count": 213,
   "metadata": {},
   "outputs": [
    {
     "data": {
      "text/plain": [
       "LinearRegression(copy_X=True, fit_intercept=True, n_jobs=None, normalize=False)"
      ]
     },
     "execution_count": 213,
     "metadata": {},
     "output_type": "execute_result"
    }
   ],
   "source": [
    "lm.fit(X_train,y_train)"
   ]
  },
  {
   "cell_type": "code",
   "execution_count": 214,
   "metadata": {},
   "outputs": [],
   "source": [
    "# Prediction\n",
    "prediction = lm.predict(X_test)"
   ]
  },
  {
   "cell_type": "markdown",
   "metadata": {},
   "source": [
    "##### Testing accuracy using **RMSE** "
   ]
  },
  {
   "cell_type": "code",
   "execution_count": 215,
   "metadata": {},
   "outputs": [],
   "source": [
    "from sklearn import metrics"
   ]
  },
  {
   "cell_type": "code",
   "execution_count": 216,
   "metadata": {},
   "outputs": [
    {
     "data": {
      "text/plain": [
       "27378.92958159793"
      ]
     },
     "execution_count": 216,
     "metadata": {},
     "output_type": "execute_result"
    }
   ],
   "source": [
    "metrics.mean_squared_error(y_test,prediction)**(1/2)"
   ]
  },
  {
   "cell_type": "markdown",
   "metadata": {},
   "source": [
    "### 02 : Using Logistic Regression"
   ]
  },
  {
   "cell_type": "code",
   "execution_count": 217,
   "metadata": {},
   "outputs": [],
   "source": [
    "from sklearn.linear_model import LogisticRegression"
   ]
  },
  {
   "cell_type": "code",
   "execution_count": 218,
   "metadata": {},
   "outputs": [],
   "source": [
    "logmodel = LogisticRegression()"
   ]
  },
  {
   "cell_type": "code",
   "execution_count": 219,
   "metadata": {},
   "outputs": [
    {
     "name": "stderr",
     "output_type": "stream",
     "text": [
      "C:\\Users\\Subham\\Anaconda3\\lib\\site-packages\\sklearn\\linear_model\\logistic.py:432: FutureWarning: Default solver will be changed to 'lbfgs' in 0.22. Specify a solver to silence this warning.\n",
      "  FutureWarning)\n",
      "C:\\Users\\Subham\\Anaconda3\\lib\\site-packages\\sklearn\\linear_model\\logistic.py:469: FutureWarning: Default multi_class will be changed to 'auto' in 0.22. Specify the multi_class option to silence this warning.\n",
      "  \"this warning.\", FutureWarning)\n"
     ]
    },
    {
     "data": {
      "text/plain": [
       "LogisticRegression(C=1.0, class_weight=None, dual=False, fit_intercept=True,\n",
       "                   intercept_scaling=1, l1_ratio=None, max_iter=100,\n",
       "                   multi_class='warn', n_jobs=None, penalty='l2',\n",
       "                   random_state=None, solver='warn', tol=0.0001, verbose=0,\n",
       "                   warm_start=False)"
      ]
     },
     "execution_count": 219,
     "metadata": {},
     "output_type": "execute_result"
    }
   ],
   "source": [
    "logmodel.fit(X_train,y_train)"
   ]
  },
  {
   "cell_type": "code",
   "execution_count": 220,
   "metadata": {},
   "outputs": [],
   "source": [
    "prediction = logmodel.predict(X_test)"
   ]
  },
  {
   "cell_type": "code",
   "execution_count": 221,
   "metadata": {},
   "outputs": [
    {
     "data": {
      "text/plain": [
       "51413.0001582893"
      ]
     },
     "execution_count": 221,
     "metadata": {},
     "output_type": "execute_result"
    }
   ],
   "source": [
    "metrics.mean_squared_error(y_test,prediction)**(1/2)"
   ]
  },
  {
   "cell_type": "markdown",
   "metadata": {},
   "source": [
    "**Conclusion:** Linear regression is working better\n",
    "\n",
    "### 03 : Using K-NN Regression"
   ]
  },
  {
   "cell_type": "code",
   "execution_count": 222,
   "metadata": {},
   "outputs": [],
   "source": [
    "from sklearn.neighbors import KNeighborsRegressor"
   ]
  },
  {
   "cell_type": "markdown",
   "metadata": {},
   "source": [
    "       **All possible values of neighbours**"
   ]
  },
  {
   "cell_type": "code",
   "execution_count": 223,
   "metadata": {},
   "outputs": [],
   "source": [
    "rmse = []\n",
    "for neighbours in range(1,100):\n",
    "    \n",
    "    knn = KNeighborsRegressor(n_neighbors=neighbours)\n",
    "    knn.fit(X_train,y_train)\n",
    "    prediction = knn.predict(X_test)\n",
    "    rmse.append(metrics.mean_squared_error(y_test,prediction)**(1/2))"
   ]
  },
  {
   "cell_type": "code",
   "execution_count": 224,
   "metadata": {},
   "outputs": [
    {
     "data": {
      "text/plain": [
       "Text(0, 0.5, 'Error Rate')"
      ]
     },
     "execution_count": 224,
     "metadata": {},
     "output_type": "execute_result"
    },
    {
     "data": {
      "image/png": "[encoded data removed]",
      "text/plain": [
       "<Figure size 720x432 with 1 Axes>"
      ]
     },
     "metadata": {
      "needs_background": "light"
     },
     "output_type": "display_data"
    }
   ],
   "source": [
    "plt.figure(figsize=(10,6))\n",
    "plt.plot(range(1,100),rmse,color='blue', linestyle='dashed', marker='o',\n",
    "         markerfacecolor='red', markersize=10)\n",
    "plt.title('Error Rate vs. K Value')\n",
    "plt.xlabel('K')\n",
    "plt.ylabel('Error Rate')"
   ]
  },
  {
   "cell_type": "markdown",
   "metadata": {},
   "source": [
    "#### Looking at this plot the value of n=15 is appropiate"
   ]
  },
  {
   "cell_type": "code",
   "execution_count": 233,
   "metadata": {},
   "outputs": [],
   "source": [
    "# n=15\n",
    "knn = KNeighborsRegressor(n_neighbors=15)"
   ]
  },
  {
   "cell_type": "code",
   "execution_count": 234,
   "metadata": {},
   "outputs": [
    {
     "data": {
      "text/plain": [
       "KNeighborsRegressor(algorithm='auto', leaf_size=30, metric='minkowski',\n",
       "                    metric_params=None, n_jobs=None, n_neighbors=15, p=2,\n",
       "                    weights='uniform')"
      ]
     },
     "execution_count": 234,
     "metadata": {},
     "output_type": "execute_result"
    }
   ],
   "source": [
    "knn.fit(X_train,y_train)"
   ]
  },
  {
   "cell_type": "code",
   "execution_count": 235,
   "metadata": {},
   "outputs": [],
   "source": [
    "prediction = knn.predict(X_test)"
   ]
  },
  {
   "cell_type": "code",
   "execution_count": 236,
   "metadata": {},
   "outputs": [
    {
     "data": {
      "text/plain": [
       "43341.29050296653"
      ]
     },
     "execution_count": 236,
     "metadata": {},
     "output_type": "execute_result"
    }
   ],
   "source": [
    "metrics.mean_squared_error(y_test,prediction)**(1/2)"
   ]
  },
  {
   "cell_type": "markdown",
   "metadata": {},
   "source": [
    "### 04 : Using Decision Tree Regression"
   ]
  },
  {
   "cell_type": "code",
   "execution_count": 51,
   "metadata": {},
   "outputs": [],
   "source": [
    "from sklearn.tree import DecisionTreeRegressor"
   ]
  },
  {
   "cell_type": "code",
   "execution_count": 52,
   "metadata": {},
   "outputs": [],
   "source": [
    "dtree = DecisionTreeRegressor()"
   ]
  },
  {
   "cell_type": "code",
   "execution_count": 53,
   "metadata": {},
   "outputs": [
    {
     "data": {
      "text/plain": [
       "DecisionTreeRegressor(criterion='mse', max_depth=None, max_features=None,\n",
       "                      max_leaf_nodes=None, min_impurity_decrease=0.0,\n",
       "                      min_impurity_split=None, min_samples_leaf=1,\n",
       "                      min_samples_split=2, min_weight_fraction_leaf=0.0,\n",
       "                      presort=False, random_state=None, splitter='best')"
      ]
     },
     "execution_count": 53,
     "metadata": {},
     "output_type": "execute_result"
    }
   ],
   "source": [
    "dtree.fit(X_train,y_train)"
   ]
  },
  {
   "cell_type": "code",
   "execution_count": 54,
   "metadata": {},
   "outputs": [],
   "source": [
    "prediction = dtree.predict(X_test)"
   ]
  },
  {
   "cell_type": "code",
   "execution_count": 55,
   "metadata": {},
   "outputs": [
    {
     "data": {
      "text/plain": [
       "42866.67279012789"
      ]
     },
     "execution_count": 55,
     "metadata": {},
     "output_type": "execute_result"
    }
   ],
   "source": [
    "metrics.mean_squared_error(y_test,prediction)**(1/2)"
   ]
  },
  {
   "cell_type": "markdown",
   "metadata": {},
   "source": [
    "### 05 : Using Random Forest Regression"
   ]
  },
  {
   "cell_type": "code",
   "execution_count": 56,
   "metadata": {},
   "outputs": [],
   "source": [
    "from sklearn.ensemble import RandomForestRegressor"
   ]
  },
  {
   "cell_type": "code",
   "execution_count": 57,
   "metadata": {},
   "outputs": [],
   "source": [
    "rfc = RandomForestRegressor()"
   ]
  },
  {
   "cell_type": "code",
   "execution_count": 58,
   "metadata": {},
   "outputs": [
    {
     "name": "stderr",
     "output_type": "stream",
     "text": [
      "C:\\Users\\Subham\\Anaconda3\\lib\\site-packages\\sklearn\\ensemble\\forest.py:245: FutureWarning: The default value of n_estimators will change from 10 in version 0.20 to 100 in 0.22.\n",
      "  \"10 in version 0.20 to 100 in 0.22.\", FutureWarning)\n"
     ]
    },
    {
     "data": {
      "text/plain": [
       "RandomForestRegressor(bootstrap=True, criterion='mse', max_depth=None,\n",
       "                      max_features='auto', max_leaf_nodes=None,\n",
       "                      min_impurity_decrease=0.0, min_impurity_split=None,\n",
       "                      min_samples_leaf=1, min_samples_split=2,\n",
       "                      min_weight_fraction_leaf=0.0, n_estimators=10,\n",
       "                      n_jobs=None, oob_score=False, random_state=None,\n",
       "                      verbose=0, warm_start=False)"
      ]
     },
     "execution_count": 58,
     "metadata": {},
     "output_type": "execute_result"
    }
   ],
   "source": [
    "rfc.fit(X_train,y_train)"
   ]
  },
  {
   "cell_type": "code",
   "execution_count": 59,
   "metadata": {},
   "outputs": [],
   "source": [
    "prediction = rfc.predict(X_test)"
   ]
  },
  {
   "cell_type": "code",
   "execution_count": 60,
   "metadata": {},
   "outputs": [
    {
     "data": {
      "text/plain": [
       "29738.927588837705"
      ]
     },
     "execution_count": 60,
     "metadata": {},
     "output_type": "execute_result"
    }
   ],
   "source": [
    "metrics.mean_squared_error(y_test,prediction)**(1/2)"
   ]
  },
  {
   "cell_type": "markdown",
   "metadata": {},
   "source": [
    "### 06 : Using AdaBoost"
   ]
  },
  {
   "cell_type": "code",
   "execution_count": 61,
   "metadata": {},
   "outputs": [],
   "source": [
    "from sklearn.ensemble import AdaBoostRegressor"
   ]
  },
  {
   "cell_type": "code",
   "execution_count": 62,
   "metadata": {},
   "outputs": [],
   "source": [
    "ab = AdaBoostRegressor(n_estimators=50, learning_rate=1.0, loss='linear')"
   ]
  },
  {
   "cell_type": "code",
   "execution_count": 63,
   "metadata": {},
   "outputs": [
    {
     "data": {
      "text/plain": [
       "AdaBoostRegressor(base_estimator=None, learning_rate=1.0, loss='linear',\n",
       "                  n_estimators=50, random_state=None)"
      ]
     },
     "execution_count": 63,
     "metadata": {},
     "output_type": "execute_result"
    }
   ],
   "source": [
    "ab.fit(X_train,y_train)"
   ]
  },
  {
   "cell_type": "code",
   "execution_count": 64,
   "metadata": {},
   "outputs": [],
   "source": [
    "prediction = ab.predict(X_test)"
   ]
  },
  {
   "cell_type": "code",
   "execution_count": 65,
   "metadata": {},
   "outputs": [
    {
     "data": {
      "text/plain": [
       "35257.4828358666"
      ]
     },
     "execution_count": 65,
     "metadata": {},
     "output_type": "execute_result"
    }
   ],
   "source": [
    "metrics.mean_squared_error(y_test,prediction)**(1/2)"
   ]
  },
  {
   "cell_type": "markdown",
   "metadata": {},
   "source": [
    "### 07 : Using BaggingRegressor"
   ]
  },
  {
   "cell_type": "code",
   "execution_count": 66,
   "metadata": {},
   "outputs": [],
   "source": [
    "from sklearn.ensemble import BaggingRegressor"
   ]
  },
  {
   "cell_type": "code",
   "execution_count": 67,
   "metadata": {},
   "outputs": [],
   "source": [
    "br = BaggingRegressor()"
   ]
  },
  {
   "cell_type": "code",
   "execution_count": 68,
   "metadata": {},
   "outputs": [
    {
     "data": {
      "text/plain": [
       "BaggingRegressor(base_estimator=None, bootstrap=True, bootstrap_features=False,\n",
       "                 max_features=1.0, max_samples=1.0, n_estimators=10,\n",
       "                 n_jobs=None, oob_score=False, random_state=None, verbose=0,\n",
       "                 warm_start=False)"
      ]
     },
     "execution_count": 68,
     "metadata": {},
     "output_type": "execute_result"
    }
   ],
   "source": [
    "br.fit(X_train,y_train)"
   ]
  },
  {
   "cell_type": "code",
   "execution_count": 69,
   "metadata": {},
   "outputs": [],
   "source": [
    "prediction = br.predict(X_test)"
   ]
  },
  {
   "cell_type": "code",
   "execution_count": 70,
   "metadata": {},
   "outputs": [
    {
     "data": {
      "text/plain": [
       "28028.457781940862"
      ]
     },
     "execution_count": 70,
     "metadata": {},
     "output_type": "execute_result"
    }
   ],
   "source": [
    "metrics.mean_squared_error(y_test,prediction)**(1/2)\n",
    "\n",
    "## Close enough to linear regressor"
   ]
  },
  {
   "cell_type": "markdown",
   "metadata": {},
   "source": [
    "### 07 : Using GradientBoostingRegressor"
   ]
  },
  {
   "cell_type": "code",
   "execution_count": 71,
   "metadata": {},
   "outputs": [],
   "source": [
    "from sklearn.ensemble import GradientBoostingRegressor"
   ]
  },
  {
   "cell_type": "code",
   "execution_count": 72,
   "metadata": {},
   "outputs": [],
   "source": [
    "gb = GradientBoostingRegressor()"
   ]
  },
  {
   "cell_type": "code",
   "execution_count": 73,
   "metadata": {},
   "outputs": [
    {
     "data": {
      "text/plain": [
       "GradientBoostingRegressor(alpha=0.9, criterion='friedman_mse', init=None,\n",
       "                          learning_rate=0.1, loss='ls', max_depth=3,\n",
       "                          max_features=None, max_leaf_nodes=None,\n",
       "                          min_impurity_decrease=0.0, min_impurity_split=None,\n",
       "                          min_samples_leaf=1, min_samples_split=2,\n",
       "                          min_weight_fraction_leaf=0.0, n_estimators=100,\n",
       "                          n_iter_no_change=None, presort='auto',\n",
       "                          random_state=None, subsample=1.0, tol=0.0001,\n",
       "                          validation_fraction=0.1, verbose=0, warm_start=False)"
      ]
     },
     "execution_count": 73,
     "metadata": {},
     "output_type": "execute_result"
    }
   ],
   "source": [
    "gb.fit(X_train,y_train)"
   ]
  },
  {
   "cell_type": "code",
   "execution_count": 74,
   "metadata": {},
   "outputs": [],
   "source": [
    "prediction = gb.predict(X_test)"
   ]
  },
  {
   "cell_type": "code",
   "execution_count": 75,
   "metadata": {},
   "outputs": [
    {
     "data": {
      "text/plain": [
       "25424.153461633316"
      ]
     },
     "execution_count": 75,
     "metadata": {},
     "output_type": "execute_result"
    }
   ],
   "source": [
    "metrics.mean_squared_error(y_test,prediction)**(1/2)\n",
    "# Best so far"
   ]
  },
  {
   "cell_type": "markdown",
   "metadata": {},
   "source": [
    "### 08 : Using Ridge Regression - Linear Model\n",
    "It penalizes L2 norm"
   ]
  },
  {
   "cell_type": "code",
   "execution_count": 76,
   "metadata": {},
   "outputs": [],
   "source": [
    "from sklearn.linear_model import Ridge"
   ]
  },
  {
   "cell_type": "code",
   "execution_count": 77,
   "metadata": {},
   "outputs": [],
   "source": [
    "ridge = Ridge() # alpha=0.1 default"
   ]
  },
  {
   "cell_type": "code",
   "execution_count": 78,
   "metadata": {},
   "outputs": [
    {
     "data": {
      "text/plain": [
       "29995.00875247804"
      ]
     },
     "execution_count": 78,
     "metadata": {},
     "output_type": "execute_result"
    }
   ],
   "source": [
    "ridge.fit(X_train,y_train)\n",
    "prediction = ridge.predict(X_test)\n",
    "metrics.mean_squared_error(y_test,prediction)**(1/2)\n",
    "\n",
    "## Not as good"
   ]
  },
  {
   "cell_type": "markdown",
   "metadata": {},
   "source": [
    "##### Adjusting **Alpha** parameter -\n",
    "Increasing Alpha forces coeffs to move towards zero, which decreases training set performance.\n",
    "\n",
    "Decreasing Alpha reduces underfitting.\n",
    "\n",
    "**alpha=10**"
   ]
  },
  {
   "cell_type": "code",
   "execution_count": 79,
   "metadata": {},
   "outputs": [
    {
     "data": {
      "text/plain": [
       "29144.027661803793"
      ]
     },
     "execution_count": 79,
     "metadata": {},
     "output_type": "execute_result"
    }
   ],
   "source": [
    "ridge = Ridge(alpha=10)\n",
    "\n",
    "ridge.fit(X_train,y_train)\n",
    "prediction = ridge.predict(X_test)\n",
    "metrics.mean_squared_error(y_test,prediction)**(1/2)\n",
    "## lil bit improvement"
   ]
  },
  {
   "cell_type": "markdown",
   "metadata": {},
   "source": [
    "**alpha=1**"
   ]
  },
  {
   "cell_type": "code",
   "execution_count": 80,
   "metadata": {},
   "outputs": [
    {
     "data": {
      "text/plain": [
       "29995.00875247804"
      ]
     },
     "execution_count": 80,
     "metadata": {},
     "output_type": "execute_result"
    }
   ],
   "source": [
    "ridge = Ridge(alpha=1)\n",
    "\n",
    "ridge.fit(X_train,y_train)\n",
    "prediction = ridge.predict(X_test)\n",
    "metrics.mean_squared_error(y_test,prediction)**(1/2)"
   ]
  },
  {
   "cell_type": "markdown",
   "metadata": {},
   "source": [
    "### 09 : Using Lasso\n",
    "\n",
    "Automatic feature selection - Eliminates many columns"
   ]
  },
  {
   "cell_type": "code",
   "execution_count": 81,
   "metadata": {},
   "outputs": [],
   "source": [
    "from sklearn.linear_model import Lasso"
   ]
  },
  {
   "cell_type": "code",
   "execution_count": 82,
   "metadata": {},
   "outputs": [],
   "source": [
    "lasso = Lasso()"
   ]
  },
  {
   "cell_type": "code",
   "execution_count": 83,
   "metadata": {},
   "outputs": [
    {
     "name": "stderr",
     "output_type": "stream",
     "text": [
      "C:\\Users\\Subham\\Anaconda3\\lib\\site-packages\\sklearn\\linear_model\\coordinate_descent.py:475: ConvergenceWarning: Objective did not converge. You might want to increase the number of iterations. Duality gap: 10142374133.901062, tolerance: 674022315.7322047\n",
      "  positive)\n"
     ]
    },
    {
     "data": {
      "text/plain": [
       "27406.88104796211"
      ]
     },
     "execution_count": 83,
     "metadata": {},
     "output_type": "execute_result"
    }
   ],
   "source": [
    "lasso.fit(X_train,y_train)\n",
    "prediction = lasso.predict(X_test)\n",
    "metrics.mean_squared_error(y_test,prediction)**(1/2)"
   ]
  },
  {
   "cell_type": "code",
   "execution_count": 84,
   "metadata": {},
   "outputs": [
    {
     "name": "stdout",
     "output_type": "stream",
     "text": [
      "Training score: 0.9359281417501445\n",
      "Test score: 0.8666298953222715\n",
      "No. of feats: 226\n"
     ]
    }
   ],
   "source": [
    "print(f'Training score: {lasso.score(X_train,y_train)}')\n",
    "print(f'Test score: {lasso.score(X_test,y_test)}')\n",
    "\n",
    "print(f'No. of feats: {np.sum(lasso.coef_!=0)}')\n",
    "## No of feats used 226/233"
   ]
  },
  {
   "cell_type": "markdown",
   "metadata": {},
   "source": [
    "Adjsting alpha:"
   ]
  },
  {
   "cell_type": "code",
   "execution_count": 85,
   "metadata": {},
   "outputs": [
    {
     "name": "stderr",
     "output_type": "stream",
     "text": [
      "C:\\Users\\Subham\\Anaconda3\\lib\\site-packages\\sklearn\\linear_model\\coordinate_descent.py:475: ConvergenceWarning: Objective did not converge. You might want to increase the number of iterations. Duality gap: 2996245853.689575, tolerance: 674022315.7322047\n",
      "  positive)\n"
     ]
    },
    {
     "data": {
      "text/plain": [
       "27602.1451617799"
      ]
     },
     "execution_count": 85,
     "metadata": {},
     "output_type": "execute_result"
    }
   ],
   "source": [
    "lasso = Lasso(alpha=0.01, max_iter=100000)\n",
    "\n",
    "lasso.fit(X_train,y_train)\n",
    "prediction = lasso.predict(X_test)\n",
    "metrics.mean_squared_error(y_test,prediction)**(1/2)"
   ]
  },
  {
   "cell_type": "code",
   "execution_count": 86,
   "metadata": {},
   "outputs": [
    {
     "name": "stdout",
     "output_type": "stream",
     "text": [
      "Training score: 0.9359995821368624\n",
      "Test score: 0.8647226978869151\n",
      "No. of feats: 227\n"
     ]
    }
   ],
   "source": [
    "print(f'Training score: {lasso.score(X_train,y_train)}')\n",
    "print(f'Test score: {lasso.score(X_test,y_test)}')\n",
    "\n",
    "print(f'No. of feats: {np.sum(lasso.coef_!=0)}')"
   ]
  },
  {
   "cell_type": "markdown",
   "metadata": {},
   "source": [
    "### 10 : TensorFlow Regression - DNN"
   ]
  },
  {
   "cell_type": "code",
   "execution_count": 87,
   "metadata": {},
   "outputs": [
    {
     "data": {
      "text/plain": [
       "float64    233\n",
       "dtype: int64"
      ]
     },
     "execution_count": 87,
     "metadata": {},
     "output_type": "execute_result"
    }
   ],
   "source": [
    "# Checking dtypes of the fetures\n",
    "X_train.dtypes.value_counts()"
   ]
  },
  {
   "cell_type": "markdown",
   "metadata": {},
   "source": [
    "##### All dtypes belong to float\n",
    "\n",
    "Model feature columns will be modified later by implementing keras and TF2.0\n"
   ]
  },
  {
   "cell_type": "code",
   "execution_count": 88,
   "metadata": {},
   "outputs": [],
   "source": [
    "feat_col = []\n",
    "for col in X_train.columns:\n",
    "    feat_col.append(tf.feature_column.numeric_column(col))"
   ]
  },
  {
   "cell_type": "markdown",
   "metadata": {},
   "source": [
    "#### Input Function:"
   ]
  },
  {
   "cell_type": "code",
   "execution_count": 98,
   "metadata": {},
   "outputs": [],
   "source": [
    "ip_train = tf.estimator.inputs.pandas_input_fn(x=X_train.reset_index(drop=True),\n",
    "                                               y=y_train.reset_index(drop=True),\n",
    "                                               batch_size=18,num_epochs=1000,shuffle=True)\n",
    "\n",
    "# Index reset due to mismatch error"
   ]
  },
  {
   "cell_type": "markdown",
   "metadata": {},
   "source": [
    "#### Creating Model:"
   ]
  },
  {
   "cell_type": "code",
   "execution_count": 99,
   "metadata": {},
   "outputs": [
    {
     "name": "stdout",
     "output_type": "stream",
     "text": [
      "INFO:tensorflow:Using default config.\n",
      "WARNING:tensorflow:Using temporary folder as model directory: C:\\Users\\Subham\\AppData\\Local\\Temp\\tmpu6fhla04\n",
      "INFO:tensorflow:Using config: {'_model_dir': 'C:\\\\Users\\\\Subham\\\\AppData\\\\Local\\\\Temp\\\\tmpu6fhla04', '_tf_random_seed': None, '_save_summary_steps': 100, '_save_checkpoints_steps': None, '_save_checkpoints_secs': 600, '_session_config': allow_soft_placement: true\n",
      "graph_options {\n",
      "  rewrite_options {\n",
      "    meta_optimizer_iterations: ONE\n",
      "  }\n",
      "}\n",
      ", '_keep_checkpoint_max': 5, '_keep_checkpoint_every_n_hours': 10000, '_log_step_count_steps': 100, '_train_distribute': None, '_device_fn': None, '_protocol': None, '_eval_distribute': None, '_experimental_distribute': None, '_service': None, '_cluster_spec': <tensorflow.python.training.server_lib.ClusterSpec object at 0x000002663B04A2B0>, '_task_type': 'worker', '_task_id': 0, '_global_id_in_cluster': 0, '_master': '', '_evaluation_master': '', '_is_chief': True, '_num_ps_replicas': 0, '_num_worker_replicas': 1}\n"
     ]
    }
   ],
   "source": [
    "model = tf.estimator.DNNRegressor(hidden_units=[9,18,108,51,18], feature_columns=feat_col)"
   ]
  },
  {
   "cell_type": "code",
   "execution_count": 100,
   "metadata": {},
   "outputs": [
    {
     "name": "stdout",
     "output_type": "stream",
     "text": [
      "INFO:tensorflow:Calling model_fn.\n",
      "INFO:tensorflow:Done calling model_fn.\n",
      "INFO:tensorflow:Create CheckpointSaverHook.\n",
      "INFO:tensorflow:Graph was finalized.\n",
      "INFO:tensorflow:Running local_init_op.\n",
      "INFO:tensorflow:Done running local_init_op.\n",
      "WARNING:tensorflow:From C:\\Users\\Subham\\Anaconda3\\lib\\site-packages\\tensorflow\\python\\training\\monitored_session.py:809: start_queue_runners (from tensorflow.python.training.queue_runner_impl) is deprecated and will be removed in a future version.\n",
      "Instructions for updating:\n",
      "To construct input pipelines, use the `tf.data` module.\n",
      "INFO:tensorflow:Saving checkpoints for 0 into C:\\Users\\Subham\\AppData\\Local\\Temp\\tmpu6fhla04\\model.ckpt.\n",
      "INFO:tensorflow:loss = 879520500000.0, step = 1\n",
      "INFO:tensorflow:global_step/sec: 71.965\n",
      "INFO:tensorflow:loss = 33328126000.0, step = 101 (1.374 sec)\n",
      "INFO:tensorflow:global_step/sec: 72.8518\n",
      "INFO:tensorflow:loss = 12006653000.0, step = 201 (1.373 sec)\n",
      "INFO:tensorflow:global_step/sec: 75.8043\n",
      "INFO:tensorflow:loss = 13749663000.0, step = 301 (1.319 sec)\n",
      "INFO:tensorflow:global_step/sec: 76.6872\n",
      "INFO:tensorflow:loss = 7292382700.0, step = 401 (1.304 sec)\n",
      "INFO:tensorflow:global_step/sec: 78.5857\n",
      "INFO:tensorflow:loss = 23694524000.0, step = 501 (1.288 sec)\n",
      "INFO:tensorflow:global_step/sec: 76.7129\n",
      "INFO:tensorflow:loss = 16087281000.0, step = 601 (1.304 sec)\n",
      "INFO:tensorflow:global_step/sec: 72.8591\n",
      "INFO:tensorflow:loss = 15008627000.0, step = 701 (1.357 sec)\n",
      "INFO:tensorflow:global_step/sec: 76.721\n",
      "INFO:tensorflow:loss = 4206294500.0, step = 801 (1.303 sec)\n",
      "INFO:tensorflow:global_step/sec: 75.8091\n",
      "INFO:tensorflow:loss = 11083096000.0, step = 901 (1.319 sec)\n",
      "INFO:tensorflow:global_step/sec: 74.9093\n",
      "INFO:tensorflow:loss = 7221927000.0, step = 1001 (1.351 sec)\n",
      "INFO:tensorflow:global_step/sec: 72.8396\n",
      "INFO:tensorflow:loss = 4144250600.0, step = 1101 (1.357 sec)\n",
      "INFO:tensorflow:global_step/sec: 74.9057\n",
      "INFO:tensorflow:loss = 8741725000.0, step = 1201 (1.335 sec)\n",
      "INFO:tensorflow:global_step/sec: 76.7311\n",
      "INFO:tensorflow:loss = 5338107000.0, step = 1301 (1.303 sec)\n",
      "INFO:tensorflow:global_step/sec: 76.7129\n",
      "INFO:tensorflow:loss = 15531049000.0, step = 1401 (1.304 sec)\n",
      "INFO:tensorflow:global_step/sec: 72.8516\n",
      "INFO:tensorflow:loss = 81893120000.0, step = 1501 (1.388 sec)\n",
      "INFO:tensorflow:global_step/sec: 75.7948\n",
      "INFO:tensorflow:loss = 1855204100.0, step = 1601 (1.304 sec)\n",
      "INFO:tensorflow:global_step/sec: 77.6423\n",
      "INFO:tensorflow:loss = 72659935000.0, step = 1701 (1.288 sec)\n",
      "INFO:tensorflow:global_step/sec: 76.7102\n",
      "INFO:tensorflow:loss = 8437055500.0, step = 1801 (1.304 sec)\n",
      "INFO:tensorflow:global_step/sec: 76.7204\n",
      "INFO:tensorflow:loss = 7052738600.0, step = 1901 (1.303 sec)\n",
      "INFO:tensorflow:global_step/sec: 73.207\n",
      "INFO:tensorflow:loss = 6628495000.0, step = 2001 (1.366 sec)\n",
      "INFO:tensorflow:global_step/sec: 76.7505\n",
      "INFO:tensorflow:loss = 25227356000.0, step = 2101 (1.303 sec)\n",
      "INFO:tensorflow:global_step/sec: 76.4506\n",
      "INFO:tensorflow:loss = 3775398700.0, step = 2201 (1.308 sec)\n",
      "INFO:tensorflow:global_step/sec: 76.6836\n",
      "INFO:tensorflow:loss = 6230449000.0, step = 2301 (1.304 sec)\n",
      "INFO:tensorflow:global_step/sec: 71.112\n",
      "INFO:tensorflow:loss = 2172617200.0, step = 2401 (1.406 sec)\n",
      "INFO:tensorflow:global_step/sec: 76.6123\n",
      "INFO:tensorflow:loss = 7922788400.0, step = 2501 (1.305 sec)\n",
      "INFO:tensorflow:global_step/sec: 77.5327\n",
      "INFO:tensorflow:loss = 6638581000.0, step = 2601 (1.290 sec)\n",
      "INFO:tensorflow:global_step/sec: 78.5535\n",
      "INFO:tensorflow:loss = 8414161000.0, step = 2701 (1.289 sec)\n",
      "INFO:tensorflow:global_step/sec: 72.8328\n",
      "INFO:tensorflow:loss = 6391430700.0, step = 2801 (1.357 sec)\n",
      "INFO:tensorflow:global_step/sec: 76.6771\n",
      "INFO:tensorflow:loss = 21962928000.0, step = 2901 (1.304 sec)\n",
      "INFO:tensorflow:global_step/sec: 75.7855\n",
      "INFO:tensorflow:loss = 4739177000.0, step = 3001 (1.320 sec)\n",
      "INFO:tensorflow:global_step/sec: 72.0314\n",
      "INFO:tensorflow:loss = 9985116000.0, step = 3101 (1.388 sec)\n",
      "INFO:tensorflow:global_step/sec: 77.0819\n",
      "INFO:tensorflow:loss = 5127807000.0, step = 3201 (1.304 sec)\n",
      "INFO:tensorflow:global_step/sec: 73.6676\n",
      "INFO:tensorflow:loss = 3191696000.0, step = 3301 (1.351 sec)\n",
      "INFO:tensorflow:global_step/sec: 76.6683\n",
      "INFO:tensorflow:loss = 10180951000.0, step = 3401 (1.304 sec)\n",
      "INFO:tensorflow:global_step/sec: 76.7013\n",
      "INFO:tensorflow:loss = 4593657300.0, step = 3501 (1.304 sec)\n",
      "INFO:tensorflow:global_step/sec: 76.6796\n",
      "INFO:tensorflow:loss = 4357000000.0, step = 3601 (1.304 sec)\n",
      "INFO:tensorflow:global_step/sec: 69.6758\n",
      "INFO:tensorflow:loss = 5975243000.0, step = 3701 (1.435 sec)\n",
      "INFO:tensorflow:global_step/sec: 75.7105\n",
      "INFO:tensorflow:loss = 2818729200.0, step = 3801 (1.321 sec)\n",
      "INFO:tensorflow:global_step/sec: 76.3282\n",
      "INFO:tensorflow:loss = 8908213000.0, step = 3901 (1.310 sec)\n",
      "INFO:tensorflow:global_step/sec: 75.7767\n",
      "INFO:tensorflow:loss = 7364592600.0, step = 4001 (1.320 sec)\n",
      "INFO:tensorflow:global_step/sec: 73.1597\n",
      "INFO:tensorflow:loss = 7057165000.0, step = 4101 (1.367 sec)\n",
      "INFO:tensorflow:global_step/sec: 75.8099\n",
      "INFO:tensorflow:loss = 4967049700.0, step = 4201 (1.319 sec)\n",
      "INFO:tensorflow:global_step/sec: 76.3164\n",
      "INFO:tensorflow:loss = 5137029000.0, step = 4301 (1.310 sec)\n",
      "INFO:tensorflow:global_step/sec: 74.7855\n",
      "INFO:tensorflow:loss = 7485828600.0, step = 4401 (1.337 sec)\n",
      "INFO:tensorflow:global_step/sec: 76.6869\n",
      "INFO:tensorflow:loss = 12534175000.0, step = 4501 (1.304 sec)\n",
      "INFO:tensorflow:global_step/sec: 73.185\n",
      "INFO:tensorflow:loss = 5651882500.0, step = 4601 (1.366 sec)\n",
      "INFO:tensorflow:global_step/sec: 77.6304\n",
      "INFO:tensorflow:loss = 2629083600.0, step = 4701 (1.304 sec)\n",
      "INFO:tensorflow:global_step/sec: 73.7057\n",
      "INFO:tensorflow:loss = 3413775400.0, step = 4801 (1.341 sec)\n",
      "INFO:tensorflow:global_step/sec: 75.7899\n",
      "INFO:tensorflow:loss = 9939580000.0, step = 4901 (1.335 sec)\n",
      "INFO:tensorflow:global_step/sec: 72.0382\n",
      "INFO:tensorflow:loss = 10555765000.0, step = 5001 (1.373 sec)\n",
      "INFO:tensorflow:global_step/sec: 76.7125\n",
      "INFO:tensorflow:loss = 7239645000.0, step = 5101 (1.304 sec)\n",
      "INFO:tensorflow:global_step/sec: 77.6001\n",
      "INFO:tensorflow:loss = 5828201000.0, step = 5201 (1.304 sec)\n",
      "INFO:tensorflow:global_step/sec: 75.7811\n",
      "INFO:tensorflow:loss = 4989139500.0, step = 5301 (1.304 sec)\n",
      "INFO:tensorflow:global_step/sec: 73.1869\n",
      "INFO:tensorflow:loss = 4411329000.0, step = 5401 (1.366 sec)\n",
      "INFO:tensorflow:global_step/sec: 76.7032\n",
      "INFO:tensorflow:loss = 2993888500.0, step = 5501 (1.304 sec)\n",
      "INFO:tensorflow:global_step/sec: 76.7044\n",
      "INFO:tensorflow:loss = 6538446000.0, step = 5601 (1.310 sec)\n",
      "INFO:tensorflow:global_step/sec: 76.7228\n",
      "INFO:tensorflow:loss = 6953190400.0, step = 5701 (1.297 sec)\n",
      "INFO:tensorflow:global_step/sec: 76.7052\n",
      "INFO:tensorflow:loss = 3537413600.0, step = 5801 (1.304 sec)\n",
      "INFO:tensorflow:global_step/sec: 72.8533\n",
      "INFO:tensorflow:loss = 5673071600.0, step = 5901 (1.388 sec)\n",
      "INFO:tensorflow:global_step/sec: 75.782\n",
      "INFO:tensorflow:loss = 12798772000.0, step = 6001 (1.304 sec)\n",
      "INFO:tensorflow:global_step/sec: 74.548\n",
      "INFO:tensorflow:loss = 8593316000.0, step = 6101 (1.341 sec)\n",
      "INFO:tensorflow:global_step/sec: 76.7046\n",
      "INFO:tensorflow:loss = 6579561000.0, step = 6201 (1.304 sec)\n",
      "INFO:tensorflow:global_step/sec: 73.1806\n",
      "INFO:tensorflow:loss = 7731452400.0, step = 6301 (1.366 sec)\n",
      "INFO:tensorflow:global_step/sec: 76.6625\n",
      "INFO:tensorflow:loss = 7348066300.0, step = 6401 (1.304 sec)\n",
      "INFO:tensorflow:global_step/sec: 75.8088\n",
      "INFO:tensorflow:loss = 8003165700.0, step = 6501 (1.326 sec)\n",
      "INFO:tensorflow:global_step/sec: 76.3062\n",
      "INFO:tensorflow:loss = 25392914000.0, step = 6601 (1.304 sec)\n",
      "INFO:tensorflow:global_step/sec: 73.1712\n",
      "INFO:tensorflow:loss = 5274050600.0, step = 6701 (1.367 sec)\n",
      "INFO:tensorflow:global_step/sec: 77.6241\n",
      "INFO:tensorflow:loss = 2494209500.0, step = 6801 (1.288 sec)\n",
      "INFO:tensorflow:global_step/sec: 75.8031\n",
      "INFO:tensorflow:loss = 10960043000.0, step = 6901 (1.319 sec)\n",
      "INFO:tensorflow:global_step/sec: 77.6269\n",
      "INFO:tensorflow:loss = 2954747100.0, step = 7001 (1.288 sec)\n",
      "INFO:tensorflow:global_step/sec: 76.6897\n",
      "INFO:tensorflow:loss = 2668046000.0, step = 7101 (1.304 sec)\n",
      "INFO:tensorflow:global_step/sec: 72.8367\n",
      "INFO:tensorflow:loss = 12143111000.0, step = 7201 (1.373 sec)\n",
      "INFO:tensorflow:global_step/sec: 74.0524\n",
      "INFO:tensorflow:loss = 6858116600.0, step = 7301 (1.350 sec)\n",
      "INFO:tensorflow:global_step/sec: 72.8535\n"
     ]
    },
    {
     "name": "stdout",
     "output_type": "stream",
     "text": [
      "INFO:tensorflow:loss = 31236290000.0, step = 7401 (1.373 sec)\n",
      "INFO:tensorflow:global_step/sec: 71.236\n",
      "INFO:tensorflow:loss = 5324547600.0, step = 7501 (1.404 sec)\n",
      "INFO:tensorflow:global_step/sec: 69.6837\n",
      "INFO:tensorflow:loss = 5464787000.0, step = 7601 (1.435 sec)\n",
      "INFO:tensorflow:global_step/sec: 72.845\n",
      "INFO:tensorflow:loss = 8642010000.0, step = 7701 (1.373 sec)\n",
      "INFO:tensorflow:global_step/sec: 74.0273\n",
      "INFO:tensorflow:loss = 4361898500.0, step = 7801 (1.351 sec)\n",
      "INFO:tensorflow:global_step/sec: 75.4097\n",
      "INFO:tensorflow:loss = 55034905000.0, step = 7901 (1.326 sec)\n",
      "INFO:tensorflow:global_step/sec: 72.3417\n",
      "INFO:tensorflow:loss = 2600316400.0, step = 8001 (1.382 sec)\n",
      "INFO:tensorflow:global_step/sec: 76.5852\n",
      "INFO:tensorflow:loss = 6702768000.0, step = 8101 (1.306 sec)\n",
      "INFO:tensorflow:global_step/sec: 75.7969\n",
      "INFO:tensorflow:loss = 4650031600.0, step = 8201 (1.319 sec)\n",
      "INFO:tensorflow:global_step/sec: 77.6532\n",
      "INFO:tensorflow:loss = 3053714000.0, step = 8301 (1.303 sec)\n",
      "INFO:tensorflow:global_step/sec: 75.4461\n",
      "INFO:tensorflow:loss = 19098888000.0, step = 8401 (1.326 sec)\n",
      "INFO:tensorflow:global_step/sec: 72.3571\n",
      "INFO:tensorflow:loss = 46482555000.0, step = 8501 (1.366 sec)\n",
      "INFO:tensorflow:global_step/sec: 76.7504\n",
      "INFO:tensorflow:loss = 8219768300.0, step = 8601 (1.303 sec)\n",
      "INFO:tensorflow:global_step/sec: 76.6387\n",
      "INFO:tensorflow:loss = 3932019200.0, step = 8701 (2.652 sec)\n",
      "INFO:tensorflow:global_step/sec: 37.5106\n",
      "INFO:tensorflow:loss = 2596498700.0, step = 8801 (1.319 sec)\n",
      "INFO:tensorflow:global_step/sec: 72.8402\n",
      "INFO:tensorflow:loss = 4365734000.0, step = 8901 (1.373 sec)\n",
      "INFO:tensorflow:global_step/sec: 76.7172\n",
      "INFO:tensorflow:loss = 6412026400.0, step = 9001 (1.311 sec)\n",
      "INFO:tensorflow:global_step/sec: 76.7063\n",
      "INFO:tensorflow:loss = 2890274000.0, step = 9101 (1.296 sec)\n",
      "INFO:tensorflow:global_step/sec: 76.7183\n",
      "INFO:tensorflow:loss = 8943452000.0, step = 9201 (1.303 sec)\n",
      "INFO:tensorflow:global_step/sec: 73.1969\n",
      "INFO:tensorflow:loss = 2737292800.0, step = 9301 (1.366 sec)\n",
      "INFO:tensorflow:global_step/sec: 77.6526\n",
      "INFO:tensorflow:loss = 18745858000.0, step = 9401 (1.288 sec)\n",
      "INFO:tensorflow:global_step/sec: 75.793\n",
      "INFO:tensorflow:loss = 16257661000.0, step = 9501 (1.319 sec)\n",
      "INFO:tensorflow:global_step/sec: 74.9032\n",
      "INFO:tensorflow:loss = 4274386700.0, step = 9601 (1.335 sec)\n",
      "INFO:tensorflow:global_step/sec: 76.697\n",
      "INFO:tensorflow:loss = 4428014600.0, step = 9701 (1.304 sec)\n",
      "INFO:tensorflow:global_step/sec: 72.8459\n",
      "INFO:tensorflow:loss = 3368241700.0, step = 9801 (1.373 sec)\n",
      "INFO:tensorflow:global_step/sec: 76.6989\n",
      "INFO:tensorflow:loss = 9750306000.0, step = 9901 (1.304 sec)\n",
      "INFO:tensorflow:global_step/sec: 77.6334\n",
      "INFO:tensorflow:loss = 4425264600.0, step = 10001 (1.288 sec)\n",
      "INFO:tensorflow:global_step/sec: 76.6921\n",
      "INFO:tensorflow:loss = 3881510000.0, step = 10101 (1.304 sec)\n",
      "INFO:tensorflow:global_step/sec: 72.8346\n",
      "INFO:tensorflow:loss = 2054892800.0, step = 10201 (1.373 sec)\n",
      "INFO:tensorflow:global_step/sec: 76.6917\n",
      "INFO:tensorflow:loss = 2576962800.0, step = 10301 (1.304 sec)\n",
      "INFO:tensorflow:global_step/sec: 76.7005\n",
      "INFO:tensorflow:loss = 2673357000.0, step = 10401 (1.304 sec)\n",
      "INFO:tensorflow:global_step/sec: 77.6313\n",
      "INFO:tensorflow:loss = 4363605500.0, step = 10501 (1.304 sec)\n",
      "INFO:tensorflow:global_step/sec: 72.34\n",
      "INFO:tensorflow:loss = 3430883000.0, step = 10601 (1.367 sec)\n",
      "INFO:tensorflow:global_step/sec: 76.7057\n",
      "INFO:tensorflow:loss = 7374501000.0, step = 10701 (1.304 sec)\n",
      "INFO:tensorflow:global_step/sec: 75.3961\n",
      "INFO:tensorflow:loss = 10381199000.0, step = 10801 (1.326 sec)\n",
      "INFO:tensorflow:global_step/sec: 76.6898\n",
      "INFO:tensorflow:loss = 6730800000.0, step = 10901 (1.304 sec)\n",
      "INFO:tensorflow:global_step/sec: 77.0966\n",
      "INFO:tensorflow:loss = 5027223600.0, step = 11001 (1.297 sec)\n",
      "INFO:tensorflow:global_step/sec: 72.8347\n",
      "INFO:tensorflow:loss = 4835549000.0, step = 11101 (1.389 sec)\n",
      "INFO:tensorflow:global_step/sec: 75.8103\n",
      "INFO:tensorflow:loss = 3764704800.0, step = 11201 (1.303 sec)\n",
      "INFO:tensorflow:global_step/sec: 76.5962\n",
      "INFO:tensorflow:loss = 4807377000.0, step = 11301 (1.306 sec)\n",
      "INFO:tensorflow:global_step/sec: 75.8202\n",
      "INFO:tensorflow:loss = 4173863200.0, step = 11401 (1.319 sec)\n",
      "INFO:tensorflow:global_step/sec: 71.2277\n",
      "INFO:tensorflow:loss = 15121929000.0, step = 11501 (1.404 sec)\n",
      "INFO:tensorflow:global_step/sec: 76.7123\n",
      "INFO:tensorflow:loss = 2476153900.0, step = 11601 (1.304 sec)\n",
      "INFO:tensorflow:global_step/sec: 75.4458\n",
      "INFO:tensorflow:loss = 5074099000.0, step = 11701 (1.325 sec)\n",
      "INFO:tensorflow:global_step/sec: 70.3582\n",
      "INFO:tensorflow:loss = 5764637000.0, step = 11801 (1.421 sec)\n",
      "INFO:tensorflow:global_step/sec: 72.0495\n",
      "INFO:tensorflow:loss = 16242423000.0, step = 11901 (1.388 sec)\n",
      "INFO:tensorflow:global_step/sec: 75.8187\n",
      "INFO:tensorflow:loss = 9761287000.0, step = 12001 (1.335 sec)\n",
      "INFO:tensorflow:global_step/sec: 76.651\n",
      "INFO:tensorflow:loss = 10639868000.0, step = 12101 (1.305 sec)\n",
      "INFO:tensorflow:global_step/sec: 74.87\n",
      "INFO:tensorflow:loss = 3533614000.0, step = 12201 (1.320 sec)\n",
      "INFO:tensorflow:global_step/sec: 77.6266\n",
      "INFO:tensorflow:loss = 3321079300.0, step = 12301 (1.288 sec)\n",
      "INFO:tensorflow:global_step/sec: 73.6766\n",
      "INFO:tensorflow:loss = 2744428300.0, step = 12401 (1.373 sec)\n",
      "INFO:tensorflow:global_step/sec: 75.7787\n",
      "INFO:tensorflow:loss = 3181413000.0, step = 12501 (1.304 sec)\n",
      "INFO:tensorflow:global_step/sec: 76.6712\n",
      "INFO:tensorflow:loss = 7117701000.0, step = 12601 (1.304 sec)\n",
      "INFO:tensorflow:global_step/sec: 76.715\n",
      "INFO:tensorflow:loss = 2366507000.0, step = 12701 (1.304 sec)\n",
      "INFO:tensorflow:global_step/sec: 73.1653\n",
      "INFO:tensorflow:loss = 4986203600.0, step = 12801 (1.367 sec)\n",
      "INFO:tensorflow:global_step/sec: 77.6121\n",
      "INFO:tensorflow:loss = 7706362400.0, step = 12901 (1.288 sec)\n",
      "INFO:tensorflow:global_step/sec: 76.7056\n",
      "INFO:tensorflow:loss = 6003894300.0, step = 13001 (1.304 sec)\n",
      "INFO:tensorflow:global_step/sec: 76.6901\n",
      "INFO:tensorflow:loss = 2861860600.0, step = 13101 (1.304 sec)\n",
      "INFO:tensorflow:global_step/sec: 71.2331\n",
      "INFO:tensorflow:loss = 2633772300.0, step = 13201 (1.404 sec)\n",
      "INFO:tensorflow:global_step/sec: 76.6813\n",
      "INFO:tensorflow:loss = 3047190300.0, step = 13301 (1.304 sec)\n",
      "INFO:tensorflow:global_step/sec: 75.7632\n",
      "INFO:tensorflow:loss = 6440278000.0, step = 13401 (1.320 sec)\n",
      "INFO:tensorflow:global_step/sec: 75.3352\n",
      "INFO:tensorflow:loss = 5951201000.0, step = 13501 (1.327 sec)\n",
      "INFO:tensorflow:global_step/sec: 77.0743\n",
      "INFO:tensorflow:loss = 8299516000.0, step = 13601 (1.297 sec)\n",
      "INFO:tensorflow:global_step/sec: 73.6926\n",
      "INFO:tensorflow:loss = 8464588300.0, step = 13701 (1.357 sec)\n",
      "INFO:tensorflow:global_step/sec: 76.7098\n",
      "INFO:tensorflow:loss = 3762778600.0, step = 13801 (1.304 sec)\n",
      "INFO:tensorflow:global_step/sec: 76.6923\n",
      "INFO:tensorflow:loss = 5015760400.0, step = 13901 (1.304 sec)\n",
      "INFO:tensorflow:global_step/sec: 77.6312\n",
      "INFO:tensorflow:loss = 2046968300.0, step = 14001 (1.288 sec)\n",
      "INFO:tensorflow:global_step/sec: 72.8174\n",
      "INFO:tensorflow:loss = 3152383000.0, step = 14101 (1.373 sec)\n",
      "INFO:tensorflow:global_step/sec: 76.6986\n",
      "INFO:tensorflow:loss = 5136365000.0, step = 14201 (1.304 sec)\n",
      "INFO:tensorflow:global_step/sec: 75.7788\n",
      "INFO:tensorflow:loss = 4694629400.0, step = 14301 (1.320 sec)\n",
      "INFO:tensorflow:global_step/sec: 74.9342\n",
      "INFO:tensorflow:loss = 3263516700.0, step = 14401 (1.335 sec)\n",
      "INFO:tensorflow:global_step/sec: 73.6663\n",
      "INFO:tensorflow:loss = 5940712400.0, step = 14501 (1.357 sec)\n",
      "INFO:tensorflow:global_step/sec: 76.6806\n",
      "INFO:tensorflow:loss = 1938504000.0, step = 14601 (1.304 sec)\n",
      "INFO:tensorflow:global_step/sec: 76.7002\n",
      "INFO:tensorflow:loss = 3725294600.0, step = 14701 (1.304 sec)\n",
      "INFO:tensorflow:global_step/sec: 74.9074\n",
      "INFO:tensorflow:loss = 2713014000.0, step = 14801 (1.335 sec)\n",
      "INFO:tensorflow:global_step/sec: 73.1993\n",
      "INFO:tensorflow:loss = 5958245400.0, step = 14901 (1.366 sec)\n",
      "INFO:tensorflow:global_step/sec: 69.3563\n",
      "INFO:tensorflow:loss = 7981283300.0, step = 15001 (1.442 sec)\n",
      "INFO:tensorflow:global_step/sec: 69.8905\n",
      "INFO:tensorflow:loss = 2894726100.0, step = 15101 (1.431 sec)\n",
      "INFO:tensorflow:global_step/sec: 68.2097\n",
      "INFO:tensorflow:loss = 9874503000.0, step = 15201 (1.466 sec)\n",
      "INFO:tensorflow:global_step/sec: 71.1679\n",
      "INFO:tensorflow:loss = 17415842000.0, step = 15301 (1.405 sec)\n",
      "INFO:tensorflow:global_step/sec: 68.5554\n"
     ]
    },
    {
     "name": "stdout",
     "output_type": "stream",
     "text": [
      "INFO:tensorflow:loss = 2893922800.0, step = 15401 (1.465 sec)\n",
      "INFO:tensorflow:global_step/sec: 74.5486\n",
      "INFO:tensorflow:loss = 9303221000.0, step = 15501 (1.335 sec)\n",
      "INFO:tensorflow:global_step/sec: 74.8879\n",
      "INFO:tensorflow:loss = 4807003600.0, step = 15601 (1.335 sec)\n",
      "INFO:tensorflow:global_step/sec: 72.8216\n",
      "INFO:tensorflow:loss = 12746865000.0, step = 15701 (1.373 sec)\n",
      "INFO:tensorflow:global_step/sec: 71.2282\n",
      "INFO:tensorflow:loss = 3162607400.0, step = 15801 (1.404 sec)\n",
      "INFO:tensorflow:global_step/sec: 74.8844\n",
      "INFO:tensorflow:loss = 4363899000.0, step = 15901 (1.351 sec)\n",
      "INFO:tensorflow:global_step/sec: 72.8655\n",
      "INFO:tensorflow:loss = 2016765400.0, step = 16001 (1.357 sec)\n",
      "INFO:tensorflow:global_step/sec: 74.0342\n",
      "INFO:tensorflow:loss = 1796107300.0, step = 16101 (1.351 sec)\n",
      "INFO:tensorflow:global_step/sec: 73.8198\n",
      "INFO:tensorflow:loss = 2486118100.0, step = 16201 (1.355 sec)\n",
      "INFO:tensorflow:global_step/sec: 71.2304\n",
      "INFO:tensorflow:loss = 7185993700.0, step = 16301 (1.404 sec)\n",
      "INFO:tensorflow:global_step/sec: 69.3543\n",
      "INFO:tensorflow:loss = 6135505400.0, step = 16401 (1.442 sec)\n",
      "INFO:tensorflow:global_step/sec: 74.025\n",
      "INFO:tensorflow:loss = 4207021300.0, step = 16501 (1.351 sec)\n",
      "INFO:tensorflow:global_step/sec: 75.7706\n",
      "INFO:tensorflow:loss = 5056231400.0, step = 16601 (1.320 sec)\n",
      "INFO:tensorflow:global_step/sec: 70.122\n",
      "INFO:tensorflow:loss = 5074323500.0, step = 16701 (1.426 sec)\n",
      "INFO:tensorflow:global_step/sec: 74.8948\n",
      "INFO:tensorflow:loss = 3824653800.0, step = 16801 (1.335 sec)\n",
      "INFO:tensorflow:global_step/sec: 75.7795\n",
      "INFO:tensorflow:loss = 29570593000.0, step = 16901 (1.320 sec)\n",
      "INFO:tensorflow:global_step/sec: 77.6077\n",
      "INFO:tensorflow:loss = 4035545300.0, step = 17001 (1.289 sec)\n",
      "INFO:tensorflow:global_step/sec: 72.8214\n",
      "INFO:tensorflow:loss = 5205409000.0, step = 17101 (1.373 sec)\n",
      "INFO:tensorflow:global_step/sec: 74.8997\n",
      "INFO:tensorflow:loss = 3772091100.0, step = 17201 (1.335 sec)\n",
      "INFO:tensorflow:global_step/sec: 76.6747\n",
      "INFO:tensorflow:loss = 5590869000.0, step = 17301 (1.304 sec)\n",
      "INFO:tensorflow:global_step/sec: 76.681\n",
      "INFO:tensorflow:loss = 3387827000.0, step = 17401 (1.304 sec)\n",
      "INFO:tensorflow:global_step/sec: 73.1637\n",
      "INFO:tensorflow:loss = 6432349000.0, step = 17501 (1.373 sec)\n",
      "INFO:tensorflow:global_step/sec: 76.2953\n",
      "INFO:tensorflow:loss = 4035404000.0, step = 17601 (1.336 sec)\n",
      "INFO:tensorflow:global_step/sec: 74.0194\n",
      "INFO:tensorflow:loss = 3810064600.0, step = 17701 (1.319 sec)\n",
      "INFO:tensorflow:global_step/sec: 76.6817\n",
      "INFO:tensorflow:loss = 17756953000.0, step = 17801 (1.304 sec)\n",
      "INFO:tensorflow:global_step/sec: 74.0425\n",
      "INFO:tensorflow:loss = 19722598000.0, step = 17901 (1.357 sec)\n",
      "INFO:tensorflow:global_step/sec: 71.1987\n",
      "INFO:tensorflow:loss = 2643922400.0, step = 18001 (1.398 sec)\n",
      "INFO:tensorflow:global_step/sec: 74.5291\n",
      "INFO:tensorflow:loss = 6743825400.0, step = 18101 (1.342 sec)\n",
      "INFO:tensorflow:global_step/sec: 74.9107\n",
      "INFO:tensorflow:loss = 5050832000.0, step = 18201 (1.335 sec)\n",
      "INFO:tensorflow:global_step/sec: 74.5213\n",
      "INFO:tensorflow:loss = 2958716700.0, step = 18301 (1.342 sec)\n",
      "INFO:tensorflow:global_step/sec: 73.1803\n",
      "INFO:tensorflow:loss = 13874902000.0, step = 18401 (1.366 sec)\n",
      "INFO:tensorflow:global_step/sec: 74.5439\n",
      "INFO:tensorflow:loss = 9026931000.0, step = 18501 (1.341 sec)\n",
      "INFO:tensorflow:global_step/sec: 74.8869\n",
      "INFO:tensorflow:loss = 7284615000.0, step = 18601 (1.335 sec)\n",
      "INFO:tensorflow:global_step/sec: 74.894\n",
      "INFO:tensorflow:loss = 8081633000.0, step = 18701 (1.335 sec)\n",
      "INFO:tensorflow:global_step/sec: 75.7914\n",
      "INFO:tensorflow:loss = 9376879000.0, step = 18801 (1.319 sec)\n",
      "INFO:tensorflow:global_step/sec: 72.0108\n",
      "INFO:tensorflow:loss = 2581529300.0, step = 18901 (1.404 sec)\n",
      "INFO:tensorflow:global_step/sec: 73.6814\n",
      "INFO:tensorflow:loss = 1704794600.0, step = 19001 (1.342 sec)\n",
      "INFO:tensorflow:global_step/sec: 72.0339\n",
      "INFO:tensorflow:loss = 3407338200.0, step = 19101 (1.404 sec)\n",
      "INFO:tensorflow:global_step/sec: 74.8754\n",
      "INFO:tensorflow:loss = 7502157000.0, step = 19201 (1.320 sec)\n",
      "INFO:tensorflow:global_step/sec: 67.9783\n",
      "INFO:tensorflow:loss = 8643000000.0, step = 19301 (1.478 sec)\n",
      "INFO:tensorflow:global_step/sec: 75.4011\n",
      "INFO:tensorflow:loss = 3263010800.0, step = 19401 (1.320 sec)\n",
      "INFO:tensorflow:global_step/sec: 75.786\n",
      "INFO:tensorflow:loss = 3375758000.0, step = 19501 (1.320 sec)\n",
      "INFO:tensorflow:global_step/sec: 74.9031\n",
      "INFO:tensorflow:loss = 7273053000.0, step = 19601 (1.335 sec)\n",
      "INFO:tensorflow:global_step/sec: 72.0294\n",
      "INFO:tensorflow:loss = 5576850400.0, step = 19701 (1.388 sec)\n",
      "INFO:tensorflow:global_step/sec: 74.8986\n",
      "INFO:tensorflow:loss = 4382906400.0, step = 19801 (1.335 sec)\n",
      "INFO:tensorflow:global_step/sec: 75.3101\n",
      "INFO:tensorflow:loss = 10387496000.0, step = 19901 (1.328 sec)\n",
      "INFO:tensorflow:global_step/sec: 74.9078\n",
      "INFO:tensorflow:loss = 5684638700.0, step = 20001 (1.335 sec)\n",
      "INFO:tensorflow:global_step/sec: 69.6756\n",
      "INFO:tensorflow:loss = 5630480000.0, step = 20101 (1.435 sec)\n",
      "INFO:tensorflow:global_step/sec: 72.8343\n",
      "INFO:tensorflow:loss = 8424554000.0, step = 20201 (1.373 sec)\n",
      "INFO:tensorflow:global_step/sec: 71.2219\n",
      "INFO:tensorflow:loss = 5918818000.0, step = 20301 (1.404 sec)\n",
      "INFO:tensorflow:global_step/sec: 74.904\n",
      "INFO:tensorflow:loss = 3587124200.0, step = 20401 (1.335 sec)\n",
      "INFO:tensorflow:global_step/sec: 75.7624\n",
      "INFO:tensorflow:loss = 11738409000.0, step = 20501 (1.320 sec)\n",
      "INFO:tensorflow:global_step/sec: 72.0263\n",
      "INFO:tensorflow:loss = 2484674800.0, step = 20601 (1.388 sec)\n",
      "INFO:tensorflow:global_step/sec: 74.5433\n",
      "INFO:tensorflow:loss = 11590872000.0, step = 20701 (1.342 sec)\n",
      "INFO:tensorflow:global_step/sec: 74.897\n",
      "INFO:tensorflow:loss = 4325537300.0, step = 20801 (1.335 sec)\n",
      "INFO:tensorflow:global_step/sec: 76.6973\n",
      "INFO:tensorflow:loss = 5488778000.0, step = 20901 (1.319 sec)\n",
      "INFO:tensorflow:global_step/sec: 68.9329\n",
      "INFO:tensorflow:loss = 3054451200.0, step = 21001 (1.435 sec)\n",
      "INFO:tensorflow:global_step/sec: 75.4264\n",
      "INFO:tensorflow:loss = 4590293000.0, step = 21101 (1.326 sec)\n",
      "INFO:tensorflow:global_step/sec: 73.2147\n",
      "INFO:tensorflow:loss = 2375604700.0, step = 21201 (1.366 sec)\n",
      "INFO:tensorflow:global_step/sec: 72.0258\n",
      "INFO:tensorflow:loss = 6014491600.0, step = 21301 (1.388 sec)\n",
      "INFO:tensorflow:global_step/sec: 71.2084\n",
      "INFO:tensorflow:loss = 8381154300.0, step = 21401 (1.404 sec)\n",
      "INFO:tensorflow:global_step/sec: 73.6984\n",
      "INFO:tensorflow:loss = 2775051800.0, step = 21501 (1.357 sec)\n",
      "INFO:tensorflow:global_step/sec: 73.0384\n",
      "INFO:tensorflow:loss = 3341859800.0, step = 21601 (1.369 sec)\n",
      "INFO:tensorflow:global_step/sec: 75.7826\n",
      "INFO:tensorflow:loss = 7553735000.0, step = 21701 (1.320 sec)\n",
      "INFO:tensorflow:global_step/sec: 74.5324\n",
      "INFO:tensorflow:loss = 6716998000.0, step = 21801 (1.342 sec)\n",
      "INFO:tensorflow:global_step/sec: 65.7956\n",
      "INFO:tensorflow:loss = 6014089000.0, step = 21901 (1.520 sec)\n",
      "INFO:tensorflow:global_step/sec: 73.1618\n",
      "INFO:tensorflow:loss = 9283303000.0, step = 22001 (1.367 sec)\n",
      "INFO:tensorflow:global_step/sec: 76.3407\n",
      "INFO:tensorflow:loss = 1705311600.0, step = 22101 (1.310 sec)\n",
      "INFO:tensorflow:global_step/sec: 76.6963\n",
      "INFO:tensorflow:loss = 6987323400.0, step = 22201 (1.304 sec)\n",
      "INFO:tensorflow:global_step/sec: 73.1929\n",
      "INFO:tensorflow:loss = 4187810800.0, step = 22301 (1.366 sec)\n",
      "INFO:tensorflow:global_step/sec: 75.7872\n",
      "INFO:tensorflow:loss = 3301102000.0, step = 22401 (1.319 sec)\n",
      "INFO:tensorflow:global_step/sec: 70.4527\n",
      "INFO:tensorflow:loss = 6934521000.0, step = 22501 (1.426 sec)\n",
      "INFO:tensorflow:global_step/sec: 72.8715\n",
      "INFO:tensorflow:loss = 1320380400.0, step = 22601 (1.366 sec)\n",
      "INFO:tensorflow:global_step/sec: 69.306\n",
      "INFO:tensorflow:loss = 2642691600.0, step = 22701 (1.443 sec)\n",
      "INFO:tensorflow:global_step/sec: 74.9146\n",
      "INFO:tensorflow:loss = 6392694000.0, step = 22801 (1.335 sec)\n",
      "INFO:tensorflow:global_step/sec: 73.1693\n",
      "INFO:tensorflow:loss = 18477976000.0, step = 22901 (1.367 sec)\n",
      "INFO:tensorflow:global_step/sec: 73.217\n",
      "INFO:tensorflow:loss = 969351200.0, step = 23001 (1.366 sec)\n",
      "INFO:tensorflow:global_step/sec: 76.7153\n",
      "INFO:tensorflow:loss = 5304280600.0, step = 23101 (1.304 sec)\n",
      "INFO:tensorflow:global_step/sec: 72.0119\n",
      "INFO:tensorflow:loss = 2123124900.0, step = 23201 (1.389 sec)\n",
      "INFO:tensorflow:global_step/sec: 74.3804\n",
      "INFO:tensorflow:loss = 4863374000.0, step = 23301 (1.360 sec)\n"
     ]
    },
    {
     "name": "stdout",
     "output_type": "stream",
     "text": [
      "INFO:tensorflow:global_step/sec: 75.8057\n",
      "INFO:tensorflow:loss = 2032460400.0, step = 23401 (1.304 sec)\n",
      "INFO:tensorflow:global_step/sec: 72.0302\n",
      "INFO:tensorflow:loss = 3892649000.0, step = 23501 (1.388 sec)\n",
      "INFO:tensorflow:global_step/sec: 72.0282\n",
      "INFO:tensorflow:loss = 2438133200.0, step = 23601 (1.388 sec)\n",
      "INFO:tensorflow:global_step/sec: 74.8883\n",
      "INFO:tensorflow:loss = 6286671000.0, step = 23701 (1.335 sec)\n",
      "INFO:tensorflow:global_step/sec: 71.9105\n",
      "INFO:tensorflow:loss = 6147640000.0, step = 23801 (1.391 sec)\n",
      "INFO:tensorflow:global_step/sec: 75.7859\n",
      "INFO:tensorflow:loss = 5832983000.0, step = 23901 (1.320 sec)\n",
      "INFO:tensorflow:global_step/sec: 70.2849\n",
      "INFO:tensorflow:loss = 2469997800.0, step = 24001 (1.423 sec)\n",
      "INFO:tensorflow:global_step/sec: 73.6913\n",
      "INFO:tensorflow:loss = 1727554300.0, step = 24101 (1.357 sec)\n",
      "INFO:tensorflow:global_step/sec: 75.7903\n",
      "INFO:tensorflow:loss = 4005197600.0, step = 24201 (1.319 sec)\n",
      "INFO:tensorflow:global_step/sec: 76.6793\n",
      "INFO:tensorflow:loss = 2100556300.0, step = 24301 (1.304 sec)\n",
      "INFO:tensorflow:global_step/sec: 74.8942\n",
      "INFO:tensorflow:loss = 2590721800.0, step = 24401 (1.335 sec)\n",
      "INFO:tensorflow:global_step/sec: 72.7956\n",
      "INFO:tensorflow:loss = 6745547000.0, step = 24501 (1.374 sec)\n",
      "INFO:tensorflow:global_step/sec: 74.9168\n",
      "INFO:tensorflow:loss = 7196031500.0, step = 24601 (1.335 sec)\n",
      "INFO:tensorflow:global_step/sec: 75.4135\n",
      "INFO:tensorflow:loss = 2494396000.0, step = 24701 (1.326 sec)\n",
      "INFO:tensorflow:global_step/sec: 76.7288\n",
      "INFO:tensorflow:loss = 6835989500.0, step = 24801 (1.303 sec)\n",
      "INFO:tensorflow:global_step/sec: 71.5589\n",
      "INFO:tensorflow:loss = 6692169700.0, step = 24901 (1.397 sec)\n",
      "INFO:tensorflow:global_step/sec: 72.8457\n",
      "INFO:tensorflow:loss = 3906946600.0, step = 25001 (1.373 sec)\n",
      "INFO:tensorflow:global_step/sec: 74.9156\n",
      "INFO:tensorflow:loss = 3317242600.0, step = 25101 (1.335 sec)\n",
      "INFO:tensorflow:global_step/sec: 73.4742\n",
      "INFO:tensorflow:loss = 5328218600.0, step = 25201 (1.361 sec)\n",
      "INFO:tensorflow:global_step/sec: 69.6808\n",
      "INFO:tensorflow:loss = 5174979600.0, step = 25301 (1.435 sec)\n",
      "INFO:tensorflow:global_step/sec: 74.0289\n",
      "INFO:tensorflow:loss = 8165795000.0, step = 25401 (1.351 sec)\n",
      "INFO:tensorflow:global_step/sec: 75.4455\n",
      "INFO:tensorflow:loss = 3131960300.0, step = 25501 (1.325 sec)\n",
      "INFO:tensorflow:global_step/sec: 75.792\n",
      "INFO:tensorflow:loss = 2890528500.0, step = 25601 (1.319 sec)\n",
      "INFO:tensorflow:global_step/sec: 74.6419\n",
      "INFO:tensorflow:loss = 3112581000.0, step = 25701 (1.340 sec)\n",
      "INFO:tensorflow:global_step/sec: 67.5694\n",
      "INFO:tensorflow:loss = 6049724000.0, step = 25801 (1.480 sec)\n",
      "INFO:tensorflow:global_step/sec: 75.2892\n",
      "INFO:tensorflow:loss = 2668106200.0, step = 25901 (1.328 sec)\n",
      "INFO:tensorflow:global_step/sec: 72.382\n",
      "INFO:tensorflow:loss = 6609986600.0, step = 26001 (1.382 sec)\n",
      "INFO:tensorflow:global_step/sec: 72.8111\n",
      "INFO:tensorflow:loss = 2099577600.0, step = 26101 (1.373 sec)\n",
      "INFO:tensorflow:global_step/sec: 68.9134\n",
      "INFO:tensorflow:loss = 3253579800.0, step = 26201 (1.455 sec)\n",
      "INFO:tensorflow:global_step/sec: 70.7402\n",
      "INFO:tensorflow:loss = 1985863800.0, step = 26301 (1.410 sec)\n",
      "INFO:tensorflow:global_step/sec: 73.6133\n",
      "INFO:tensorflow:loss = 5923301000.0, step = 26401 (1.358 sec)\n",
      "INFO:tensorflow:global_step/sec: 74.0674\n",
      "INFO:tensorflow:loss = 2625059800.0, step = 26501 (1.389 sec)\n",
      "INFO:tensorflow:global_step/sec: 68.5072\n",
      "INFO:tensorflow:loss = 2579819000.0, step = 26601 (1.421 sec)\n",
      "INFO:tensorflow:global_step/sec: 75.8149\n",
      "INFO:tensorflow:loss = 3890024400.0, step = 26701 (1.319 sec)\n",
      "INFO:tensorflow:global_step/sec: 75.8013\n",
      "INFO:tensorflow:loss = 4655908400.0, step = 26801 (1.319 sec)\n",
      "INFO:tensorflow:global_step/sec: 74.5596\n",
      "INFO:tensorflow:loss = 4587832300.0, step = 26901 (1.341 sec)\n",
      "INFO:tensorflow:global_step/sec: 74.9109\n",
      "INFO:tensorflow:loss = 5033288000.0, step = 27001 (1.335 sec)\n",
      "INFO:tensorflow:global_step/sec: 71.2419\n",
      "INFO:tensorflow:loss = 2706645800.0, step = 27101 (1.404 sec)\n",
      "INFO:tensorflow:global_step/sec: 74.9322\n",
      "INFO:tensorflow:loss = 6309277000.0, step = 27201 (1.335 sec)\n",
      "INFO:tensorflow:global_step/sec: 74.5331\n",
      "INFO:tensorflow:loss = 2609422300.0, step = 27301 (1.342 sec)\n",
      "INFO:tensorflow:global_step/sec: 74.9107\n",
      "INFO:tensorflow:loss = 3990192000.0, step = 27401 (1.350 sec)\n",
      "INFO:tensorflow:global_step/sec: 71.2237\n",
      "INFO:tensorflow:loss = 4916050400.0, step = 27501 (1.388 sec)\n",
      "INFO:tensorflow:global_step/sec: 74.9104\n",
      "INFO:tensorflow:loss = 10389666000.0, step = 27601 (1.335 sec)\n",
      "INFO:tensorflow:global_step/sec: 75.8241\n",
      "INFO:tensorflow:loss = 5568927000.0, step = 27701 (1.319 sec)\n",
      "INFO:tensorflow:global_step/sec: 73.719\n",
      "INFO:tensorflow:loss = 2761382000.0, step = 27801 (1.357 sec)\n",
      "INFO:tensorflow:global_step/sec: 71.2144\n",
      "INFO:tensorflow:loss = 5087204000.0, step = 27901 (1.404 sec)\n",
      "INFO:tensorflow:global_step/sec: 74.9157\n",
      "INFO:tensorflow:loss = 4582419500.0, step = 28001 (1.335 sec)\n",
      "INFO:tensorflow:global_step/sec: 75.79\n",
      "INFO:tensorflow:loss = 3547983600.0, step = 28101 (1.319 sec)\n",
      "INFO:tensorflow:global_step/sec: 74.5306\n",
      "INFO:tensorflow:loss = 3519276300.0, step = 28201 (1.342 sec)\n",
      "INFO:tensorflow:global_step/sec: 74.0557\n",
      "INFO:tensorflow:loss = 8052621300.0, step = 28301 (1.350 sec)\n",
      "INFO:tensorflow:global_step/sec: 70.4499\n",
      "INFO:tensorflow:loss = 4906411000.0, step = 28401 (1.419 sec)\n",
      "INFO:tensorflow:global_step/sec: 70.4346\n",
      "INFO:tensorflow:loss = 1689052200.0, step = 28501 (1.422 sec)\n",
      "INFO:tensorflow:global_step/sec: 71.3596\n",
      "INFO:tensorflow:loss = 2610640000.0, step = 28601 (1.399 sec)\n",
      "INFO:tensorflow:global_step/sec: 72.8358\n",
      "INFO:tensorflow:loss = 4044087800.0, step = 28701 (1.373 sec)\n",
      "INFO:tensorflow:global_step/sec: 71.5446\n",
      "INFO:tensorflow:loss = 5353746000.0, step = 28801 (1.404 sec)\n",
      "INFO:tensorflow:global_step/sec: 74.5249\n",
      "INFO:tensorflow:loss = 1930949600.0, step = 28901 (1.335 sec)\n",
      "INFO:tensorflow:global_step/sec: 74.0144\n",
      "INFO:tensorflow:loss = 20809370000.0, step = 29001 (1.351 sec)\n",
      "INFO:tensorflow:global_step/sec: 75.3844\n",
      "INFO:tensorflow:loss = 4456528400.0, step = 29101 (1.342 sec)\n",
      "INFO:tensorflow:global_step/sec: 70.4384\n",
      "INFO:tensorflow:loss = 2032333800.0, step = 29201 (1.404 sec)\n",
      "INFO:tensorflow:global_step/sec: 74.9105\n",
      "INFO:tensorflow:loss = 9611860000.0, step = 29301 (1.335 sec)\n",
      "INFO:tensorflow:global_step/sec: 73.7009\n",
      "INFO:tensorflow:loss = 2526313200.0, step = 29401 (1.357 sec)\n",
      "INFO:tensorflow:global_step/sec: 75.7893\n",
      "INFO:tensorflow:loss = 3951969000.0, step = 29501 (1.319 sec)\n",
      "INFO:tensorflow:global_step/sec: 75.7642\n",
      "INFO:tensorflow:loss = 2108005800.0, step = 29601 (1.335 sec)\n",
      "INFO:tensorflow:global_step/sec: 69.6928\n",
      "INFO:tensorflow:loss = 3691675400.0, step = 29701 (1.419 sec)\n",
      "INFO:tensorflow:global_step/sec: 74.5166\n",
      "INFO:tensorflow:loss = 3629190400.0, step = 29801 (1.358 sec)\n",
      "INFO:tensorflow:global_step/sec: 74.0348\n",
      "INFO:tensorflow:loss = 6308067000.0, step = 29901 (1.335 sec)\n",
      "INFO:tensorflow:global_step/sec: 74.9085\n",
      "INFO:tensorflow:loss = 10086140000.0, step = 30001 (1.335 sec)\n",
      "INFO:tensorflow:global_step/sec: 71.0452\n",
      "INFO:tensorflow:loss = 1989724200.0, step = 30101 (1.408 sec)\n",
      "INFO:tensorflow:global_step/sec: 74.4271\n",
      "INFO:tensorflow:loss = 1708160800.0, step = 30201 (1.344 sec)\n",
      "INFO:tensorflow:global_step/sec: 74.8964\n",
      "INFO:tensorflow:loss = 6050176000.0, step = 30301 (1.335 sec)\n",
      "INFO:tensorflow:global_step/sec: 74.9218\n",
      "INFO:tensorflow:loss = 4979455000.0, step = 30401 (1.335 sec)\n",
      "INFO:tensorflow:global_step/sec: 72.8443\n",
      "INFO:tensorflow:loss = 2155244800.0, step = 30501 (1.373 sec)\n",
      "INFO:tensorflow:global_step/sec: 74.9161\n",
      "INFO:tensorflow:loss = 2676372700.0, step = 30601 (1.335 sec)\n",
      "INFO:tensorflow:global_step/sec: 75.65\n",
      "INFO:tensorflow:loss = 5345181000.0, step = 30701 (1.328 sec)\n",
      "INFO:tensorflow:global_step/sec: 74.551\n",
      "INFO:tensorflow:loss = 13595038000.0, step = 30801 (1.335 sec)\n",
      "INFO:tensorflow:global_step/sec: 74.0559\n",
      "INFO:tensorflow:loss = 5228404700.0, step = 30901 (1.366 sec)\n",
      "INFO:tensorflow:global_step/sec: 71.2216\n",
      "INFO:tensorflow:loss = 1665300600.0, step = 31001 (1.388 sec)\n",
      "INFO:tensorflow:global_step/sec: 75.2398\n",
      "INFO:tensorflow:loss = 4221627000.0, step = 31101 (1.329 sec)\n",
      "INFO:tensorflow:global_step/sec: 74.03\n",
      "INFO:tensorflow:loss = 3389677600.0, step = 31201 (1.351 sec)\n",
      "INFO:tensorflow:global_step/sec: 73.6975\n",
      "INFO:tensorflow:loss = 3264199400.0, step = 31301 (1.357 sec)\n"
     ]
    },
    {
     "name": "stdout",
     "output_type": "stream",
     "text": [
      "INFO:tensorflow:global_step/sec: 72.3698\n",
      "INFO:tensorflow:loss = 3093825800.0, step = 31401 (1.382 sec)\n",
      "INFO:tensorflow:global_step/sec: 74.4234\n",
      "INFO:tensorflow:loss = 6730300000.0, step = 31501 (1.344 sec)\n",
      "INFO:tensorflow:global_step/sec: 74.832\n",
      "INFO:tensorflow:loss = 3057695700.0, step = 31601 (1.336 sec)\n",
      "INFO:tensorflow:global_step/sec: 76.6952\n",
      "INFO:tensorflow:loss = 3443565300.0, step = 31701 (1.304 sec)\n",
      "INFO:tensorflow:global_step/sec: 71.2008\n",
      "INFO:tensorflow:loss = 6697696000.0, step = 31801 (1.404 sec)\n",
      "INFO:tensorflow:global_step/sec: 71.2278\n",
      "INFO:tensorflow:loss = 2484295000.0, step = 31901 (1.404 sec)\n",
      "INFO:tensorflow:global_step/sec: 73.691\n",
      "INFO:tensorflow:loss = 8484989000.0, step = 32001 (1.357 sec)\n",
      "INFO:tensorflow:global_step/sec: 75.7719\n",
      "INFO:tensorflow:loss = 9470104000.0, step = 32101 (1.320 sec)\n",
      "INFO:tensorflow:global_step/sec: 76.6829\n",
      "INFO:tensorflow:loss = 7998074000.0, step = 32201 (1.304 sec)\n",
      "INFO:tensorflow:global_step/sec: 72.3458\n",
      "INFO:tensorflow:loss = 18538062000.0, step = 32301 (1.389 sec)\n",
      "INFO:tensorflow:global_step/sec: 76.6913\n",
      "INFO:tensorflow:loss = 5654141000.0, step = 32401 (1.297 sec)\n",
      "INFO:tensorflow:global_step/sec: 77.6201\n",
      "INFO:tensorflow:loss = 2831301600.0, step = 32501 (1.288 sec)\n",
      "INFO:tensorflow:global_step/sec: 76.7035\n",
      "INFO:tensorflow:loss = 6218357000.0, step = 32601 (1.304 sec)\n",
      "INFO:tensorflow:global_step/sec: 72.8227\n",
      "INFO:tensorflow:loss = 1662529200.0, step = 32701 (1.373 sec)\n",
      "INFO:tensorflow:global_step/sec: 75.7812\n",
      "INFO:tensorflow:loss = 9028311000.0, step = 32801 (1.320 sec)\n",
      "INFO:tensorflow:global_step/sec: 76.6628\n",
      "INFO:tensorflow:loss = 1841570800.0, step = 32901 (1.342 sec)\n",
      "INFO:tensorflow:global_step/sec: 72.8333\n",
      "INFO:tensorflow:loss = 2869273300.0, step = 33001 (1.335 sec)\n",
      "INFO:tensorflow:global_step/sec: 74.0253\n",
      "INFO:tensorflow:loss = 18067433000.0, step = 33101 (1.351 sec)\n",
      "INFO:tensorflow:global_step/sec: 74.5447\n",
      "INFO:tensorflow:loss = 3068144000.0, step = 33201 (1.341 sec)\n",
      "INFO:tensorflow:global_step/sec: 74.7253\n",
      "INFO:tensorflow:loss = 5641988000.0, step = 33301 (1.338 sec)\n",
      "INFO:tensorflow:global_step/sec: 72.023\n",
      "INFO:tensorflow:loss = 2575247000.0, step = 33401 (1.388 sec)\n",
      "INFO:tensorflow:global_step/sec: 76.6816\n",
      "INFO:tensorflow:loss = 4718461000.0, step = 33501 (1.320 sec)\n",
      "INFO:tensorflow:global_step/sec: 71.2031\n",
      "INFO:tensorflow:loss = 4609955000.0, step = 33601 (1.389 sec)\n",
      "INFO:tensorflow:global_step/sec: 72.8316\n",
      "INFO:tensorflow:loss = 9459427000.0, step = 33701 (1.373 sec)\n",
      "INFO:tensorflow:global_step/sec: 71.2184\n",
      "INFO:tensorflow:loss = 3269664800.0, step = 33801 (1.404 sec)\n",
      "INFO:tensorflow:global_step/sec: 71.2171\n",
      "INFO:tensorflow:loss = 4067264500.0, step = 33901 (1.404 sec)\n",
      "INFO:tensorflow:global_step/sec: 68.1287\n",
      "INFO:tensorflow:loss = 7769399300.0, step = 34001 (1.468 sec)\n",
      "INFO:tensorflow:global_step/sec: 73.6853\n",
      "INFO:tensorflow:loss = 4078045400.0, step = 34101 (1.373 sec)\n",
      "INFO:tensorflow:global_step/sec: 73.1428\n",
      "INFO:tensorflow:loss = 7390991000.0, step = 34201 (1.352 sec)\n",
      "INFO:tensorflow:global_step/sec: 74.6911\n",
      "INFO:tensorflow:loss = 3159222800.0, step = 34301 (1.339 sec)\n",
      "INFO:tensorflow:global_step/sec: 70.4657\n",
      "INFO:tensorflow:loss = 8690642000.0, step = 34401 (1.419 sec)\n",
      "INFO:tensorflow:global_step/sec: 75.4089\n",
      "INFO:tensorflow:loss = 15976118000.0, step = 34501 (1.326 sec)\n",
      "INFO:tensorflow:global_step/sec: 74.0354\n",
      "INFO:tensorflow:loss = 4311583000.0, step = 34601 (1.351 sec)\n",
      "INFO:tensorflow:global_step/sec: 75.7967\n",
      "INFO:tensorflow:loss = 4535884300.0, step = 34701 (1.319 sec)\n",
      "INFO:tensorflow:global_step/sec: 72.0135\n",
      "INFO:tensorflow:loss = 7100150000.0, step = 34801 (1.389 sec)\n",
      "INFO:tensorflow:global_step/sec: 75.7774\n",
      "INFO:tensorflow:loss = 2184627000.0, step = 34901 (1.320 sec)\n",
      "INFO:tensorflow:global_step/sec: 71.9969\n",
      "INFO:tensorflow:loss = 5683969000.0, step = 35001 (1.389 sec)\n",
      "INFO:tensorflow:global_step/sec: 72.829\n",
      "INFO:tensorflow:loss = 6862226000.0, step = 35101 (1.373 sec)\n",
      "INFO:tensorflow:global_step/sec: 75.7759\n",
      "INFO:tensorflow:loss = 3256755000.0, step = 35201 (1.320 sec)\n",
      "INFO:tensorflow:global_step/sec: 72.0017\n",
      "INFO:tensorflow:loss = 4820396500.0, step = 35301 (1.389 sec)\n",
      "INFO:tensorflow:global_step/sec: 75.7742\n",
      "INFO:tensorflow:loss = 3809560800.0, step = 35401 (1.367 sec)\n",
      "INFO:tensorflow:global_step/sec: 68.1873\n",
      "INFO:tensorflow:loss = 3902700800.0, step = 35501 (1.420 sec)\n",
      "INFO:tensorflow:global_step/sec: 74.5403\n",
      "INFO:tensorflow:loss = 5120114700.0, step = 35601 (1.342 sec)\n",
      "INFO:tensorflow:global_step/sec: 72.8307\n",
      "INFO:tensorflow:loss = 4403489000.0, step = 35701 (1.373 sec)\n",
      "INFO:tensorflow:global_step/sec: 75.7585\n",
      "INFO:tensorflow:loss = 7661583400.0, step = 35801 (1.320 sec)\n",
      "INFO:tensorflow:global_step/sec: 75.8049\n",
      "INFO:tensorflow:loss = 5481620000.0, step = 35901 (1.319 sec)\n",
      "INFO:tensorflow:global_step/sec: 74.8944\n",
      "INFO:tensorflow:loss = 3668877800.0, step = 36001 (1.351 sec)\n",
      "INFO:tensorflow:global_step/sec: 71.2066\n",
      "INFO:tensorflow:loss = 3634007000.0, step = 36101 (1.404 sec)\n",
      "INFO:tensorflow:global_step/sec: 74.535\n",
      "INFO:tensorflow:loss = 3210681600.0, step = 36201 (1.326 sec)\n",
      "INFO:tensorflow:global_step/sec: 76.6829\n",
      "INFO:tensorflow:loss = 3095922000.0, step = 36301 (1.304 sec)\n",
      "INFO:tensorflow:global_step/sec: 75.7403\n",
      "INFO:tensorflow:loss = 3119257000.0, step = 36401 (1.320 sec)\n",
      "INFO:tensorflow:global_step/sec: 70.4375\n",
      "INFO:tensorflow:loss = 3855273200.0, step = 36501 (1.420 sec)\n",
      "INFO:tensorflow:global_step/sec: 69.671\n",
      "INFO:tensorflow:loss = 6734533600.0, step = 36601 (1.435 sec)\n",
      "INFO:tensorflow:global_step/sec: 74.5391\n",
      "INFO:tensorflow:loss = 2238683400.0, step = 36701 (1.342 sec)\n",
      "INFO:tensorflow:global_step/sec: 72.9041\n",
      "INFO:tensorflow:loss = 3539416800.0, step = 36801 (1.372 sec)\n",
      "INFO:tensorflow:global_step/sec: 76.7068\n",
      "INFO:tensorflow:loss = 5825134000.0, step = 36901 (1.304 sec)\n",
      "INFO:tensorflow:global_step/sec: 71.1988\n",
      "INFO:tensorflow:loss = 2380004000.0, step = 37001 (1.405 sec)\n",
      "INFO:tensorflow:global_step/sec: 73.9543\n",
      "INFO:tensorflow:loss = 930097700.0, step = 37101 (1.352 sec)\n",
      "INFO:tensorflow:global_step/sec: 74.0553\n",
      "INFO:tensorflow:loss = 7407897600.0, step = 37201 (1.350 sec)\n",
      "INFO:tensorflow:global_step/sec: 70.8366\n",
      "INFO:tensorflow:loss = 3017127700.0, step = 37301 (1.412 sec)\n",
      "INFO:tensorflow:global_step/sec: 70.4226\n",
      "INFO:tensorflow:loss = 2014579800.0, step = 37401 (1.420 sec)\n",
      "INFO:tensorflow:global_step/sec: 75.802\n",
      "INFO:tensorflow:loss = 1898261600.0, step = 37501 (1.319 sec)\n",
      "INFO:tensorflow:global_step/sec: 75.7794\n",
      "INFO:tensorflow:loss = 6568550400.0, step = 37601 (1.320 sec)\n",
      "INFO:tensorflow:global_step/sec: 73.6879\n",
      "INFO:tensorflow:loss = 6811425300.0, step = 37701 (1.357 sec)\n",
      "INFO:tensorflow:global_step/sec: 76.7111\n",
      "INFO:tensorflow:loss = 2782779000.0, step = 37801 (1.304 sec)\n",
      "INFO:tensorflow:global_step/sec: 69.6841\n",
      "INFO:tensorflow:loss = 4047850000.0, step = 37901 (1.435 sec)\n",
      "INFO:tensorflow:global_step/sec: 74.8971\n",
      "INFO:tensorflow:loss = 7318040000.0, step = 38001 (1.335 sec)\n",
      "INFO:tensorflow:global_step/sec: 77.6538\n",
      "INFO:tensorflow:loss = 18868077000.0, step = 38101 (1.303 sec)\n",
      "INFO:tensorflow:global_step/sec: 75.4188\n",
      "INFO:tensorflow:loss = 8148465700.0, step = 38201 (1.310 sec)\n",
      "INFO:tensorflow:global_step/sec: 72.3584\n",
      "INFO:tensorflow:loss = 6400082000.0, step = 38301 (1.382 sec)\n",
      "INFO:tensorflow:global_step/sec: 75.4231\n",
      "INFO:tensorflow:loss = 2694331100.0, step = 38401 (1.326 sec)\n",
      "INFO:tensorflow:global_step/sec: 74.9077\n",
      "INFO:tensorflow:loss = 6782467000.0, step = 38501 (1.335 sec)\n",
      "INFO:tensorflow:global_step/sec: 76.6995\n",
      "INFO:tensorflow:loss = 2142884500.0, step = 38601 (1.304 sec)\n",
      "INFO:tensorflow:global_step/sec: 71.205\n",
      "INFO:tensorflow:loss = 2657997000.0, step = 38701 (1.404 sec)\n",
      "INFO:tensorflow:global_step/sec: 74.8963\n",
      "INFO:tensorflow:loss = 8702289000.0, step = 38801 (1.335 sec)\n",
      "INFO:tensorflow:global_step/sec: 73.6855\n",
      "INFO:tensorflow:loss = 3186256000.0, step = 38901 (1.357 sec)\n",
      "INFO:tensorflow:global_step/sec: 76.6762\n",
      "INFO:tensorflow:loss = 16182796000.0, step = 39001 (1.320 sec)\n",
      "INFO:tensorflow:global_step/sec: 74.0535\n",
      "INFO:tensorflow:loss = 2247455000.0, step = 39101 (1.335 sec)\n",
      "INFO:tensorflow:global_step/sec: 72.0263\n",
      "INFO:tensorflow:loss = 1725285100.0, step = 39201 (1.388 sec)\n",
      "INFO:tensorflow:global_step/sec: 74.8778\n",
      "INFO:tensorflow:loss = 3970306800.0, step = 39301 (1.336 sec)\n"
     ]
    },
    {
     "name": "stdout",
     "output_type": "stream",
     "text": [
      "INFO:tensorflow:global_step/sec: 75.775\n",
      "INFO:tensorflow:loss = 3727270400.0, step = 39401 (1.320 sec)\n",
      "INFO:tensorflow:global_step/sec: 75.4444\n",
      "INFO:tensorflow:loss = 5125781000.0, step = 39501 (1.325 sec)\n",
      "INFO:tensorflow:global_step/sec: 73.1749\n",
      "INFO:tensorflow:loss = 3796945400.0, step = 39601 (1.367 sec)\n",
      "INFO:tensorflow:global_step/sec: 76.7245\n",
      "INFO:tensorflow:loss = 8450553000.0, step = 39701 (1.303 sec)\n",
      "INFO:tensorflow:global_step/sec: 76.6541\n",
      "INFO:tensorflow:loss = 4478076400.0, step = 39801 (1.305 sec)\n",
      "INFO:tensorflow:global_step/sec: 77.6038\n",
      "INFO:tensorflow:loss = 5329550000.0, step = 39901 (1.289 sec)\n",
      "INFO:tensorflow:global_step/sec: 73.6612\n",
      "INFO:tensorflow:loss = 3989525000.0, step = 40001 (1.358 sec)\n",
      "INFO:tensorflow:global_step/sec: 76.6756\n",
      "INFO:tensorflow:loss = 11522767000.0, step = 40101 (1.304 sec)\n",
      "INFO:tensorflow:global_step/sec: 75.7705\n",
      "INFO:tensorflow:loss = 2968909600.0, step = 40201 (1.320 sec)\n",
      "INFO:tensorflow:global_step/sec: 74.0409\n",
      "INFO:tensorflow:loss = 3937749800.0, step = 40301 (1.351 sec)\n",
      "INFO:tensorflow:global_step/sec: 75.4045\n",
      "INFO:tensorflow:loss = 9424523000.0, step = 40401 (1.326 sec)\n",
      "INFO:tensorflow:global_step/sec: 73.1839\n",
      "INFO:tensorflow:loss = 2968314000.0, step = 40501 (1.366 sec)\n",
      "INFO:tensorflow:global_step/sec: 74.5445\n",
      "INFO:tensorflow:loss = 11271997000.0, step = 40601 (1.341 sec)\n",
      "INFO:tensorflow:global_step/sec: 75.7939\n",
      "INFO:tensorflow:loss = 5868732400.0, step = 40701 (1.319 sec)\n",
      "INFO:tensorflow:global_step/sec: 75.7623\n",
      "INFO:tensorflow:loss = 2431465000.0, step = 40801 (1.320 sec)\n",
      "INFO:tensorflow:global_step/sec: 72.0018\n",
      "INFO:tensorflow:loss = 3673644300.0, step = 40901 (1.389 sec)\n",
      "INFO:tensorflow:global_step/sec: 74.9171\n",
      "INFO:tensorflow:loss = 2577171700.0, step = 41001 (1.335 sec)\n",
      "INFO:tensorflow:global_step/sec: 76.676\n",
      "INFO:tensorflow:loss = 2300988000.0, step = 41101 (1.320 sec)\n",
      "INFO:tensorflow:global_step/sec: 75.793\n",
      "INFO:tensorflow:loss = 7521289700.0, step = 41201 (1.303 sec)\n",
      "INFO:tensorflow:global_step/sec: 72.8451\n",
      "INFO:tensorflow:loss = 6625618400.0, step = 41301 (1.373 sec)\n",
      "INFO:tensorflow:global_step/sec: 73.9285\n",
      "INFO:tensorflow:loss = 2824995300.0, step = 41401 (1.353 sec)\n",
      "INFO:tensorflow:global_step/sec: 75.4427\n",
      "INFO:tensorflow:loss = 4102621200.0, step = 41501 (1.326 sec)\n",
      "INFO:tensorflow:global_step/sec: 77.1098\n",
      "INFO:tensorflow:loss = 2826820400.0, step = 41601 (1.297 sec)\n",
      "INFO:tensorflow:global_step/sec: 76.6792\n",
      "INFO:tensorflow:loss = 3141234400.0, step = 41701 (1.311 sec)\n",
      "INFO:tensorflow:global_step/sec: 73.6787\n",
      "INFO:tensorflow:loss = 5521922600.0, step = 41801 (1.351 sec)\n",
      "INFO:tensorflow:global_step/sec: 74.8927\n",
      "INFO:tensorflow:loss = 6144969700.0, step = 41901 (1.335 sec)\n",
      "INFO:tensorflow:global_step/sec: 76.6264\n",
      "INFO:tensorflow:loss = 8736988000.0, step = 42001 (1.305 sec)\n",
      "INFO:tensorflow:global_step/sec: 76.6727\n",
      "INFO:tensorflow:loss = 1927993300.0, step = 42101 (1.304 sec)\n",
      "INFO:tensorflow:global_step/sec: 72.838\n",
      "INFO:tensorflow:loss = 2398238000.0, step = 42201 (1.977 sec)\n",
      "INFO:tensorflow:global_step/sec: 51.9908\n",
      "INFO:tensorflow:loss = 1982624400.0, step = 42301 (1.319 sec)\n",
      "INFO:tensorflow:global_step/sec: 77.6118\n",
      "INFO:tensorflow:loss = 8945585000.0, step = 42401 (1.304 sec)\n",
      "INFO:tensorflow:global_step/sec: 75.7718\n",
      "INFO:tensorflow:loss = 3147542800.0, step = 42501 (1.304 sec)\n",
      "INFO:tensorflow:global_step/sec: 73.6647\n",
      "INFO:tensorflow:loss = 10380319000.0, step = 42601 (1.373 sec)\n",
      "INFO:tensorflow:global_step/sec: 74.9098\n",
      "INFO:tensorflow:loss = 3012889300.0, step = 42701 (1.319 sec)\n",
      "INFO:tensorflow:global_step/sec: 76.7061\n",
      "INFO:tensorflow:loss = 2031440000.0, step = 42801 (1.304 sec)\n",
      "INFO:tensorflow:global_step/sec: 75.1748\n",
      "INFO:tensorflow:loss = 3302887200.0, step = 42901 (1.330 sec)\n",
      "INFO:tensorflow:global_step/sec: 76.3879\n",
      "INFO:tensorflow:loss = 1575331000.0, step = 43001 (1.309 sec)\n",
      "INFO:tensorflow:global_step/sec: 72.8675\n",
      "INFO:tensorflow:loss = 2628693500.0, step = 43101 (1.372 sec)\n",
      "INFO:tensorflow:global_step/sec: 75.7889\n",
      "INFO:tensorflow:loss = 2793897500.0, step = 43201 (1.319 sec)\n",
      "INFO:tensorflow:global_step/sec: 76.6895\n",
      "INFO:tensorflow:loss = 2048373600.0, step = 43301 (1.304 sec)\n",
      "INFO:tensorflow:global_step/sec: 76.6814\n",
      "INFO:tensorflow:loss = 2317600500.0, step = 43401 (1.304 sec)\n",
      "INFO:tensorflow:global_step/sec: 72.8316\n",
      "INFO:tensorflow:loss = 1656925300.0, step = 43501 (1.373 sec)\n",
      "INFO:tensorflow:global_step/sec: 76.6877\n",
      "INFO:tensorflow:loss = 2687873000.0, step = 43601 (1.304 sec)\n",
      "INFO:tensorflow:global_step/sec: 76.6933\n",
      "INFO:tensorflow:loss = 5363964400.0, step = 43701 (1.304 sec)\n",
      "INFO:tensorflow:global_step/sec: 77.6036\n",
      "INFO:tensorflow:loss = 1956226400.0, step = 43801 (1.304 sec)\n",
      "INFO:tensorflow:global_step/sec: 71.2292\n",
      "INFO:tensorflow:loss = 3837599700.0, step = 43901 (1.388 sec)\n",
      "INFO:tensorflow:global_step/sec: 75.7904\n",
      "INFO:tensorflow:loss = 5288220000.0, step = 44001 (1.319 sec)\n",
      "INFO:tensorflow:global_step/sec: 76.7038\n",
      "INFO:tensorflow:loss = 1764453000.0, step = 44101 (1.304 sec)\n",
      "INFO:tensorflow:global_step/sec: 76.6809\n",
      "INFO:tensorflow:loss = 2682747000.0, step = 44201 (1.304 sec)\n",
      "INFO:tensorflow:global_step/sec: 76.683\n",
      "INFO:tensorflow:loss = 16628312000.0, step = 44301 (1.304 sec)\n",
      "INFO:tensorflow:Saving checkpoints for 44389 into C:\\Users\\Subham\\AppData\\Local\\Temp\\tmpu6fhla04\\model.ckpt.\n",
      "INFO:tensorflow:global_step/sec: 49.6514\n",
      "INFO:tensorflow:loss = 5282265600.0, step = 44401 (2.014 sec)\n",
      "INFO:tensorflow:global_step/sec: 113.855\n",
      "INFO:tensorflow:loss = 5900619300.0, step = 44501 (0.878 sec)\n",
      "INFO:tensorflow:global_step/sec: 75.7706\n",
      "INFO:tensorflow:loss = 9587418000.0, step = 44601 (1.320 sec)\n",
      "INFO:tensorflow:global_step/sec: 76.6834\n",
      "INFO:tensorflow:loss = 2924786000.0, step = 44701 (1.304 sec)\n",
      "INFO:tensorflow:global_step/sec: 73.187\n",
      "INFO:tensorflow:loss = 3021210600.0, step = 44801 (1.366 sec)\n",
      "INFO:tensorflow:global_step/sec: 76.7152\n",
      "INFO:tensorflow:loss = 2482980900.0, step = 44901 (1.304 sec)\n",
      "INFO:tensorflow:global_step/sec: 76.7136\n",
      "INFO:tensorflow:loss = 2668002800.0, step = 45001 (1.304 sec)\n",
      "INFO:tensorflow:global_step/sec: 75.4328\n",
      "INFO:tensorflow:loss = 2140774800.0, step = 45101 (1.326 sec)\n",
      "INFO:tensorflow:global_step/sec: 72.356\n",
      "INFO:tensorflow:loss = 6410194400.0, step = 45201 (1.382 sec)\n",
      "INFO:tensorflow:global_step/sec: 76.3359\n",
      "INFO:tensorflow:loss = 2665595000.0, step = 45301 (1.310 sec)\n",
      "INFO:tensorflow:global_step/sec: 76.6995\n",
      "INFO:tensorflow:loss = 2029482500.0, step = 45401 (1.304 sec)\n",
      "INFO:tensorflow:global_step/sec: 76.7005\n",
      "INFO:tensorflow:loss = 3130695000.0, step = 45501 (1.304 sec)\n",
      "INFO:tensorflow:global_step/sec: 76.7079\n",
      "INFO:tensorflow:loss = 6222764500.0, step = 45601 (1.304 sec)\n",
      "INFO:tensorflow:global_step/sec: 72.3519\n",
      "INFO:tensorflow:loss = 3571132700.0, step = 45701 (1.382 sec)\n",
      "INFO:tensorflow:global_step/sec: 77.651\n",
      "INFO:tensorflow:loss = 3078685400.0, step = 45801 (1.288 sec)\n",
      "INFO:tensorflow:global_step/sec: 76.7082\n",
      "INFO:tensorflow:loss = 2964867600.0, step = 45901 (1.304 sec)\n",
      "INFO:tensorflow:global_step/sec: 76.6842\n",
      "INFO:tensorflow:loss = 6787885000.0, step = 46001 (1.320 sec)\n",
      "INFO:tensorflow:global_step/sec: 72.8341\n",
      "INFO:tensorflow:loss = 9581532000.0, step = 46101 (1.357 sec)\n",
      "INFO:tensorflow:global_step/sec: 76.6894\n",
      "INFO:tensorflow:loss = 4778476500.0, step = 46201 (1.304 sec)\n",
      "INFO:tensorflow:global_step/sec: 74.9276\n",
      "INFO:tensorflow:loss = 2013853800.0, step = 46301 (1.335 sec)\n",
      "INFO:tensorflow:global_step/sec: 76.6758\n",
      "INFO:tensorflow:loss = 3023070500.0, step = 46401 (1.304 sec)\n",
      "INFO:tensorflow:global_step/sec: 73.6776\n",
      "INFO:tensorflow:loss = 7687111000.0, step = 46501 (1.357 sec)\n",
      "INFO:tensorflow:global_step/sec: 75.7679\n",
      "INFO:tensorflow:loss = 5053226000.0, step = 46601 (1.320 sec)\n",
      "INFO:tensorflow:global_step/sec: 76.6999\n",
      "INFO:tensorflow:loss = 5063636000.0, step = 46701 (1.304 sec)\n",
      "INFO:tensorflow:global_step/sec: 77.6051\n",
      "INFO:tensorflow:loss = 6236772000.0, step = 46801 (1.289 sec)\n",
      "INFO:tensorflow:global_step/sec: 76.7053\n",
      "INFO:tensorflow:loss = 5413916000.0, step = 46901 (1.304 sec)\n",
      "INFO:tensorflow:global_step/sec: 73.1881\n",
      "INFO:tensorflow:loss = 3208891400.0, step = 47001 (1.366 sec)\n",
      "INFO:tensorflow:global_step/sec: 76.5948\n",
      "INFO:tensorflow:loss = 4780781600.0, step = 47101 (1.306 sec)\n",
      "INFO:tensorflow:global_step/sec: 76.6913\n",
      "INFO:tensorflow:loss = 4200616200.0, step = 47201 (1.304 sec)\n"
     ]
    },
    {
     "name": "stdout",
     "output_type": "stream",
     "text": [
      "INFO:tensorflow:global_step/sec: 77.6127\n",
      "INFO:tensorflow:loss = 2856717300.0, step = 47301 (1.288 sec)\n",
      "INFO:tensorflow:global_step/sec: 73.5743\n",
      "INFO:tensorflow:loss = 1991150100.0, step = 47401 (1.359 sec)\n",
      "INFO:tensorflow:global_step/sec: 74.9274\n",
      "INFO:tensorflow:loss = 6061218000.0, step = 47501 (1.335 sec)\n",
      "INFO:tensorflow:global_step/sec: 76.6866\n",
      "INFO:tensorflow:loss = 2540916200.0, step = 47601 (1.304 sec)\n",
      "INFO:tensorflow:global_step/sec: 75.7707\n",
      "INFO:tensorflow:loss = 1654264800.0, step = 47701 (1.320 sec)\n",
      "INFO:tensorflow:global_step/sec: 72.835\n",
      "INFO:tensorflow:loss = 11297613000.0, step = 47801 (1.373 sec)\n",
      "INFO:tensorflow:global_step/sec: 77.6256\n",
      "INFO:tensorflow:loss = 8714634000.0, step = 47901 (1.288 sec)\n",
      "INFO:tensorflow:global_step/sec: 75.7667\n",
      "INFO:tensorflow:loss = 1357034900.0, step = 48001 (1.320 sec)\n",
      "INFO:tensorflow:global_step/sec: 75.7957\n",
      "INFO:tensorflow:loss = 3864833500.0, step = 48101 (1.319 sec)\n",
      "INFO:tensorflow:global_step/sec: 76.6826\n",
      "INFO:tensorflow:loss = 2769385000.0, step = 48201 (1.304 sec)\n",
      "INFO:tensorflow:global_step/sec: 72.834\n",
      "INFO:tensorflow:loss = 3417683200.0, step = 48301 (1.373 sec)\n",
      "INFO:tensorflow:global_step/sec: 74.8938\n",
      "INFO:tensorflow:loss = 2570463200.0, step = 48401 (1.335 sec)\n",
      "INFO:tensorflow:global_step/sec: 76.7055\n",
      "INFO:tensorflow:loss = 4151070200.0, step = 48501 (1.304 sec)\n",
      "INFO:tensorflow:global_step/sec: 75.7725\n",
      "INFO:tensorflow:loss = 5979624400.0, step = 48601 (1.320 sec)\n",
      "INFO:tensorflow:global_step/sec: 71.2267\n",
      "INFO:tensorflow:loss = 13899439000.0, step = 48701 (1.404 sec)\n",
      "INFO:tensorflow:global_step/sec: 74.884\n",
      "INFO:tensorflow:loss = 5575657000.0, step = 48801 (1.335 sec)\n",
      "INFO:tensorflow:global_step/sec: 75.3127\n",
      "INFO:tensorflow:loss = 7101217000.0, step = 48901 (1.328 sec)\n",
      "INFO:tensorflow:global_step/sec: 76.6722\n",
      "INFO:tensorflow:loss = 4167373600.0, step = 49001 (1.304 sec)\n",
      "INFO:tensorflow:global_step/sec: 72.3579\n",
      "INFO:tensorflow:loss = 3312917200.0, step = 49101 (1.382 sec)\n",
      "INFO:tensorflow:global_step/sec: 76.3188\n",
      "INFO:tensorflow:loss = 5051299000.0, step = 49201 (1.310 sec)\n",
      "INFO:tensorflow:global_step/sec: 76.6998\n",
      "INFO:tensorflow:loss = 2645690000.0, step = 49301 (1.319 sec)\n",
      "INFO:tensorflow:global_step/sec: 76.7045\n",
      "INFO:tensorflow:loss = 7909935600.0, step = 49401 (1.288 sec)\n",
      "INFO:tensorflow:global_step/sec: 76.7038\n",
      "INFO:tensorflow:loss = 4436507000.0, step = 49501 (1.304 sec)\n",
      "INFO:tensorflow:global_step/sec: 76.6775\n",
      "INFO:tensorflow:loss = 1821921500.0, step = 49601 (1.304 sec)\n",
      "INFO:tensorflow:global_step/sec: 72.3738\n",
      "INFO:tensorflow:loss = 3200001800.0, step = 49701 (1.382 sec)\n",
      "INFO:tensorflow:global_step/sec: 76.7102\n",
      "INFO:tensorflow:loss = 5166844400.0, step = 49801 (1.304 sec)\n",
      "INFO:tensorflow:global_step/sec: 75.3385\n",
      "INFO:tensorflow:loss = 5140768000.0, step = 49901 (1.327 sec)\n",
      "INFO:tensorflow:global_step/sec: 76.6999\n",
      "INFO:tensorflow:loss = 2725018400.0, step = 50001 (1.304 sec)\n",
      "INFO:tensorflow:global_step/sec: 76.7292\n",
      "INFO:tensorflow:loss = 4491792000.0, step = 50101 (1.303 sec)\n",
      "INFO:tensorflow:global_step/sec: 76.7093\n",
      "INFO:tensorflow:loss = 1634139300.0, step = 50201 (1.304 sec)\n",
      "INFO:tensorflow:global_step/sec: 76.7081\n",
      "INFO:tensorflow:loss = 2950759200.0, step = 50301 (1.304 sec)\n",
      "INFO:tensorflow:global_step/sec: 77.0761\n",
      "INFO:tensorflow:loss = 2519321600.0, step = 50401 (1.297 sec)\n",
      "INFO:tensorflow:global_step/sec: 72.8535\n",
      "INFO:tensorflow:loss = 1532796500.0, step = 50501 (1.373 sec)\n",
      "INFO:tensorflow:global_step/sec: 76.7069\n",
      "INFO:tensorflow:loss = 2905422000.0, step = 50601 (1.304 sec)\n",
      "INFO:tensorflow:global_step/sec: 76.695\n",
      "INFO:tensorflow:loss = 5053538000.0, step = 50701 (1.304 sec)\n",
      "INFO:tensorflow:global_step/sec: 77.6052\n",
      "INFO:tensorflow:loss = 2500055800.0, step = 50801 (1.304 sec)\n",
      "INFO:tensorflow:global_step/sec: 75.794\n",
      "INFO:tensorflow:loss = 2624639500.0, step = 50901 (1.304 sec)\n",
      "INFO:tensorflow:global_step/sec: 76.694\n",
      "INFO:tensorflow:loss = 7507490300.0, step = 51001 (1.304 sec)\n",
      "INFO:tensorflow:global_step/sec: 75.792\n",
      "INFO:tensorflow:loss = 3969487400.0, step = 51101 (1.335 sec)\n",
      "INFO:tensorflow:global_step/sec: 74.5652\n",
      "INFO:tensorflow:loss = 2140146200.0, step = 51201 (1.326 sec)\n",
      "INFO:tensorflow:global_step/sec: 74.0327\n",
      "INFO:tensorflow:loss = 2565230000.0, step = 51301 (1.351 sec)\n",
      "INFO:tensorflow:global_step/sec: 76.6976\n",
      "INFO:tensorflow:loss = 9767949000.0, step = 51401 (1.304 sec)\n",
      "INFO:tensorflow:global_step/sec: 76.6921\n",
      "INFO:tensorflow:loss = 10128428000.0, step = 51501 (1.304 sec)\n",
      "INFO:tensorflow:global_step/sec: 77.6322\n",
      "INFO:tensorflow:loss = 5536197000.0, step = 51601 (1.288 sec)\n",
      "INFO:tensorflow:global_step/sec: 76.6914\n",
      "INFO:tensorflow:loss = 4065951500.0, step = 51701 (1.304 sec)\n",
      "INFO:tensorflow:global_step/sec: 76.6878\n",
      "INFO:tensorflow:loss = 1765784400.0, step = 51801 (1.304 sec)\n",
      "INFO:tensorflow:global_step/sec: 77.644\n",
      "INFO:tensorflow:loss = 4376751600.0, step = 51901 (1.288 sec)\n",
      "INFO:tensorflow:global_step/sec: 71.9354\n",
      "INFO:tensorflow:loss = 4475350000.0, step = 52001 (1.390 sec)\n",
      "INFO:tensorflow:global_step/sec: 76.6839\n",
      "INFO:tensorflow:loss = 8328150000.0, step = 52101 (1.304 sec)\n",
      "INFO:tensorflow:global_step/sec: 76.7107\n",
      "INFO:tensorflow:loss = 5575977000.0, step = 52201 (1.304 sec)\n",
      "INFO:tensorflow:global_step/sec: 75.8025\n",
      "INFO:tensorflow:loss = 2759570400.0, step = 52301 (1.319 sec)\n",
      "INFO:tensorflow:global_step/sec: 74.8947\n",
      "INFO:tensorflow:loss = 2931936500.0, step = 52401 (1.335 sec)\n",
      "INFO:tensorflow:global_step/sec: 76.7085\n",
      "INFO:tensorflow:loss = 12486683000.0, step = 52501 (1.304 sec)\n",
      "INFO:tensorflow:global_step/sec: 76.6666\n",
      "INFO:tensorflow:loss = 4172149800.0, step = 52601 (1.304 sec)\n",
      "INFO:tensorflow:global_step/sec: 76.6753\n",
      "INFO:tensorflow:loss = 7301060000.0, step = 52701 (1.304 sec)\n",
      "INFO:tensorflow:global_step/sec: 73.6805\n",
      "INFO:tensorflow:loss = 6196087300.0, step = 52801 (1.363 sec)\n",
      "INFO:tensorflow:global_step/sec: 76.6766\n",
      "INFO:tensorflow:loss = 13084775000.0, step = 52901 (1.298 sec)\n",
      "INFO:tensorflow:global_step/sec: 77.6158\n",
      "INFO:tensorflow:loss = 1842234800.0, step = 53001 (1.288 sec)\n",
      "INFO:tensorflow:global_step/sec: 74.9094\n",
      "INFO:tensorflow:loss = 2560445000.0, step = 53101 (1.335 sec)\n",
      "INFO:tensorflow:global_step/sec: 76.7235\n",
      "INFO:tensorflow:loss = 2409361000.0, step = 53201 (1.303 sec)\n",
      "INFO:tensorflow:global_step/sec: 77.6353\n",
      "INFO:tensorflow:loss = 4166160400.0, step = 53301 (1.288 sec)\n",
      "INFO:tensorflow:global_step/sec: 76.6795\n",
      "INFO:tensorflow:loss = 2998721500.0, step = 53401 (1.304 sec)\n",
      "INFO:tensorflow:global_step/sec: 76.6806\n",
      "INFO:tensorflow:loss = 4956023300.0, step = 53501 (1.304 sec)\n",
      "INFO:tensorflow:global_step/sec: 72.3831\n",
      "INFO:tensorflow:loss = 1783110100.0, step = 53601 (1.420 sec)\n",
      "INFO:tensorflow:global_step/sec: 74.541\n",
      "INFO:tensorflow:loss = 4486177000.0, step = 53701 (1.303 sec)\n",
      "INFO:tensorflow:global_step/sec: 77.6425\n",
      "INFO:tensorflow:loss = 6891852000.0, step = 53801 (1.288 sec)\n",
      "INFO:tensorflow:global_step/sec: 75.7739\n",
      "INFO:tensorflow:loss = 3845164500.0, step = 53901 (1.320 sec)\n",
      "INFO:tensorflow:global_step/sec: 76.6729\n",
      "INFO:tensorflow:loss = 12974063000.0, step = 54001 (1.304 sec)\n",
      "INFO:tensorflow:global_step/sec: 76.6928\n",
      "INFO:tensorflow:loss = 5572826600.0, step = 54101 (1.304 sec)\n",
      "INFO:tensorflow:global_step/sec: 75.7954\n",
      "INFO:tensorflow:loss = 9634612000.0, step = 54201 (1.319 sec)\n",
      "INFO:tensorflow:global_step/sec: 75.7685\n",
      "INFO:tensorflow:loss = 4302967300.0, step = 54301 (1.320 sec)\n",
      "INFO:tensorflow:global_step/sec: 72.815\n",
      "INFO:tensorflow:loss = 5646125000.0, step = 54401 (1.373 sec)\n",
      "INFO:tensorflow:global_step/sec: 75.7764\n",
      "INFO:tensorflow:loss = 7853595600.0, step = 54501 (1.320 sec)\n",
      "INFO:tensorflow:global_step/sec: 75.8002\n",
      "INFO:tensorflow:loss = 8738229000.0, step = 54601 (1.319 sec)\n",
      "INFO:tensorflow:global_step/sec: 72.8228\n",
      "INFO:tensorflow:loss = 4155367400.0, step = 54701 (1.373 sec)\n",
      "INFO:tensorflow:global_step/sec: 72.8581\n",
      "INFO:tensorflow:loss = 5134254600.0, step = 54801 (1.373 sec)\n",
      "INFO:tensorflow:global_step/sec: 71.4563\n",
      "INFO:tensorflow:loss = 6560044500.0, step = 54901 (1.399 sec)\n",
      "INFO:tensorflow:global_step/sec: 75.4496\n",
      "INFO:tensorflow:loss = 5428272000.0, step = 55001 (1.325 sec)\n",
      "INFO:tensorflow:global_step/sec: 70.4498\n",
      "INFO:tensorflow:loss = 3125506600.0, step = 55101 (1.419 sec)\n",
      "INFO:tensorflow:global_step/sec: 74.8805\n",
      "INFO:tensorflow:loss = 1721061900.0, step = 55201 (1.335 sec)\n"
     ]
    },
    {
     "name": "stdout",
     "output_type": "stream",
     "text": [
      "INFO:tensorflow:global_step/sec: 72.746\n",
      "INFO:tensorflow:loss = 5805468700.0, step = 55301 (1.375 sec)\n",
      "INFO:tensorflow:global_step/sec: 69.9377\n",
      "INFO:tensorflow:loss = 3988011000.0, step = 55401 (1.430 sec)\n",
      "INFO:tensorflow:global_step/sec: 75.5555\n",
      "INFO:tensorflow:loss = 3109886000.0, step = 55501 (1.324 sec)\n",
      "INFO:tensorflow:global_step/sec: 74.0398\n",
      "INFO:tensorflow:loss = 3640796200.0, step = 55601 (1.351 sec)\n",
      "INFO:tensorflow:global_step/sec: 74.8863\n",
      "INFO:tensorflow:loss = 5488793600.0, step = 55701 (1.335 sec)\n",
      "INFO:tensorflow:global_step/sec: 75.4223\n",
      "INFO:tensorflow:loss = 3760484000.0, step = 55801 (1.326 sec)\n",
      "INFO:tensorflow:global_step/sec: 70.4519\n",
      "INFO:tensorflow:loss = 5116625400.0, step = 55901 (1.435 sec)\n",
      "INFO:tensorflow:global_step/sec: 74.0296\n",
      "INFO:tensorflow:loss = 7769937400.0, step = 56001 (1.335 sec)\n",
      "INFO:tensorflow:global_step/sec: 74.549\n",
      "INFO:tensorflow:loss = 7262105000.0, step = 56101 (1.341 sec)\n",
      "INFO:tensorflow:global_step/sec: 74.0415\n",
      "INFO:tensorflow:loss = 3361257000.0, step = 56201 (1.351 sec)\n",
      "INFO:tensorflow:global_step/sec: 75.7615\n",
      "INFO:tensorflow:loss = 4304140000.0, step = 56301 (1.320 sec)\n",
      "INFO:tensorflow:global_step/sec: 75.3986\n",
      "INFO:tensorflow:loss = 8250028000.0, step = 56401 (1.326 sec)\n",
      "INFO:tensorflow:global_step/sec: 72.369\n",
      "INFO:tensorflow:loss = 6957822000.0, step = 56501 (1.382 sec)\n",
      "INFO:tensorflow:global_step/sec: 75.8156\n",
      "INFO:tensorflow:loss = 5189152300.0, step = 56601 (1.319 sec)\n",
      "INFO:tensorflow:global_step/sec: 72.8378\n",
      "INFO:tensorflow:loss = 3366710300.0, step = 56701 (1.373 sec)\n",
      "INFO:tensorflow:Saving checkpoints for 56778 into C:\\Users\\Subham\\AppData\\Local\\Temp\\tmpu6fhla04\\model.ckpt.\n",
      "INFO:tensorflow:Loss for final step: 4924799500.0.\n"
     ]
    },
    {
     "data": {
      "text/plain": [
       "<tensorflow_estimator.python.estimator.canned.dnn.DNNRegressor at 0x266411ba048>"
      ]
     },
     "execution_count": 100,
     "metadata": {},
     "output_type": "execute_result"
    }
   ],
   "source": [
    "model.train(input_fn=ip_train,steps=99999)\n",
    "\n",
    "# pd.getdummies join should be changed - "
   ]
  },
  {
   "cell_type": "markdown",
   "metadata": {},
   "source": [
    "#### Evaluating Model"
   ]
  },
  {
   "cell_type": "code",
   "execution_count": 101,
   "metadata": {},
   "outputs": [
    {
     "name": "stdout",
     "output_type": "stream",
     "text": [
      "INFO:tensorflow:Calling model_fn.\n",
      "INFO:tensorflow:Done calling model_fn.\n",
      "INFO:tensorflow:Starting evaluation at 2019-12-29T09:24:33Z\n",
      "INFO:tensorflow:Graph was finalized.\n",
      "WARNING:tensorflow:From C:\\Users\\Subham\\Anaconda3\\lib\\site-packages\\tensorflow\\python\\training\\saver.py:1266: checkpoint_exists (from tensorflow.python.training.checkpoint_management) is deprecated and will be removed in a future version.\n",
      "Instructions for updating:\n",
      "Use standard file APIs to check for files with this prefix.\n",
      "INFO:tensorflow:Restoring parameters from C:\\Users\\Subham\\AppData\\Local\\Temp\\tmpu6fhla04\\model.ckpt-56778\n",
      "INFO:tensorflow:Running local_init_op.\n",
      "INFO:tensorflow:Done running local_init_op.\n",
      "INFO:tensorflow:Evaluation [100/1000]\n",
      "INFO:tensorflow:Evaluation [200/1000]\n",
      "INFO:tensorflow:Evaluation [300/1000]\n",
      "INFO:tensorflow:Evaluation [400/1000]\n",
      "INFO:tensorflow:Evaluation [500/1000]\n",
      "INFO:tensorflow:Evaluation [600/1000]\n",
      "INFO:tensorflow:Evaluation [700/1000]\n",
      "INFO:tensorflow:Evaluation [800/1000]\n",
      "INFO:tensorflow:Evaluation [900/1000]\n",
      "INFO:tensorflow:Evaluation [1000/1000]\n",
      "INFO:tensorflow:Finished evaluation at 2019-12-29-09:24:48\n",
      "INFO:tensorflow:Saving dict for global step 56778: average_loss = 254541680.0, global_step = 56778, label/mean = 180385.89, loss = 4581750300.0, prediction/mean = 178803.84\n",
      "INFO:tensorflow:Saving 'checkpoint_path' summary for global step 56778: C:\\Users\\Subham\\AppData\\Local\\Temp\\tmpu6fhla04\\model.ckpt-56778\n"
     ]
    },
    {
     "data": {
      "text/plain": [
       "{'average_loss': 254541680.0,\n",
       " 'label/mean': 180385.89,\n",
       " 'loss': 4581750300.0,\n",
       " 'prediction/mean': 178803.84,\n",
       " 'global_step': 56778}"
      ]
     },
     "execution_count": 101,
     "metadata": {},
     "output_type": "execute_result"
    }
   ],
   "source": [
    "model.evaluate(ip_train,steps=1000)"
   ]
  },
  {
   "cell_type": "code",
   "execution_count": 103,
   "metadata": {},
   "outputs": [],
   "source": [
    "ip_test = tf.estimator.inputs.pandas_input_fn(x=X_test.reset_index(drop=True),\n",
    "                                               y=y_test.reset_index(drop=True),\n",
    "                                               batch_size=18,num_epochs=1000,shuffle=False)"
   ]
  },
  {
   "cell_type": "code",
   "execution_count": 104,
   "metadata": {},
   "outputs": [
    {
     "name": "stdout",
     "output_type": "stream",
     "text": [
      "INFO:tensorflow:Calling model_fn.\n",
      "INFO:tensorflow:Done calling model_fn.\n",
      "INFO:tensorflow:Starting evaluation at 2019-12-29T09:26:37Z\n",
      "INFO:tensorflow:Graph was finalized.\n",
      "INFO:tensorflow:Restoring parameters from C:\\Users\\Subham\\AppData\\Local\\Temp\\tmpu6fhla04\\model.ckpt-56778\n",
      "INFO:tensorflow:Running local_init_op.\n",
      "INFO:tensorflow:Done running local_init_op.\n",
      "INFO:tensorflow:Evaluation [100/1000]\n",
      "INFO:tensorflow:Evaluation [200/1000]\n",
      "INFO:tensorflow:Evaluation [300/1000]\n",
      "INFO:tensorflow:Evaluation [400/1000]\n",
      "INFO:tensorflow:Evaluation [500/1000]\n",
      "INFO:tensorflow:Evaluation [600/1000]\n",
      "INFO:tensorflow:Evaluation [700/1000]\n",
      "INFO:tensorflow:Evaluation [800/1000]\n",
      "INFO:tensorflow:Evaluation [900/1000]\n",
      "INFO:tensorflow:Evaluation [1000/1000]\n",
      "INFO:tensorflow:Finished evaluation at 2019-12-29-09:26:51\n",
      "INFO:tensorflow:Saving dict for global step 56778: average_loss = 1258166800.0, global_step = 56778, label/mean = 182097.97, loss = 22647001000.0, prediction/mean = 183666.8\n",
      "INFO:tensorflow:Saving 'checkpoint_path' summary for global step 56778: C:\\Users\\Subham\\AppData\\Local\\Temp\\tmpu6fhla04\\model.ckpt-56778\n"
     ]
    },
    {
     "data": {
      "text/plain": [
       "{'average_loss': 1258166800.0,\n",
       " 'label/mean': 182097.97,\n",
       " 'loss': 22647001000.0,\n",
       " 'prediction/mean': 183666.8,\n",
       " 'global_step': 56778}"
      ]
     },
     "execution_count": 104,
     "metadata": {},
     "output_type": "execute_result"
    }
   ],
   "source": [
    "model.evaluate(ip_test,steps=1000)"
   ]
  },
  {
   "cell_type": "code",
   "execution_count": 105,
   "metadata": {},
   "outputs": [],
   "source": [
    "ip_eval = tf.estimator.inputs.pandas_input_fn(x=X_test.reset_index(drop=True),\n",
    "                                              batch_size=10,shuffle=False)"
   ]
  },
  {
   "cell_type": "code",
   "execution_count": 106,
   "metadata": {},
   "outputs": [
    {
     "name": "stdout",
     "output_type": "stream",
     "text": [
      "INFO:tensorflow:Calling model_fn.\n",
      "INFO:tensorflow:Done calling model_fn.\n",
      "INFO:tensorflow:Graph was finalized.\n",
      "INFO:tensorflow:Restoring parameters from C:\\Users\\Subham\\AppData\\Local\\Temp\\tmpu6fhla04\\model.ckpt-56778\n",
      "INFO:tensorflow:Running local_init_op.\n",
      "INFO:tensorflow:Done running local_init_op.\n"
     ]
    }
   ],
   "source": [
    "pred = list(model.predict(input_fn=ip_eval)) # Generator produced"
   ]
  },
  {
   "cell_type": "code",
   "execution_count": 108,
   "metadata": {},
   "outputs": [
    {
     "data": {
      "text/plain": [
       "35431.45032541397"
      ]
     },
     "execution_count": 108,
     "metadata": {},
     "output_type": "execute_result"
    }
   ],
   "source": [
    "final_preds = []\n",
    "for val in pred:\n",
    "    final_preds.append(val['predictions'])\n",
    "    \n",
    "from sklearn.metrics import mean_squared_error  \n",
    "mean_squared_error(y_test,final_preds)**0.5\n",
    "\n",
    "# Not performed that well."
   ]
  },
  {
   "cell_type": "markdown",
   "metadata": {},
   "source": [
    "### 11 : Using XGBoost"
   ]
  },
  {
   "cell_type": "code",
   "execution_count": 112,
   "metadata": {},
   "outputs": [],
   "source": [
    "from xgboost import XGBRegressor"
   ]
  },
  {
   "cell_type": "code",
   "execution_count": 113,
   "metadata": {},
   "outputs": [],
   "source": [
    "xgb = XGBRegressor()"
   ]
  },
  {
   "cell_type": "code",
   "execution_count": 120,
   "metadata": {},
   "outputs": [
    {
     "name": "stderr",
     "output_type": "stream",
     "text": [
      "C:\\Users\\Subham\\Anaconda3\\lib\\site-packages\\xgboost\\core.py:587: FutureWarning: Series.base is deprecated and will be removed in a future version\n",
      "  if getattr(data, 'base', None) is not None and \\\n"
     ]
    },
    {
     "name": "stdout",
     "output_type": "stream",
     "text": [
      "[15:18:49] WARNING: C:/Jenkins/workspace/xgboost-win64_release_0.90/src/objective/regression_obj.cu:152: reg:linear is now deprecated in favor of reg:squarederror.\n"
     ]
    },
    {
     "data": {
      "text/plain": [
       "XGBRegressor(base_score=0.5, booster='gbtree', colsample_bylevel=1,\n",
       "             colsample_bynode=1, colsample_bytree=1, gamma=0,\n",
       "             importance_type='gain', learning_rate=0.1, max_delta_step=0,\n",
       "             max_depth=3, min_child_weight=1, missing=None, n_estimators=100,\n",
       "             n_jobs=1, nthread=None, objective='reg:linear', random_state=0,\n",
       "             reg_alpha=0, reg_lambda=1, scale_pos_weight=1, seed=None,\n",
       "             silent=None, subsample=1, verbosity=1)"
      ]
     },
     "execution_count": 120,
     "metadata": {},
     "output_type": "execute_result"
    }
   ],
   "source": [
    "xgb.fit(X_train,y_train)"
   ]
  },
  {
   "cell_type": "code",
   "execution_count": 121,
   "metadata": {},
   "outputs": [],
   "source": [
    "prediction = xgb.predict(X_test)"
   ]
  },
  {
   "cell_type": "code",
   "execution_count": 122,
   "metadata": {},
   "outputs": [
    {
     "data": {
      "text/plain": [
       "27305.79075164007"
      ]
     },
     "execution_count": 122,
     "metadata": {},
     "output_type": "execute_result"
    }
   ],
   "source": [
    "mean_squared_error(y_test,prediction)**0.5"
   ]
  },
  {
   "cell_type": "markdown",
   "metadata": {},
   "source": [
    "#### Conclusion of Algorithms:\n",
    "\n",
    "Based on the RMSE result on the validation set for above 11 models, **GradientBoostingRegressor** works best.\n",
    "\n",
    "So, we'll train the model and predict the values for the actual test case.\n",
    "\n",
    "## Predicting values for the test case.\n",
    "\n",
    " **Training using GradientBoostingRegressor.**"
   ]
  },
  {
   "cell_type": "code",
   "execution_count": 175,
   "metadata": {},
   "outputs": [],
   "source": [
    "X=scaled_trainX\n",
    "y=ftrain['SalePrice']"
   ]
  },
  {
   "cell_type": "code",
   "execution_count": 176,
   "metadata": {},
   "outputs": [],
   "source": [
    "from sklearn.ensemble import GradientBoostingRegressor"
   ]
  },
  {
   "cell_type": "code",
   "execution_count": 177,
   "metadata": {},
   "outputs": [],
   "source": [
    "gb = GradientBoostingRegressor()"
   ]
  },
  {
   "cell_type": "code",
   "execution_count": 178,
   "metadata": {},
   "outputs": [
    {
     "data": {
      "text/plain": [
       "GradientBoostingRegressor(alpha=0.9, criterion='friedman_mse', init=None,\n",
       "                          learning_rate=0.1, loss='ls', max_depth=3,\n",
       "                          max_features=None, max_leaf_nodes=None,\n",
       "                          min_impurity_decrease=0.0, min_impurity_split=None,\n",
       "                          min_samples_leaf=1, min_samples_split=2,\n",
       "                          min_weight_fraction_leaf=0.0, n_estimators=100,\n",
       "                          n_iter_no_change=None, presort='auto',\n",
       "                          random_state=None, subsample=1.0, tol=0.0001,\n",
       "                          validation_fraction=0.1, verbose=0, warm_start=False)"
      ]
     },
     "execution_count": 178,
     "metadata": {},
     "output_type": "execute_result"
    }
   ],
   "source": [
    "gb.fit(X,y)"
   ]
  },
  {
   "cell_type": "markdown",
   "metadata": {},
   "source": [
    "**Predicting the test set**\n",
    "\n",
    "###### Sample Submission"
   ]
  },
  {
   "cell_type": "code",
   "execution_count": 179,
   "metadata": {},
   "outputs": [
    {
     "data": {
      "text/html": [
       "<div>\n",
       "<style scoped>\n",
       "    .dataframe tbody tr th:only-of-type {\n",
       "        vertical-align: middle;\n",
       "    }\n",
       "\n",
       "    .dataframe tbody tr th {\n",
       "        vertical-align: top;\n",
       "    }\n",
       "\n",
       "    .dataframe thead th {\n",
       "        text-align: right;\n",
       "    }\n",
       "</style>\n",
       "<table border=\"1\" class=\"dataframe\">\n",
       "  <thead>\n",
       "    <tr style=\"text-align: right;\">\n",
       "      <th></th>\n",
       "      <th>Id</th>\n",
       "      <th>SalePrice</th>\n",
       "    </tr>\n",
       "  </thead>\n",
       "  <tbody>\n",
       "    <tr>\n",
       "      <th>0</th>\n",
       "      <td>1461</td>\n",
       "      <td>169277.052498</td>\n",
       "    </tr>\n",
       "    <tr>\n",
       "      <th>1</th>\n",
       "      <td>1462</td>\n",
       "      <td>187758.393989</td>\n",
       "    </tr>\n",
       "    <tr>\n",
       "      <th>2</th>\n",
       "      <td>1463</td>\n",
       "      <td>183583.683570</td>\n",
       "    </tr>\n",
       "    <tr>\n",
       "      <th>3</th>\n",
       "      <td>1464</td>\n",
       "      <td>179317.477511</td>\n",
       "    </tr>\n",
       "    <tr>\n",
       "      <th>4</th>\n",
       "      <td>1465</td>\n",
       "      <td>150730.079977</td>\n",
       "    </tr>\n",
       "  </tbody>\n",
       "</table>\n",
       "</div>"
      ],
      "text/plain": [
       "     Id      SalePrice\n",
       "0  1461  169277.052498\n",
       "1  1462  187758.393989\n",
       "2  1463  183583.683570\n",
       "3  1464  179317.477511\n",
       "4  1465  150730.079977"
      ]
     },
     "execution_count": 179,
     "metadata": {},
     "output_type": "execute_result"
    }
   ],
   "source": [
    "pd.read_csv('sample_submission.csv').head()"
   ]
  },
  {
   "cell_type": "code",
   "execution_count": 180,
   "metadata": {},
   "outputs": [
    {
     "data": {
      "text/plain": [
       "1459"
      ]
     },
     "execution_count": 180,
     "metadata": {},
     "output_type": "execute_result"
    }
   ],
   "source": [
    "prediction=gb.predict(scaled_test)\n",
    "len(prediction)"
   ]
  },
  {
   "cell_type": "code",
   "execution_count": 181,
   "metadata": {},
   "outputs": [],
   "source": [
    "df_sp=pd.DataFrame(prediction,columns=['SalePrice'])"
   ]
  },
  {
   "cell_type": "code",
   "execution_count": 182,
   "metadata": {},
   "outputs": [],
   "source": [
    "df_id=pd.DataFrame(ftest['Id'],columns=['Id'])"
   ]
  },
  {
   "cell_type": "code",
   "execution_count": 183,
   "metadata": {},
   "outputs": [],
   "source": [
    "final = pd.concat((df_id,df_sp),axis=1)"
   ]
  },
  {
   "cell_type": "code",
   "execution_count": 184,
   "metadata": {},
   "outputs": [
    {
     "data": {
      "text/plain": [
       "Id           1459\n",
       "SalePrice    1459\n",
       "dtype: int64"
      ]
     },
     "execution_count": 184,
     "metadata": {},
     "output_type": "execute_result"
    }
   ],
   "source": [
    "final.count()"
   ]
  },
  {
   "cell_type": "code",
   "execution_count": 186,
   "metadata": {},
   "outputs": [
    {
     "data": {
      "text/html": [
       "<div>\n",
       "<style scoped>\n",
       "    .dataframe tbody tr th:only-of-type {\n",
       "        vertical-align: middle;\n",
       "    }\n",
       "\n",
       "    .dataframe tbody tr th {\n",
       "        vertical-align: top;\n",
       "    }\n",
       "\n",
       "    .dataframe thead th {\n",
       "        text-align: right;\n",
       "    }\n",
       "</style>\n",
       "<table border=\"1\" class=\"dataframe\">\n",
       "  <thead>\n",
       "    <tr style=\"text-align: right;\">\n",
       "      <th></th>\n",
       "      <th>Id</th>\n",
       "      <th>SalePrice</th>\n",
       "    </tr>\n",
       "  </thead>\n",
       "  <tbody>\n",
       "    <tr>\n",
       "      <th>0</th>\n",
       "      <td>1461</td>\n",
       "      <td>119529.019292</td>\n",
       "    </tr>\n",
       "    <tr>\n",
       "      <th>1</th>\n",
       "      <td>1462</td>\n",
       "      <td>163268.636674</td>\n",
       "    </tr>\n",
       "    <tr>\n",
       "      <th>2</th>\n",
       "      <td>1463</td>\n",
       "      <td>174886.985760</td>\n",
       "    </tr>\n",
       "    <tr>\n",
       "      <th>3</th>\n",
       "      <td>1464</td>\n",
       "      <td>181234.822863</td>\n",
       "    </tr>\n",
       "    <tr>\n",
       "      <th>4</th>\n",
       "      <td>1465</td>\n",
       "      <td>197175.557594</td>\n",
       "    </tr>\n",
       "    <tr>\n",
       "      <th>5</th>\n",
       "      <td>1466</td>\n",
       "      <td>177866.365477</td>\n",
       "    </tr>\n",
       "    <tr>\n",
       "      <th>6</th>\n",
       "      <td>1467</td>\n",
       "      <td>163126.150691</td>\n",
       "    </tr>\n",
       "    <tr>\n",
       "      <th>7</th>\n",
       "      <td>1468</td>\n",
       "      <td>164536.399370</td>\n",
       "    </tr>\n",
       "    <tr>\n",
       "      <th>8</th>\n",
       "      <td>1469</td>\n",
       "      <td>195815.265951</td>\n",
       "    </tr>\n",
       "    <tr>\n",
       "      <th>9</th>\n",
       "      <td>1470</td>\n",
       "      <td>124748.460921</td>\n",
       "    </tr>\n",
       "    <tr>\n",
       "      <th>10</th>\n",
       "      <td>1471</td>\n",
       "      <td>207746.892322</td>\n",
       "    </tr>\n",
       "    <tr>\n",
       "      <th>11</th>\n",
       "      <td>1472</td>\n",
       "      <td>98154.426367</td>\n",
       "    </tr>\n",
       "    <tr>\n",
       "      <th>12</th>\n",
       "      <td>1473</td>\n",
       "      <td>97704.761755</td>\n",
       "    </tr>\n",
       "    <tr>\n",
       "      <th>13</th>\n",
       "      <td>1474</td>\n",
       "      <td>149944.892578</td>\n",
       "    </tr>\n",
       "    <tr>\n",
       "      <th>14</th>\n",
       "      <td>1475</td>\n",
       "      <td>141731.115048</td>\n",
       "    </tr>\n",
       "    <tr>\n",
       "      <th>15</th>\n",
       "      <td>1476</td>\n",
       "      <td>410258.791287</td>\n",
       "    </tr>\n",
       "    <tr>\n",
       "      <th>16</th>\n",
       "      <td>1477</td>\n",
       "      <td>271437.659299</td>\n",
       "    </tr>\n",
       "    <tr>\n",
       "      <th>17</th>\n",
       "      <td>1478</td>\n",
       "      <td>298952.630613</td>\n",
       "    </tr>\n",
       "    <tr>\n",
       "      <th>18</th>\n",
       "      <td>1479</td>\n",
       "      <td>269224.869183</td>\n",
       "    </tr>\n",
       "    <tr>\n",
       "      <th>19</th>\n",
       "      <td>1480</td>\n",
       "      <td>481354.499109</td>\n",
       "    </tr>\n",
       "    <tr>\n",
       "      <th>20</th>\n",
       "      <td>1481</td>\n",
       "      <td>331006.730812</td>\n",
       "    </tr>\n",
       "    <tr>\n",
       "      <th>21</th>\n",
       "      <td>1482</td>\n",
       "      <td>213030.768990</td>\n",
       "    </tr>\n",
       "    <tr>\n",
       "      <th>22</th>\n",
       "      <td>1483</td>\n",
       "      <td>168205.903529</td>\n",
       "    </tr>\n",
       "    <tr>\n",
       "      <th>23</th>\n",
       "      <td>1484</td>\n",
       "      <td>172816.961943</td>\n",
       "    </tr>\n",
       "    <tr>\n",
       "      <th>24</th>\n",
       "      <td>1485</td>\n",
       "      <td>184198.456023</td>\n",
       "    </tr>\n",
       "    <tr>\n",
       "      <th>25</th>\n",
       "      <td>1486</td>\n",
       "      <td>192814.054994</td>\n",
       "    </tr>\n",
       "    <tr>\n",
       "      <th>26</th>\n",
       "      <td>1487</td>\n",
       "      <td>353347.780961</td>\n",
       "    </tr>\n",
       "    <tr>\n",
       "      <th>27</th>\n",
       "      <td>1488</td>\n",
       "      <td>239362.736972</td>\n",
       "    </tr>\n",
       "    <tr>\n",
       "      <th>28</th>\n",
       "      <td>1489</td>\n",
       "      <td>200295.658728</td>\n",
       "    </tr>\n",
       "    <tr>\n",
       "      <th>29</th>\n",
       "      <td>1490</td>\n",
       "      <td>221747.746239</td>\n",
       "    </tr>\n",
       "    <tr>\n",
       "      <th>...</th>\n",
       "      <td>...</td>\n",
       "      <td>...</td>\n",
       "    </tr>\n",
       "    <tr>\n",
       "      <th>1429</th>\n",
       "      <td>2890</td>\n",
       "      <td>80197.000197</td>\n",
       "    </tr>\n",
       "    <tr>\n",
       "      <th>1430</th>\n",
       "      <td>2891</td>\n",
       "      <td>134120.450950</td>\n",
       "    </tr>\n",
       "    <tr>\n",
       "      <th>1431</th>\n",
       "      <td>2892</td>\n",
       "      <td>64164.036935</td>\n",
       "    </tr>\n",
       "    <tr>\n",
       "      <th>1432</th>\n",
       "      <td>2893</td>\n",
       "      <td>94472.083323</td>\n",
       "    </tr>\n",
       "    <tr>\n",
       "      <th>1433</th>\n",
       "      <td>2894</td>\n",
       "      <td>64063.618164</td>\n",
       "    </tr>\n",
       "    <tr>\n",
       "      <th>1434</th>\n",
       "      <td>2895</td>\n",
       "      <td>305412.690596</td>\n",
       "    </tr>\n",
       "    <tr>\n",
       "      <th>1435</th>\n",
       "      <td>2896</td>\n",
       "      <td>277514.309398</td>\n",
       "    </tr>\n",
       "    <tr>\n",
       "      <th>1436</th>\n",
       "      <td>2897</td>\n",
       "      <td>208633.459035</td>\n",
       "    </tr>\n",
       "    <tr>\n",
       "      <th>1437</th>\n",
       "      <td>2898</td>\n",
       "      <td>148754.355375</td>\n",
       "    </tr>\n",
       "    <tr>\n",
       "      <th>1438</th>\n",
       "      <td>2899</td>\n",
       "      <td>222763.494367</td>\n",
       "    </tr>\n",
       "    <tr>\n",
       "      <th>1439</th>\n",
       "      <td>2900</td>\n",
       "      <td>149318.411471</td>\n",
       "    </tr>\n",
       "    <tr>\n",
       "      <th>1440</th>\n",
       "      <td>2901</td>\n",
       "      <td>220097.422296</td>\n",
       "    </tr>\n",
       "    <tr>\n",
       "      <th>1441</th>\n",
       "      <td>2902</td>\n",
       "      <td>187466.241046</td>\n",
       "    </tr>\n",
       "    <tr>\n",
       "      <th>1442</th>\n",
       "      <td>2903</td>\n",
       "      <td>339373.300769</td>\n",
       "    </tr>\n",
       "    <tr>\n",
       "      <th>1443</th>\n",
       "      <td>2904</td>\n",
       "      <td>376901.865123</td>\n",
       "    </tr>\n",
       "    <tr>\n",
       "      <th>1444</th>\n",
       "      <td>2905</td>\n",
       "      <td>103460.719679</td>\n",
       "    </tr>\n",
       "    <tr>\n",
       "      <th>1445</th>\n",
       "      <td>2906</td>\n",
       "      <td>209198.744830</td>\n",
       "    </tr>\n",
       "    <tr>\n",
       "      <th>1446</th>\n",
       "      <td>2907</td>\n",
       "      <td>114481.952165</td>\n",
       "    </tr>\n",
       "    <tr>\n",
       "      <th>1447</th>\n",
       "      <td>2908</td>\n",
       "      <td>131979.155710</td>\n",
       "    </tr>\n",
       "    <tr>\n",
       "      <th>1448</th>\n",
       "      <td>2909</td>\n",
       "      <td>141427.226603</td>\n",
       "    </tr>\n",
       "    <tr>\n",
       "      <th>1449</th>\n",
       "      <td>2910</td>\n",
       "      <td>90404.470913</td>\n",
       "    </tr>\n",
       "    <tr>\n",
       "      <th>1450</th>\n",
       "      <td>2911</td>\n",
       "      <td>81115.985814</td>\n",
       "    </tr>\n",
       "    <tr>\n",
       "      <th>1451</th>\n",
       "      <td>2912</td>\n",
       "      <td>147935.012651</td>\n",
       "    </tr>\n",
       "    <tr>\n",
       "      <th>1452</th>\n",
       "      <td>2913</td>\n",
       "      <td>87279.598040</td>\n",
       "    </tr>\n",
       "    <tr>\n",
       "      <th>1453</th>\n",
       "      <td>2914</td>\n",
       "      <td>78532.470726</td>\n",
       "    </tr>\n",
       "    <tr>\n",
       "      <th>1454</th>\n",
       "      <td>2915</td>\n",
       "      <td>84211.715788</td>\n",
       "    </tr>\n",
       "    <tr>\n",
       "      <th>1455</th>\n",
       "      <td>2916</td>\n",
       "      <td>86636.967778</td>\n",
       "    </tr>\n",
       "    <tr>\n",
       "      <th>1456</th>\n",
       "      <td>2917</td>\n",
       "      <td>173591.145612</td>\n",
       "    </tr>\n",
       "    <tr>\n",
       "      <th>1457</th>\n",
       "      <td>2918</td>\n",
       "      <td>119465.806799</td>\n",
       "    </tr>\n",
       "    <tr>\n",
       "      <th>1458</th>\n",
       "      <td>2919</td>\n",
       "      <td>244596.642848</td>\n",
       "    </tr>\n",
       "  </tbody>\n",
       "</table>\n",
       "<p>1459 rows × 2 columns</p>\n",
       "</div>"
      ],
      "text/plain": [
       "        Id      SalePrice\n",
       "0     1461  119529.019292\n",
       "1     1462  163268.636674\n",
       "2     1463  174886.985760\n",
       "3     1464  181234.822863\n",
       "4     1465  197175.557594\n",
       "5     1466  177866.365477\n",
       "6     1467  163126.150691\n",
       "7     1468  164536.399370\n",
       "8     1469  195815.265951\n",
       "9     1470  124748.460921\n",
       "10    1471  207746.892322\n",
       "11    1472   98154.426367\n",
       "12    1473   97704.761755\n",
       "13    1474  149944.892578\n",
       "14    1475  141731.115048\n",
       "15    1476  410258.791287\n",
       "16    1477  271437.659299\n",
       "17    1478  298952.630613\n",
       "18    1479  269224.869183\n",
       "19    1480  481354.499109\n",
       "20    1481  331006.730812\n",
       "21    1482  213030.768990\n",
       "22    1483  168205.903529\n",
       "23    1484  172816.961943\n",
       "24    1485  184198.456023\n",
       "25    1486  192814.054994\n",
       "26    1487  353347.780961\n",
       "27    1488  239362.736972\n",
       "28    1489  200295.658728\n",
       "29    1490  221747.746239\n",
       "...    ...            ...\n",
       "1429  2890   80197.000197\n",
       "1430  2891  134120.450950\n",
       "1431  2892   64164.036935\n",
       "1432  2893   94472.083323\n",
       "1433  2894   64063.618164\n",
       "1434  2895  305412.690596\n",
       "1435  2896  277514.309398\n",
       "1436  2897  208633.459035\n",
       "1437  2898  148754.355375\n",
       "1438  2899  222763.494367\n",
       "1439  2900  149318.411471\n",
       "1440  2901  220097.422296\n",
       "1441  2902  187466.241046\n",
       "1442  2903  339373.300769\n",
       "1443  2904  376901.865123\n",
       "1444  2905  103460.719679\n",
       "1445  2906  209198.744830\n",
       "1446  2907  114481.952165\n",
       "1447  2908  131979.155710\n",
       "1448  2909  141427.226603\n",
       "1449  2910   90404.470913\n",
       "1450  2911   81115.985814\n",
       "1451  2912  147935.012651\n",
       "1452  2913   87279.598040\n",
       "1453  2914   78532.470726\n",
       "1454  2915   84211.715788\n",
       "1455  2916   86636.967778\n",
       "1456  2917  173591.145612\n",
       "1457  2918  119465.806799\n",
       "1458  2919  244596.642848\n",
       "\n",
       "[1459 rows x 2 columns]"
      ]
     },
     "execution_count": 186,
     "metadata": {},
     "output_type": "execute_result"
    }
   ],
   "source": [
    "final"
   ]
  },
  {
   "cell_type": "code",
   "execution_count": 188,
   "metadata": {},
   "outputs": [],
   "source": [
    "final.to_csv('submit.csv',index=False)"
   ]
  },
  {
   "cell_type": "code",
   "execution_count": null,
   "metadata": {},
   "outputs": [],
   "source": []
  }
 ],
 "metadata": {
  "kernelspec": {
   "display_name": "Python 3",
   "language": "python",
   "name": "python3"
  },
  "language_info": {
   "codemirror_mode": {
    "name": "ipython",
    "version": 3
   },
   "file_extension": ".py",
   "mimetype": "text/x-python",
   "name": "python",
   "nbconvert_exporter": "python",
   "pygments_lexer": "ipython3",
   "version": "3.7.0"
  }
 },
 "nbformat": 4,
 "nbformat_minor": 2
}
