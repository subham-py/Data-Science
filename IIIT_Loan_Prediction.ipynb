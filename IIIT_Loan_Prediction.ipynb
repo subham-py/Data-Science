{
  "nbformat": 4,
  "nbformat_minor": 0,
  "metadata": {
    "colab": {
      "name": "IIIT_Loan_Prediction.ipynb",
      "provenance": [],
      "collapsed_sections": [],
      "include_colab_link": true
    },
    "kernelspec": {
      "name": "python3",
      "display_name": "Python 3"
    }
  },
  "cells": [
    {
      "cell_type": "markdown",
      "metadata": {
        "id": "view-in-github",
        "colab_type": "text"
      },
      "source": [
        "<a href=\"https://colab.research.google.com/github/subham-py/Data-Science/blob/master/IIIT_Loan_Prediction.ipynb\" target=\"_parent\"><img src=\"https://colab.research.google.com/assets/colab-badge.svg\" alt=\"Open In Colab\"/></a>"
      ]
    },
    {
      "cell_type": "markdown",
      "metadata": {
        "id": "PG4bMjplG37S",
        "colab_type": "text"
      },
      "source": [
        "## Loan Prediction\n",
        "\n",
        "**Importing libraries**"
      ]
    },
    {
      "cell_type": "code",
      "metadata": {
        "id": "7k1fGlFsBaK2",
        "colab_type": "code",
        "colab": {}
      },
      "source": [
        "import numpy as np\n",
        "import pandas as pd\n",
        "import matplotlib.pyplot as plt\n",
        "import seaborn as sns"
      ],
      "execution_count": 0,
      "outputs": []
    },
    {
      "cell_type": "markdown",
      "metadata": {
        "id": "n20DaEwmH_Dl",
        "colab_type": "text"
      },
      "source": [
        "**Accessing Google Drive from Colab**"
      ]
    },
    {
      "cell_type": "code",
      "metadata": {
        "id": "qUHZKDdvVKUW",
        "colab_type": "code",
        "outputId": "e5d3222d-d0a2-47fc-ffe3-55140f83562c",
        "colab": {
          "base_uri": "https://localhost:8080/",
          "height": 128
        }
      },
      "source": [
        "from google.colab import drive\n",
        "\n",
        "drive.mount('/content/gdrive')\n",
        "root_path = 'gdrive/My Drive/'  #change dir to your project folder"
      ],
      "execution_count": 0,
      "outputs": [
        {
          "output_type": "stream",
          "text": [
            "Go to this URL in a browser: https://accounts.google.com/o/oauth2/auth?client_id=947318989803-6bn6qk8qdgf4n4g3pfee6491hc0brc4i.apps.googleusercontent.com&redirect_uri=urn%3Aietf%3Awg%3Aoauth%3A2.0%3Aoob&scope=email%20https%3A%2F%2Fwww.googleapis.com%2Fauth%2Fdocs.test%20https%3A%2F%2Fwww.googleapis.com%2Fauth%2Fdrive%20https%3A%2F%2Fwww.googleapis.com%2Fauth%2Fdrive.photos.readonly%20https%3A%2F%2Fwww.googleapis.com%2Fauth%2Fpeopleapi.readonly&response_type=code\n",
            "\n",
            "Enter your authorization code:\n",
            "··········\n",
            "Mounted at /content/gdrive\n"
          ],
          "name": "stdout"
        }
      ]
    },
    {
      "cell_type": "code",
      "metadata": {
        "id": "OXbe5lW8R00F",
        "colab_type": "code",
        "colab": {}
      },
      "source": [
        "path = \"/content/gdrive/My Drive/train.csv\"\n",
        "train = pd.read_csv(path)# Dataset is now stored in a Pandas Dataframe"
      ],
      "execution_count": 0,
      "outputs": []
    },
    {
      "cell_type": "markdown",
      "metadata": {
        "id": "Cp3VwgE9IPci",
        "colab_type": "text"
      },
      "source": [
        "**Load Datasets**"
      ]
    },
    {
      "cell_type": "code",
      "metadata": {
        "id": "TeV-OY3bXsz7",
        "colab_type": "code",
        "outputId": "4b8305bc-4717-4a63-99fa-123b74a01490",
        "colab": {
          "base_uri": "https://localhost:8080/",
          "height": 243
        }
      },
      "source": [
        "train.head()"
      ],
      "execution_count": 0,
      "outputs": [
        {
          "output_type": "execute_result",
          "data": {
            "text/html": [
              "<div>\n",
              "<style scoped>\n",
              "    .dataframe tbody tr th:only-of-type {\n",
              "        vertical-align: middle;\n",
              "    }\n",
              "\n",
              "    .dataframe tbody tr th {\n",
              "        vertical-align: top;\n",
              "    }\n",
              "\n",
              "    .dataframe thead th {\n",
              "        text-align: right;\n",
              "    }\n",
              "</style>\n",
              "<table border=\"1\" class=\"dataframe\">\n",
              "  <thead>\n",
              "    <tr style=\"text-align: right;\">\n",
              "      <th></th>\n",
              "      <th>Loan_ID</th>\n",
              "      <th>Gender</th>\n",
              "      <th>Married</th>\n",
              "      <th>Dependents</th>\n",
              "      <th>Education</th>\n",
              "      <th>Self_Employed</th>\n",
              "      <th>ApplicantIncome</th>\n",
              "      <th>CoapplicantIncome</th>\n",
              "      <th>LoanAmount</th>\n",
              "      <th>Loan_Amount_Term</th>\n",
              "      <th>Credit_History</th>\n",
              "      <th>Property_Area</th>\n",
              "      <th>Loan_Status</th>\n",
              "    </tr>\n",
              "  </thead>\n",
              "  <tbody>\n",
              "    <tr>\n",
              "      <th>0</th>\n",
              "      <td>LP001002</td>\n",
              "      <td>Male</td>\n",
              "      <td>No</td>\n",
              "      <td>0</td>\n",
              "      <td>Graduate</td>\n",
              "      <td>No</td>\n",
              "      <td>5849</td>\n",
              "      <td>0.0</td>\n",
              "      <td>NaN</td>\n",
              "      <td>360.0</td>\n",
              "      <td>1.0</td>\n",
              "      <td>Urban</td>\n",
              "      <td>Y</td>\n",
              "    </tr>\n",
              "    <tr>\n",
              "      <th>1</th>\n",
              "      <td>LP001003</td>\n",
              "      <td>Male</td>\n",
              "      <td>Yes</td>\n",
              "      <td>1</td>\n",
              "      <td>Graduate</td>\n",
              "      <td>No</td>\n",
              "      <td>4583</td>\n",
              "      <td>1508.0</td>\n",
              "      <td>128.0</td>\n",
              "      <td>360.0</td>\n",
              "      <td>1.0</td>\n",
              "      <td>Rural</td>\n",
              "      <td>N</td>\n",
              "    </tr>\n",
              "    <tr>\n",
              "      <th>2</th>\n",
              "      <td>LP001005</td>\n",
              "      <td>Male</td>\n",
              "      <td>Yes</td>\n",
              "      <td>0</td>\n",
              "      <td>Graduate</td>\n",
              "      <td>Yes</td>\n",
              "      <td>3000</td>\n",
              "      <td>0.0</td>\n",
              "      <td>66.0</td>\n",
              "      <td>360.0</td>\n",
              "      <td>1.0</td>\n",
              "      <td>Urban</td>\n",
              "      <td>Y</td>\n",
              "    </tr>\n",
              "    <tr>\n",
              "      <th>3</th>\n",
              "      <td>LP001006</td>\n",
              "      <td>Male</td>\n",
              "      <td>Yes</td>\n",
              "      <td>0</td>\n",
              "      <td>Not Graduate</td>\n",
              "      <td>No</td>\n",
              "      <td>2583</td>\n",
              "      <td>2358.0</td>\n",
              "      <td>120.0</td>\n",
              "      <td>360.0</td>\n",
              "      <td>1.0</td>\n",
              "      <td>Urban</td>\n",
              "      <td>Y</td>\n",
              "    </tr>\n",
              "    <tr>\n",
              "      <th>4</th>\n",
              "      <td>LP001008</td>\n",
              "      <td>Male</td>\n",
              "      <td>No</td>\n",
              "      <td>0</td>\n",
              "      <td>Graduate</td>\n",
              "      <td>No</td>\n",
              "      <td>6000</td>\n",
              "      <td>0.0</td>\n",
              "      <td>141.0</td>\n",
              "      <td>360.0</td>\n",
              "      <td>1.0</td>\n",
              "      <td>Urban</td>\n",
              "      <td>Y</td>\n",
              "    </tr>\n",
              "  </tbody>\n",
              "</table>\n",
              "</div>"
            ],
            "text/plain": [
              "    Loan_ID Gender Married  ... Credit_History Property_Area Loan_Status\n",
              "0  LP001002   Male      No  ...            1.0         Urban           Y\n",
              "1  LP001003   Male     Yes  ...            1.0         Rural           N\n",
              "2  LP001005   Male     Yes  ...            1.0         Urban           Y\n",
              "3  LP001006   Male     Yes  ...            1.0         Urban           Y\n",
              "4  LP001008   Male      No  ...            1.0         Urban           Y\n",
              "\n",
              "[5 rows x 13 columns]"
            ]
          },
          "metadata": {
            "tags": []
          },
          "execution_count": 4
        }
      ]
    },
    {
      "cell_type": "code",
      "metadata": {
        "id": "_Sv_gH9rZVrv",
        "colab_type": "code",
        "colab": {}
      },
      "source": [
        "path = \"/content/gdrive/My Drive/test.csv\"\n",
        "test = pd.read_csv(path)# Dataset is now stored in a Pandas Dataframe"
      ],
      "execution_count": 0,
      "outputs": []
    },
    {
      "cell_type": "code",
      "metadata": {
        "id": "xm170pMmZ4mw",
        "colab_type": "code",
        "outputId": "6af11044-722c-4bd8-f55d-183bf8d78a29",
        "colab": {
          "base_uri": "https://localhost:8080/",
          "height": 206
        }
      },
      "source": [
        "test.head()"
      ],
      "execution_count": 0,
      "outputs": [
        {
          "output_type": "execute_result",
          "data": {
            "text/html": [
              "<div>\n",
              "<style scoped>\n",
              "    .dataframe tbody tr th:only-of-type {\n",
              "        vertical-align: middle;\n",
              "    }\n",
              "\n",
              "    .dataframe tbody tr th {\n",
              "        vertical-align: top;\n",
              "    }\n",
              "\n",
              "    .dataframe thead th {\n",
              "        text-align: right;\n",
              "    }\n",
              "</style>\n",
              "<table border=\"1\" class=\"dataframe\">\n",
              "  <thead>\n",
              "    <tr style=\"text-align: right;\">\n",
              "      <th></th>\n",
              "      <th>Loan_ID</th>\n",
              "      <th>Gender</th>\n",
              "      <th>Married</th>\n",
              "      <th>Dependents</th>\n",
              "      <th>Education</th>\n",
              "      <th>Self_Employed</th>\n",
              "      <th>ApplicantIncome</th>\n",
              "      <th>CoapplicantIncome</th>\n",
              "      <th>LoanAmount</th>\n",
              "      <th>Loan_Amount_Term</th>\n",
              "      <th>Credit_History</th>\n",
              "      <th>Property_Area</th>\n",
              "    </tr>\n",
              "  </thead>\n",
              "  <tbody>\n",
              "    <tr>\n",
              "      <th>0</th>\n",
              "      <td>LP001015</td>\n",
              "      <td>Male</td>\n",
              "      <td>Yes</td>\n",
              "      <td>0</td>\n",
              "      <td>Graduate</td>\n",
              "      <td>No</td>\n",
              "      <td>5720</td>\n",
              "      <td>0</td>\n",
              "      <td>110.0</td>\n",
              "      <td>360.0</td>\n",
              "      <td>1.0</td>\n",
              "      <td>Urban</td>\n",
              "    </tr>\n",
              "    <tr>\n",
              "      <th>1</th>\n",
              "      <td>LP001022</td>\n",
              "      <td>Male</td>\n",
              "      <td>Yes</td>\n",
              "      <td>1</td>\n",
              "      <td>Graduate</td>\n",
              "      <td>No</td>\n",
              "      <td>3076</td>\n",
              "      <td>1500</td>\n",
              "      <td>126.0</td>\n",
              "      <td>360.0</td>\n",
              "      <td>1.0</td>\n",
              "      <td>Urban</td>\n",
              "    </tr>\n",
              "    <tr>\n",
              "      <th>2</th>\n",
              "      <td>LP001031</td>\n",
              "      <td>Male</td>\n",
              "      <td>Yes</td>\n",
              "      <td>2</td>\n",
              "      <td>Graduate</td>\n",
              "      <td>No</td>\n",
              "      <td>5000</td>\n",
              "      <td>1800</td>\n",
              "      <td>208.0</td>\n",
              "      <td>360.0</td>\n",
              "      <td>1.0</td>\n",
              "      <td>Urban</td>\n",
              "    </tr>\n",
              "    <tr>\n",
              "      <th>3</th>\n",
              "      <td>LP001035</td>\n",
              "      <td>Male</td>\n",
              "      <td>Yes</td>\n",
              "      <td>2</td>\n",
              "      <td>Graduate</td>\n",
              "      <td>No</td>\n",
              "      <td>2340</td>\n",
              "      <td>2546</td>\n",
              "      <td>100.0</td>\n",
              "      <td>360.0</td>\n",
              "      <td>NaN</td>\n",
              "      <td>Urban</td>\n",
              "    </tr>\n",
              "    <tr>\n",
              "      <th>4</th>\n",
              "      <td>LP001051</td>\n",
              "      <td>Male</td>\n",
              "      <td>No</td>\n",
              "      <td>0</td>\n",
              "      <td>Not Graduate</td>\n",
              "      <td>No</td>\n",
              "      <td>3276</td>\n",
              "      <td>0</td>\n",
              "      <td>78.0</td>\n",
              "      <td>360.0</td>\n",
              "      <td>1.0</td>\n",
              "      <td>Urban</td>\n",
              "    </tr>\n",
              "  </tbody>\n",
              "</table>\n",
              "</div>"
            ],
            "text/plain": [
              "    Loan_ID Gender Married  ... Loan_Amount_Term Credit_History Property_Area\n",
              "0  LP001015   Male     Yes  ...            360.0            1.0         Urban\n",
              "1  LP001022   Male     Yes  ...            360.0            1.0         Urban\n",
              "2  LP001031   Male     Yes  ...            360.0            1.0         Urban\n",
              "3  LP001035   Male     Yes  ...            360.0            NaN         Urban\n",
              "4  LP001051   Male      No  ...            360.0            1.0         Urban\n",
              "\n",
              "[5 rows x 12 columns]"
            ]
          },
          "metadata": {
            "tags": []
          },
          "execution_count": 6
        }
      ]
    },
    {
      "cell_type": "markdown",
      "metadata": {
        "id": "7VpsECZ_Ic8Y",
        "colab_type": "text"
      },
      "source": [
        "# EDA\n",
        "\n",
        "Finding the NaN values"
      ]
    },
    {
      "cell_type": "code",
      "metadata": {
        "id": "0hgJNRrnya2i",
        "colab_type": "code",
        "outputId": "be0e5977-c258-49d0-c3bb-9a3f34160c9b",
        "colab": {
          "base_uri": "https://localhost:8080/",
          "height": 376
        }
      },
      "source": [
        "sns.heatmap(train.isnull(),yticklabels=False,cbar=False,cmap='viridis')"
      ],
      "execution_count": 0,
      "outputs": [
        {
          "output_type": "execute_result",
          "data": {
            "text/plain": [
              "<matplotlib.axes._subplots.AxesSubplot at 0x7f52b732d6d8>"
            ]
          },
          "metadata": {
            "tags": []
          },
          "execution_count": 7
        },
        {
          "output_type": "display_data",
          "data": {
            "image/png": "[encoded data removed]",
            "text/plain": [
              "<Figure size 432x288 with 1 Axes>"
            ]
          },
          "metadata": {
            "tags": []
          }
        }
      ]
    },
    {
      "cell_type": "code",
      "metadata": {
        "id": "7KP1aE90yhgw",
        "colab_type": "code",
        "outputId": "19de20de-eee9-4a44-c2af-a059510f311a",
        "colab": {
          "base_uri": "https://localhost:8080/",
          "height": 376
        }
      },
      "source": [
        "sns.heatmap(test.isnull(),yticklabels=False,cbar=False,cmap='viridis')"
      ],
      "execution_count": 0,
      "outputs": [
        {
          "output_type": "execute_result",
          "data": {
            "text/plain": [
              "<matplotlib.axes._subplots.AxesSubplot at 0x7f52b3ada438>"
            ]
          },
          "metadata": {
            "tags": []
          },
          "execution_count": 8
        },
        {
          "output_type": "display_data",
          "data": {
            "image/png": "[encoded data removed]",
            "text/plain": [
              "<Figure size 432x288 with 1 Axes>"
            ]
          },
          "metadata": {
            "tags": []
          }
        }
      ]
    },
    {
      "cell_type": "markdown",
      "metadata": {
        "id": "g_CSd2UPI0B_",
        "colab_type": "text"
      },
      "source": [
        "Filling NaN values "
      ]
    },
    {
      "cell_type": "code",
      "metadata": {
        "id": "lQjnNPMlvuo3",
        "colab_type": "code",
        "colab": {}
      },
      "source": [
        "train['Gender']=train['Gender'].fillna(value='Male')\n",
        "test['Gender']=test['Gender'].fillna(value='Male')"
      ],
      "execution_count": 0,
      "outputs": []
    },
    {
      "cell_type": "code",
      "metadata": {
        "id": "fJTWQ8mmy6Bn",
        "colab_type": "code",
        "colab": {}
      },
      "source": [
        "train['Dependents']=train['Dependents'].fillna(value='0')\n",
        "test['Dependents']=test['Dependents'].fillna(value='0')"
      ],
      "execution_count": 0,
      "outputs": []
    },
    {
      "cell_type": "code",
      "metadata": {
        "id": "ExEePe85xM5V",
        "colab_type": "code",
        "colab": {}
      },
      "source": [
        "train['Self_Employed'] = train['Self_Employed'].fillna(value='No')\n",
        "test['Self_Employed'] = test['Self_Employed'].fillna(value='No')"
      ],
      "execution_count": 0,
      "outputs": []
    },
    {
      "cell_type": "code",
      "metadata": {
        "id": "AE_NTnOp0iJQ",
        "colab_type": "code",
        "colab": {}
      },
      "source": [
        "train['Loan_Amount_Term'] = train['Loan_Amount_Term'].fillna(value=360)\n",
        "test['Loan_Amount_Term'] = test['Loan_Amount_Term'].fillna(value=360)"
      ],
      "execution_count": 0,
      "outputs": []
    },
    {
      "cell_type": "code",
      "metadata": {
        "id": "mKH1qKXz1NmS",
        "colab_type": "code",
        "colab": {}
      },
      "source": [
        "train['Credit_History'] = train['Credit_History'].fillna(value=1)\n",
        "test['Credit_History'] = test['Credit_History'].fillna(value=1)"
      ],
      "execution_count": 0,
      "outputs": []
    },
    {
      "cell_type": "code",
      "metadata": {
        "id": "28N5np9CbBey",
        "colab_type": "code",
        "colab": {}
      },
      "source": [
        "train = pd.get_dummies(train,columns=['Gender','Married','Education','Self_Employed','Dependents','Credit_History','Property_Area','Loan_Status'],drop_first=True)\n",
        "test = pd.get_dummies(test,columns=['Gender','Married','Education','Self_Employed','Dependents','Credit_History','Property_Area'],drop_first=True)"
      ],
      "execution_count": 0,
      "outputs": []
    },
    {
      "cell_type": "code",
      "metadata": {
        "id": "n-rwpHNDeKP-",
        "colab_type": "code",
        "colab": {}
      },
      "source": [
        "train = train.dropna()\n",
        "test = test.dropna()"
      ],
      "execution_count": 0,
      "outputs": []
    },
    {
      "cell_type": "code",
      "metadata": {
        "id": "yHw6NMokZ6le",
        "colab_type": "code",
        "outputId": "779ce46b-0cd6-4d1b-e1f9-b70838fc654a",
        "colab": {
          "base_uri": "https://localhost:8080/",
          "height": 399
        }
      },
      "source": [
        "train.info()"
      ],
      "execution_count": 0,
      "outputs": [
        {
          "output_type": "stream",
          "text": [
            "<class 'pandas.core.frame.DataFrame'>\n",
            "Int64Index: 592 entries, 1 to 613\n",
            "Data columns (total 16 columns):\n",
            "Loan_ID                    592 non-null object\n",
            "ApplicantIncome            592 non-null int64\n",
            "CoapplicantIncome          592 non-null float64\n",
            "LoanAmount                 592 non-null float64\n",
            "Loan_Amount_Term           592 non-null float64\n",
            "Gender_Male                592 non-null uint8\n",
            "Married_Yes                592 non-null uint8\n",
            "Education_Not Graduate     592 non-null uint8\n",
            "Self_Employed_Yes          592 non-null uint8\n",
            "Dependents_1               592 non-null uint8\n",
            "Dependents_2               592 non-null uint8\n",
            "Dependents_3+              592 non-null uint8\n",
            "Credit_History_1.0         592 non-null uint8\n",
            "Property_Area_Semiurban    592 non-null uint8\n",
            "Property_Area_Urban        592 non-null uint8\n",
            "Loan_Status_Y              592 non-null uint8\n",
            "dtypes: float64(3), int64(1), object(1), uint8(11)\n",
            "memory usage: 34.1+ KB\n"
          ],
          "name": "stdout"
        }
      ]
    },
    {
      "cell_type": "code",
      "metadata": {
        "id": "NjYHiT0ea_gM",
        "colab_type": "code",
        "outputId": "53495589-2ded-46af-f341-01a0994bfcd7",
        "colab": {
          "base_uri": "https://localhost:8080/",
          "height": 380
        }
      },
      "source": [
        "test.info()"
      ],
      "execution_count": 0,
      "outputs": [
        {
          "output_type": "stream",
          "text": [
            "<class 'pandas.core.frame.DataFrame'>\n",
            "Int64Index: 362 entries, 0 to 366\n",
            "Data columns (total 15 columns):\n",
            "Loan_ID                    362 non-null object\n",
            "ApplicantIncome            362 non-null int64\n",
            "CoapplicantIncome          362 non-null int64\n",
            "LoanAmount                 362 non-null float64\n",
            "Loan_Amount_Term           362 non-null float64\n",
            "Gender_Male                362 non-null uint8\n",
            "Married_Yes                362 non-null uint8\n",
            "Education_Not Graduate     362 non-null uint8\n",
            "Self_Employed_Yes          362 non-null uint8\n",
            "Dependents_1               362 non-null uint8\n",
            "Dependents_2               362 non-null uint8\n",
            "Dependents_3+              362 non-null uint8\n",
            "Credit_History_1.0         362 non-null uint8\n",
            "Property_Area_Semiurban    362 non-null uint8\n",
            "Property_Area_Urban        362 non-null uint8\n",
            "dtypes: float64(2), int64(2), object(1), uint8(10)\n",
            "memory usage: 20.5+ KB\n"
          ],
          "name": "stdout"
        }
      ]
    },
    {
      "cell_type": "code",
      "metadata": {
        "id": "R1J141pBgMhc",
        "colab_type": "code",
        "outputId": "0da6c6df-f1b1-406f-bbf4-57019e2b8e31",
        "colab": {
          "base_uri": "https://localhost:8080/",
          "height": 1000
        }
      },
      "source": [
        "sns.pairplot(train,hue='Loan_Status_Y')"
      ],
      "execution_count": 0,
      "outputs": [
        {
          "output_type": "stream",
          "text": [
            "/usr/local/lib/python3.6/dist-packages/statsmodels/nonparametric/kde.py:487: RuntimeWarning: invalid value encountered in true_divide\n",
            "  binned = fast_linbin(X, a, b, gridsize) / (delta * nobs)\n",
            "/usr/local/lib/python3.6/dist-packages/statsmodels/nonparametric/kdetools.py:34: RuntimeWarning: invalid value encountered in double_scalars\n",
            "  FAC1 = 2*(np.pi*bw/RANGE)**2\n"
          ],
          "name": "stderr"
        },
        {
          "output_type": "execute_result",
          "data": {
            "text/plain": [
              "<seaborn.axisgrid.PairGrid at 0x7f52b3a556d8>"
            ]
          },
          "metadata": {
            "tags": []
          },
          "execution_count": 18
        },
        {
          "output_type": "display_data",
          "data": {
            "image/png": "[encoded data removed]",
            "text/plain": [
              "<Figure size 2779.75x2700 with 240 Axes>"
            ]
          },
          "metadata": {
            "tags": []
          }
        }
      ]
    },
    {
      "cell_type": "markdown",
      "metadata": {
        "id": "KRFB_HnpK5Kp",
        "colab_type": "text"
      },
      "source": [
        "## **Splitting the Train data set for testing**"
      ]
    },
    {
      "cell_type": "code",
      "metadata": {
        "id": "isiRZnEQK_5e",
        "colab_type": "code",
        "colab": {}
      },
      "source": [
        "from sklearn.model_selection import train_test_split"
      ],
      "execution_count": 0,
      "outputs": []
    },
    {
      "cell_type": "code",
      "metadata": {
        "id": "mgkAMXvgNPFu",
        "colab_type": "code",
        "colab": {}
      },
      "source": [
        "X = train.drop(['Loan_ID','Loan_Status_Y'],axis = 1)\n",
        "y = train['Loan_Status_Y']"
      ],
      "execution_count": 0,
      "outputs": []
    },
    {
      "cell_type": "code",
      "metadata": {
        "id": "TEVh8nl-N--Y",
        "colab_type": "code",
        "colab": {}
      },
      "source": [
        "X_train, X_test, y_train, y_test = train_test_split(X, y, test_size=0.3, random_state=101)"
      ],
      "execution_count": 0,
      "outputs": []
    },
    {
      "cell_type": "code",
      "metadata": {
        "id": "DNcs_AQuOXEj",
        "colab_type": "code",
        "colab": {}
      },
      "source": [
        "from sklearn.linear_model import LogisticRegression"
      ],
      "execution_count": 0,
      "outputs": []
    },
    {
      "cell_type": "code",
      "metadata": {
        "id": "Z46PMqlpOfRz",
        "colab_type": "code",
        "outputId": "fd5d321a-bad3-418d-ee96-a646bbb7198c",
        "colab": {
          "base_uri": "https://localhost:8080/",
          "height": 164
        }
      },
      "source": [
        "logmodel =LogisticRegression()\n",
        "logmodel.fit(X_train,y_train)"
      ],
      "execution_count": 0,
      "outputs": [
        {
          "output_type": "stream",
          "text": [
            "/usr/local/lib/python3.6/dist-packages/sklearn/linear_model/logistic.py:432: FutureWarning: Default solver will be changed to 'lbfgs' in 0.22. Specify a solver to silence this warning.\n",
            "  FutureWarning)\n"
          ],
          "name": "stderr"
        },
        {
          "output_type": "execute_result",
          "data": {
            "text/plain": [
              "LogisticRegression(C=1.0, class_weight=None, dual=False, fit_intercept=True,\n",
              "                   intercept_scaling=1, l1_ratio=None, max_iter=100,\n",
              "                   multi_class='warn', n_jobs=None, penalty='l2',\n",
              "                   random_state=None, solver='warn', tol=0.0001, verbose=0,\n",
              "                   warm_start=False)"
            ]
          },
          "metadata": {
            "tags": []
          },
          "execution_count": 23
        }
      ]
    },
    {
      "cell_type": "code",
      "metadata": {
        "id": "lQOaHU0vOm5P",
        "colab_type": "code",
        "outputId": "1829d899-941a-4d1f-fd2a-7f630b7739cc",
        "colab": {
          "base_uri": "https://localhost:8080/",
          "height": 181
        }
      },
      "source": [
        "predictions=logmodel.predict(X_test)\n",
        "predictions"
      ],
      "execution_count": 0,
      "outputs": [
        {
          "output_type": "execute_result",
          "data": {
            "text/plain": [
              "array([1, 1, 1, 1, 1, 1, 1, 1, 1, 0, 1, 1, 1, 1, 1, 1, 1, 1, 0, 1, 1, 1,\n",
              "       1, 1, 1, 1, 1, 0, 1, 0, 1, 1, 1, 1, 1, 1, 0, 1, 1, 1, 1, 0, 0, 0,\n",
              "       1, 1, 1, 1, 1, 1, 1, 1, 1, 1, 1, 1, 1, 1, 1, 1, 1, 1, 1, 0, 1, 1,\n",
              "       1, 1, 1, 1, 1, 1, 0, 1, 0, 1, 1, 1, 1, 1, 1, 1, 1, 1, 0, 1, 1, 1,\n",
              "       1, 1, 1, 0, 1, 1, 1, 1, 0, 1, 1, 1, 1, 1, 1, 1, 1, 0, 1, 1, 1, 1,\n",
              "       1, 0, 1, 1, 0, 1, 1, 1, 1, 1, 1, 0, 0, 1, 1, 1, 1, 1, 0, 1, 1, 1,\n",
              "       0, 1, 1, 1, 1, 1, 0, 1, 1, 1, 1, 0, 1, 1, 1, 1, 1, 1, 1, 1, 1, 0,\n",
              "       1, 1, 1, 1, 1, 1, 1, 0, 1, 1, 1, 1, 0, 1, 1, 1, 1, 1, 1, 1, 1, 1,\n",
              "       1, 1], dtype=uint8)"
            ]
          },
          "metadata": {
            "tags": []
          },
          "execution_count": 24
        }
      ]
    },
    {
      "cell_type": "markdown",
      "metadata": {
        "id": "6CqgHyVrJrXl",
        "colab_type": "text"
      },
      "source": [
        "#### Score of the model using Logistic Regression"
      ]
    },
    {
      "cell_type": "code",
      "metadata": {
        "id": "f10Fy5Y-OvNT",
        "colab_type": "code",
        "colab": {}
      },
      "source": [
        "from sklearn.metrics import classification_report"
      ],
      "execution_count": 0,
      "outputs": []
    },
    {
      "cell_type": "code",
      "metadata": {
        "id": "FU6TFkNVO1e8",
        "colab_type": "code",
        "outputId": "88851b67-c1ef-4fce-e73d-4a29b61c7eb9",
        "colab": {
          "base_uri": "https://localhost:8080/",
          "height": 181
        }
      },
      "source": [
        "print(classification_report(y_test,predictions))"
      ],
      "execution_count": 0,
      "outputs": [
        {
          "output_type": "stream",
          "text": [
            "              precision    recall  f1-score   support\n",
            "\n",
            "           0       0.88      0.41      0.56        56\n",
            "           1       0.78      0.98      0.87       122\n",
            "\n",
            "    accuracy                           0.80       178\n",
            "   macro avg       0.83      0.69      0.71       178\n",
            "weighted avg       0.81      0.80      0.77       178\n",
            "\n"
          ],
          "name": "stdout"
        }
      ]
    },
    {
      "cell_type": "code",
      "metadata": {
        "id": "-yv-MQD2O_TS",
        "colab_type": "code",
        "outputId": "32a40896-7090-43c7-cf78-4fc60af8767a",
        "colab": {
          "base_uri": "https://localhost:8080/",
          "height": 53
        }
      },
      "source": [
        "from sklearn.metrics import confusion_matrix\n",
        "print(confusion_matrix(y_test,predictions))"
      ],
      "execution_count": 0,
      "outputs": [
        {
          "output_type": "stream",
          "text": [
            "[[ 23  33]\n",
            " [  3 119]]\n"
          ],
          "name": "stdout"
        }
      ]
    },
    {
      "cell_type": "markdown",
      "metadata": {
        "id": "MSN8kDsUPWtR",
        "colab_type": "text"
      },
      "source": [
        "## Now we will build the model using whole train data\n",
        "\n",
        "#### Training the model using full dataset"
      ]
    },
    {
      "cell_type": "code",
      "metadata": {
        "id": "PeaXjj3dPGbq",
        "colab_type": "code",
        "outputId": "2d9983e4-9e37-498a-c5ca-c9905e04b2d3",
        "colab": {
          "base_uri": "https://localhost:8080/",
          "height": 164
        }
      },
      "source": [
        "logmodel =LogisticRegression()\n",
        "logmodel.fit(X,y)"
      ],
      "execution_count": 0,
      "outputs": [
        {
          "output_type": "stream",
          "text": [
            "/usr/local/lib/python3.6/dist-packages/sklearn/linear_model/logistic.py:432: FutureWarning: Default solver will be changed to 'lbfgs' in 0.22. Specify a solver to silence this warning.\n",
            "  FutureWarning)\n"
          ],
          "name": "stderr"
        },
        {
          "output_type": "execute_result",
          "data": {
            "text/plain": [
              "LogisticRegression(C=1.0, class_weight=None, dual=False, fit_intercept=True,\n",
              "                   intercept_scaling=1, l1_ratio=None, max_iter=100,\n",
              "                   multi_class='warn', n_jobs=None, penalty='l2',\n",
              "                   random_state=None, solver='warn', tol=0.0001, verbose=0,\n",
              "                   warm_start=False)"
            ]
          },
          "metadata": {
            "tags": []
          },
          "execution_count": 28
        }
      ]
    },
    {
      "cell_type": "markdown",
      "metadata": {
        "id": "lq5IfqtHQJSb",
        "colab_type": "text"
      },
      "source": [
        "## Prediction"
      ]
    },
    {
      "cell_type": "code",
      "metadata": {
        "id": "MWbQsMYsQGKV",
        "colab_type": "code",
        "outputId": "5174f485-b27e-4b26-ed5e-c5e5c015f206",
        "colab": {
          "base_uri": "https://localhost:8080/",
          "height": 326
        }
      },
      "source": [
        "predictions=logmodel.predict(test.drop(['Loan_ID'],axis=1))\n",
        "predictions"
      ],
      "execution_count": 0,
      "outputs": [
        {
          "output_type": "execute_result",
          "data": {
            "text/plain": [
              "array([1, 1, 1, 1, 1, 1, 1, 0, 1, 1, 1, 1, 1, 0, 1, 1, 1, 1, 1, 1, 1, 1,\n",
              "       1, 1, 1, 0, 1, 1, 1, 1, 1, 1, 1, 1, 1, 0, 1, 1, 1, 1, 1, 1, 1, 1,\n",
              "       1, 1, 1, 1, 1, 1, 1, 1, 1, 1, 1, 0, 1, 1, 0, 1, 1, 1, 1, 0, 1, 1,\n",
              "       0, 0, 1, 0, 1, 1, 1, 1, 1, 1, 1, 1, 1, 0, 1, 0, 1, 0, 1, 1, 1, 1,\n",
              "       1, 1, 1, 1, 1, 0, 1, 1, 1, 1, 1, 1, 1, 1, 1, 1, 0, 1, 1, 1, 1, 1,\n",
              "       1, 1, 1, 1, 1, 0, 0, 0, 1, 1, 1, 0, 0, 1, 0, 1, 1, 1, 1, 1, 1, 1,\n",
              "       1, 1, 1, 1, 1, 1, 0, 1, 0, 1, 1, 1, 1, 0, 1, 1, 1, 1, 1, 0, 1, 1,\n",
              "       1, 1, 1, 1, 1, 0, 1, 1, 1, 0, 0, 1, 0, 1, 1, 1, 1, 0, 0, 1, 1, 1,\n",
              "       1, 1, 1, 1, 1, 1, 1, 1, 1, 1, 1, 1, 1, 0, 0, 1, 1, 0, 1, 0, 1, 1,\n",
              "       1, 1, 1, 1, 1, 1, 1, 1, 0, 1, 0, 1, 1, 1, 1, 1, 1, 1, 1, 1, 1, 1,\n",
              "       1, 0, 1, 1, 1, 1, 0, 1, 1, 1, 1, 1, 0, 0, 1, 1, 1, 1, 0, 1, 0, 1,\n",
              "       0, 1, 1, 1, 0, 1, 1, 1, 1, 0, 1, 1, 1, 1, 1, 1, 1, 1, 1, 1, 0, 0,\n",
              "       0, 1, 1, 1, 1, 0, 0, 1, 1, 1, 0, 1, 1, 1, 1, 1, 1, 1, 1, 1, 1, 1,\n",
              "       1, 1, 0, 1, 1, 1, 1, 1, 1, 1, 0, 1, 1, 1, 1, 1, 1, 1, 1, 1, 0, 1,\n",
              "       1, 1, 1, 1, 0, 1, 1, 1, 1, 1, 1, 1, 1, 1, 1, 1, 1, 1, 1, 1, 1, 1,\n",
              "       1, 1, 1, 1, 0, 1, 1, 1, 1, 1, 1, 0, 1, 1, 1, 1, 1, 1, 1, 0, 1, 1,\n",
              "       1, 1, 1, 1, 1, 1, 1, 1, 1, 1], dtype=uint8)"
            ]
          },
          "metadata": {
            "tags": []
          },
          "execution_count": 29
        }
      ]
    },
    {
      "cell_type": "code",
      "metadata": {
        "id": "Yi1L_HCAYi-Q",
        "colab_type": "code",
        "colab": {}
      },
      "source": [
        "output = pd.DataFrame(data=predictions, index = test['Loan_ID'], columns=['Loan_Status'])"
      ],
      "execution_count": 0,
      "outputs": []
    },
    {
      "cell_type": "code",
      "metadata": {
        "id": "EPY4of6AaNAY",
        "colab_type": "code",
        "colab": {}
      },
      "source": [
        "output['Loan_Status'] = output['Loan_Status'].apply(lambda x:'Y' if x==1 else'N')"
      ],
      "execution_count": 0,
      "outputs": []
    },
    {
      "cell_type": "markdown",
      "metadata": {
        "id": "uU2Dbi3NJ9oq",
        "colab_type": "text"
      },
      "source": [
        "#### Output according to Sample submission"
      ]
    },
    {
      "cell_type": "code",
      "metadata": {
        "id": "GjdmEOLrb5lf",
        "colab_type": "code",
        "outputId": "8e28ce31-3e86-437b-ca6c-b71adda58a7c",
        "colab": {
          "base_uri": "https://localhost:8080/",
          "height": 1000
        }
      },
      "source": [
        "output"
      ],
      "execution_count": 0,
      "outputs": [
        {
          "output_type": "execute_result",
          "data": {
            "text/html": [
              "<div>\n",
              "<style scoped>\n",
              "    .dataframe tbody tr th:only-of-type {\n",
              "        vertical-align: middle;\n",
              "    }\n",
              "\n",
              "    .dataframe tbody tr th {\n",
              "        vertical-align: top;\n",
              "    }\n",
              "\n",
              "    .dataframe thead th {\n",
              "        text-align: right;\n",
              "    }\n",
              "</style>\n",
              "<table border=\"1\" class=\"dataframe\">\n",
              "  <thead>\n",
              "    <tr style=\"text-align: right;\">\n",
              "      <th></th>\n",
              "      <th>Loan_Status</th>\n",
              "    </tr>\n",
              "    <tr>\n",
              "      <th>Loan_ID</th>\n",
              "      <th></th>\n",
              "    </tr>\n",
              "  </thead>\n",
              "  <tbody>\n",
              "    <tr>\n",
              "      <th>LP001015</th>\n",
              "      <td>Y</td>\n",
              "    </tr>\n",
              "    <tr>\n",
              "      <th>LP001022</th>\n",
              "      <td>Y</td>\n",
              "    </tr>\n",
              "    <tr>\n",
              "      <th>LP001031</th>\n",
              "      <td>Y</td>\n",
              "    </tr>\n",
              "    <tr>\n",
              "      <th>LP001035</th>\n",
              "      <td>Y</td>\n",
              "    </tr>\n",
              "    <tr>\n",
              "      <th>LP001051</th>\n",
              "      <td>Y</td>\n",
              "    </tr>\n",
              "    <tr>\n",
              "      <th>LP001054</th>\n",
              "      <td>Y</td>\n",
              "    </tr>\n",
              "    <tr>\n",
              "      <th>LP001055</th>\n",
              "      <td>Y</td>\n",
              "    </tr>\n",
              "    <tr>\n",
              "      <th>LP001056</th>\n",
              "      <td>N</td>\n",
              "    </tr>\n",
              "    <tr>\n",
              "      <th>LP001059</th>\n",
              "      <td>Y</td>\n",
              "    </tr>\n",
              "    <tr>\n",
              "      <th>LP001067</th>\n",
              "      <td>Y</td>\n",
              "    </tr>\n",
              "    <tr>\n",
              "      <th>LP001078</th>\n",
              "      <td>Y</td>\n",
              "    </tr>\n",
              "    <tr>\n",
              "      <th>LP001082</th>\n",
              "      <td>Y</td>\n",
              "    </tr>\n",
              "    <tr>\n",
              "      <th>LP001083</th>\n",
              "      <td>Y</td>\n",
              "    </tr>\n",
              "    <tr>\n",
              "      <th>LP001094</th>\n",
              "      <td>N</td>\n",
              "    </tr>\n",
              "    <tr>\n",
              "      <th>LP001096</th>\n",
              "      <td>Y</td>\n",
              "    </tr>\n",
              "    <tr>\n",
              "      <th>LP001099</th>\n",
              "      <td>Y</td>\n",
              "    </tr>\n",
              "    <tr>\n",
              "      <th>LP001105</th>\n",
              "      <td>Y</td>\n",
              "    </tr>\n",
              "    <tr>\n",
              "      <th>LP001107</th>\n",
              "      <td>Y</td>\n",
              "    </tr>\n",
              "    <tr>\n",
              "      <th>LP001108</th>\n",
              "      <td>Y</td>\n",
              "    </tr>\n",
              "    <tr>\n",
              "      <th>LP001115</th>\n",
              "      <td>Y</td>\n",
              "    </tr>\n",
              "    <tr>\n",
              "      <th>LP001121</th>\n",
              "      <td>Y</td>\n",
              "    </tr>\n",
              "    <tr>\n",
              "      <th>LP001124</th>\n",
              "      <td>Y</td>\n",
              "    </tr>\n",
              "    <tr>\n",
              "      <th>LP001128</th>\n",
              "      <td>Y</td>\n",
              "    </tr>\n",
              "    <tr>\n",
              "      <th>LP001135</th>\n",
              "      <td>Y</td>\n",
              "    </tr>\n",
              "    <tr>\n",
              "      <th>LP001149</th>\n",
              "      <td>Y</td>\n",
              "    </tr>\n",
              "    <tr>\n",
              "      <th>LP001153</th>\n",
              "      <td>N</td>\n",
              "    </tr>\n",
              "    <tr>\n",
              "      <th>LP001163</th>\n",
              "      <td>Y</td>\n",
              "    </tr>\n",
              "    <tr>\n",
              "      <th>LP001169</th>\n",
              "      <td>Y</td>\n",
              "    </tr>\n",
              "    <tr>\n",
              "      <th>LP001174</th>\n",
              "      <td>Y</td>\n",
              "    </tr>\n",
              "    <tr>\n",
              "      <th>LP001176</th>\n",
              "      <td>Y</td>\n",
              "    </tr>\n",
              "    <tr>\n",
              "      <th>...</th>\n",
              "      <td>...</td>\n",
              "    </tr>\n",
              "    <tr>\n",
              "      <th>LP002856</th>\n",
              "      <td>Y</td>\n",
              "    </tr>\n",
              "    <tr>\n",
              "      <th>LP002857</th>\n",
              "      <td>Y</td>\n",
              "    </tr>\n",
              "    <tr>\n",
              "      <th>LP002858</th>\n",
              "      <td>N</td>\n",
              "    </tr>\n",
              "    <tr>\n",
              "      <th>LP002860</th>\n",
              "      <td>Y</td>\n",
              "    </tr>\n",
              "    <tr>\n",
              "      <th>LP002867</th>\n",
              "      <td>Y</td>\n",
              "    </tr>\n",
              "    <tr>\n",
              "      <th>LP002869</th>\n",
              "      <td>Y</td>\n",
              "    </tr>\n",
              "    <tr>\n",
              "      <th>LP002870</th>\n",
              "      <td>Y</td>\n",
              "    </tr>\n",
              "    <tr>\n",
              "      <th>LP002876</th>\n",
              "      <td>Y</td>\n",
              "    </tr>\n",
              "    <tr>\n",
              "      <th>LP002878</th>\n",
              "      <td>Y</td>\n",
              "    </tr>\n",
              "    <tr>\n",
              "      <th>LP002879</th>\n",
              "      <td>N</td>\n",
              "    </tr>\n",
              "    <tr>\n",
              "      <th>LP002885</th>\n",
              "      <td>Y</td>\n",
              "    </tr>\n",
              "    <tr>\n",
              "      <th>LP002890</th>\n",
              "      <td>Y</td>\n",
              "    </tr>\n",
              "    <tr>\n",
              "      <th>LP002891</th>\n",
              "      <td>Y</td>\n",
              "    </tr>\n",
              "    <tr>\n",
              "      <th>LP002899</th>\n",
              "      <td>Y</td>\n",
              "    </tr>\n",
              "    <tr>\n",
              "      <th>LP002901</th>\n",
              "      <td>Y</td>\n",
              "    </tr>\n",
              "    <tr>\n",
              "      <th>LP002907</th>\n",
              "      <td>Y</td>\n",
              "    </tr>\n",
              "    <tr>\n",
              "      <th>LP002920</th>\n",
              "      <td>Y</td>\n",
              "    </tr>\n",
              "    <tr>\n",
              "      <th>LP002921</th>\n",
              "      <td>N</td>\n",
              "    </tr>\n",
              "    <tr>\n",
              "      <th>LP002932</th>\n",
              "      <td>Y</td>\n",
              "    </tr>\n",
              "    <tr>\n",
              "      <th>LP002935</th>\n",
              "      <td>Y</td>\n",
              "    </tr>\n",
              "    <tr>\n",
              "      <th>LP002952</th>\n",
              "      <td>Y</td>\n",
              "    </tr>\n",
              "    <tr>\n",
              "      <th>LP002954</th>\n",
              "      <td>Y</td>\n",
              "    </tr>\n",
              "    <tr>\n",
              "      <th>LP002962</th>\n",
              "      <td>Y</td>\n",
              "    </tr>\n",
              "    <tr>\n",
              "      <th>LP002965</th>\n",
              "      <td>Y</td>\n",
              "    </tr>\n",
              "    <tr>\n",
              "      <th>LP002969</th>\n",
              "      <td>Y</td>\n",
              "    </tr>\n",
              "    <tr>\n",
              "      <th>LP002971</th>\n",
              "      <td>Y</td>\n",
              "    </tr>\n",
              "    <tr>\n",
              "      <th>LP002975</th>\n",
              "      <td>Y</td>\n",
              "    </tr>\n",
              "    <tr>\n",
              "      <th>LP002980</th>\n",
              "      <td>Y</td>\n",
              "    </tr>\n",
              "    <tr>\n",
              "      <th>LP002986</th>\n",
              "      <td>Y</td>\n",
              "    </tr>\n",
              "    <tr>\n",
              "      <th>LP002989</th>\n",
              "      <td>Y</td>\n",
              "    </tr>\n",
              "  </tbody>\n",
              "</table>\n",
              "<p>362 rows × 1 columns</p>\n",
              "</div>"
            ],
            "text/plain": [
              "         Loan_Status\n",
              "Loan_ID             \n",
              "LP001015           Y\n",
              "LP001022           Y\n",
              "LP001031           Y\n",
              "LP001035           Y\n",
              "LP001051           Y\n",
              "LP001054           Y\n",
              "LP001055           Y\n",
              "LP001056           N\n",
              "LP001059           Y\n",
              "LP001067           Y\n",
              "LP001078           Y\n",
              "LP001082           Y\n",
              "LP001083           Y\n",
              "LP001094           N\n",
              "LP001096           Y\n",
              "LP001099           Y\n",
              "LP001105           Y\n",
              "LP001107           Y\n",
              "LP001108           Y\n",
              "LP001115           Y\n",
              "LP001121           Y\n",
              "LP001124           Y\n",
              "LP001128           Y\n",
              "LP001135           Y\n",
              "LP001149           Y\n",
              "LP001153           N\n",
              "LP001163           Y\n",
              "LP001169           Y\n",
              "LP001174           Y\n",
              "LP001176           Y\n",
              "...              ...\n",
              "LP002856           Y\n",
              "LP002857           Y\n",
              "LP002858           N\n",
              "LP002860           Y\n",
              "LP002867           Y\n",
              "LP002869           Y\n",
              "LP002870           Y\n",
              "LP002876           Y\n",
              "LP002878           Y\n",
              "LP002879           N\n",
              "LP002885           Y\n",
              "LP002890           Y\n",
              "LP002891           Y\n",
              "LP002899           Y\n",
              "LP002901           Y\n",
              "LP002907           Y\n",
              "LP002920           Y\n",
              "LP002921           N\n",
              "LP002932           Y\n",
              "LP002935           Y\n",
              "LP002952           Y\n",
              "LP002954           Y\n",
              "LP002962           Y\n",
              "LP002965           Y\n",
              "LP002969           Y\n",
              "LP002971           Y\n",
              "LP002975           Y\n",
              "LP002980           Y\n",
              "LP002986           Y\n",
              "LP002989           Y\n",
              "\n",
              "[362 rows x 1 columns]"
            ]
          },
          "metadata": {
            "tags": []
          },
          "execution_count": 32
        }
      ]
    },
    {
      "cell_type": "markdown",
      "metadata": {
        "id": "LU3M5x2sKICD",
        "colab_type": "text"
      },
      "source": [
        ""
      ]
    },
    {
      "cell_type": "markdown",
      "metadata": {
        "id": "AUtkK9OeKIJ8",
        "colab_type": "text"
      },
      "source": [
        "**Saving the output csv file to Google Drive**"
      ]
    },
    {
      "cell_type": "code",
      "metadata": {
        "id": "hgYjbwAvaOgX",
        "colab_type": "code",
        "outputId": "752da36c-1796-46d3-8824-3ad5e4e43285",
        "colab": {
          "base_uri": "https://localhost:8080/",
          "height": 35
        }
      },
      "source": [
        "from google.colab import drive\n",
        "drive.mount('drive')\n",
        "\n",
        "# After authentication, you can copy your csv file.\n",
        "\n",
        "output.to_csv('404LoanStatus.csv')\n",
        "!cp 404LoanStatus.csv drive/My\\ Drive/"
      ],
      "execution_count": 0,
      "outputs": [
        {
          "output_type": "stream",
          "text": [
            "Mounted at drive\n"
          ],
          "name": "stdout"
        }
      ]
    },
    {
      "cell_type": "code",
      "metadata": {
        "id": "PKGwVwMNbz7V",
        "colab_type": "code",
        "colab": {}
      },
      "source": [
        ""
      ],
      "execution_count": 0,
      "outputs": []
    },
    {
      "cell_type": "markdown",
      "metadata": {
        "id": "uXuVjx8Lp452",
        "colab_type": "text"
      },
      "source": [
        "## Finding the  'Aproved_Amoumt' and 'Tenure' for non shortlisted loans"
      ]
    },
    {
      "cell_type": "code",
      "metadata": {
        "id": "3EL_r2NfqObR",
        "colab_type": "code",
        "colab": {}
      },
      "source": [
        "probabality = logmodel.predict_proba(test.drop(['Loan_ID'],axis=1))"
      ],
      "execution_count": 0,
      "outputs": []
    },
    {
      "cell_type": "code",
      "metadata": {
        "id": "_4NM6Omgu0Iq",
        "colab_type": "code",
        "colab": {}
      },
      "source": [
        "testresult = test.copy()"
      ],
      "execution_count": 0,
      "outputs": []
    },
    {
      "cell_type": "code",
      "metadata": {
        "id": "n7ImJf_-43TQ",
        "colab_type": "code",
        "colab": {}
      },
      "source": [
        "pd_prob = pd.DataFrame(data=probabality,columns=[['P_No','P_Yes']])"
      ],
      "execution_count": 0,
      "outputs": []
    },
    {
      "cell_type": "code",
      "metadata": {
        "id": "aInma3NQu2UB",
        "colab_type": "code",
        "colab": {}
      },
      "source": [
        "testresult['Prob_Yes'] = pd_prob['P_Yes']"
      ],
      "execution_count": 0,
      "outputs": []
    },
    {
      "cell_type": "code",
      "metadata": {
        "id": "L8gTlImi8Euh",
        "colab_type": "code",
        "outputId": "a7392f91-8eb6-45f1-d066-23838cdddf70",
        "colab": {
          "base_uri": "https://localhost:8080/",
          "height": 243
        }
      },
      "source": [
        "testresult = testresult.dropna()\n",
        "testresult.head()"
      ],
      "execution_count": 0,
      "outputs": [
        {
          "output_type": "execute_result",
          "data": {
            "text/html": [
              "<div>\n",
              "<style scoped>\n",
              "    .dataframe tbody tr th:only-of-type {\n",
              "        vertical-align: middle;\n",
              "    }\n",
              "\n",
              "    .dataframe tbody tr th {\n",
              "        vertical-align: top;\n",
              "    }\n",
              "\n",
              "    .dataframe thead th {\n",
              "        text-align: right;\n",
              "    }\n",
              "</style>\n",
              "<table border=\"1\" class=\"dataframe\">\n",
              "  <thead>\n",
              "    <tr style=\"text-align: right;\">\n",
              "      <th></th>\n",
              "      <th>Loan_ID</th>\n",
              "      <th>ApplicantIncome</th>\n",
              "      <th>CoapplicantIncome</th>\n",
              "      <th>LoanAmount</th>\n",
              "      <th>Loan_Amount_Term</th>\n",
              "      <th>Gender_Male</th>\n",
              "      <th>Married_Yes</th>\n",
              "      <th>Education_Not Graduate</th>\n",
              "      <th>Self_Employed_Yes</th>\n",
              "      <th>Dependents_1</th>\n",
              "      <th>Dependents_2</th>\n",
              "      <th>Dependents_3+</th>\n",
              "      <th>Credit_History_1.0</th>\n",
              "      <th>Property_Area_Semiurban</th>\n",
              "      <th>Property_Area_Urban</th>\n",
              "      <th>Prob_Yes</th>\n",
              "    </tr>\n",
              "  </thead>\n",
              "  <tbody>\n",
              "    <tr>\n",
              "      <th>0</th>\n",
              "      <td>LP001015</td>\n",
              "      <td>5720</td>\n",
              "      <td>0</td>\n",
              "      <td>110.0</td>\n",
              "      <td>360.0</td>\n",
              "      <td>1</td>\n",
              "      <td>1</td>\n",
              "      <td>0</td>\n",
              "      <td>0</td>\n",
              "      <td>0</td>\n",
              "      <td>0</td>\n",
              "      <td>0</td>\n",
              "      <td>1</td>\n",
              "      <td>0</td>\n",
              "      <td>1</td>\n",
              "      <td>0.829773</td>\n",
              "    </tr>\n",
              "    <tr>\n",
              "      <th>1</th>\n",
              "      <td>LP001022</td>\n",
              "      <td>3076</td>\n",
              "      <td>1500</td>\n",
              "      <td>126.0</td>\n",
              "      <td>360.0</td>\n",
              "      <td>1</td>\n",
              "      <td>1</td>\n",
              "      <td>0</td>\n",
              "      <td>0</td>\n",
              "      <td>1</td>\n",
              "      <td>0</td>\n",
              "      <td>0</td>\n",
              "      <td>1</td>\n",
              "      <td>0</td>\n",
              "      <td>1</td>\n",
              "      <td>0.726455</td>\n",
              "    </tr>\n",
              "    <tr>\n",
              "      <th>2</th>\n",
              "      <td>LP001031</td>\n",
              "      <td>5000</td>\n",
              "      <td>1800</td>\n",
              "      <td>208.0</td>\n",
              "      <td>360.0</td>\n",
              "      <td>1</td>\n",
              "      <td>1</td>\n",
              "      <td>0</td>\n",
              "      <td>0</td>\n",
              "      <td>0</td>\n",
              "      <td>1</td>\n",
              "      <td>0</td>\n",
              "      <td>1</td>\n",
              "      <td>0</td>\n",
              "      <td>1</td>\n",
              "      <td>0.825892</td>\n",
              "    </tr>\n",
              "    <tr>\n",
              "      <th>3</th>\n",
              "      <td>LP001035</td>\n",
              "      <td>2340</td>\n",
              "      <td>2546</td>\n",
              "      <td>100.0</td>\n",
              "      <td>360.0</td>\n",
              "      <td>1</td>\n",
              "      <td>1</td>\n",
              "      <td>0</td>\n",
              "      <td>0</td>\n",
              "      <td>0</td>\n",
              "      <td>1</td>\n",
              "      <td>0</td>\n",
              "      <td>1</td>\n",
              "      <td>0</td>\n",
              "      <td>1</td>\n",
              "      <td>0.845331</td>\n",
              "    </tr>\n",
              "    <tr>\n",
              "      <th>4</th>\n",
              "      <td>LP001051</td>\n",
              "      <td>3276</td>\n",
              "      <td>0</td>\n",
              "      <td>78.0</td>\n",
              "      <td>360.0</td>\n",
              "      <td>1</td>\n",
              "      <td>0</td>\n",
              "      <td>1</td>\n",
              "      <td>0</td>\n",
              "      <td>0</td>\n",
              "      <td>0</td>\n",
              "      <td>0</td>\n",
              "      <td>1</td>\n",
              "      <td>0</td>\n",
              "      <td>1</td>\n",
              "      <td>0.688998</td>\n",
              "    </tr>\n",
              "  </tbody>\n",
              "</table>\n",
              "</div>"
            ],
            "text/plain": [
              "    Loan_ID  ApplicantIncome  ...  Property_Area_Urban  Prob_Yes\n",
              "0  LP001015             5720  ...                    1  0.829773\n",
              "1  LP001022             3076  ...                    1  0.726455\n",
              "2  LP001031             5000  ...                    1  0.825892\n",
              "3  LP001035             2340  ...                    1  0.845331\n",
              "4  LP001051             3276  ...                    1  0.688998\n",
              "\n",
              "[5 rows x 16 columns]"
            ]
          },
          "metadata": {
            "tags": []
          },
          "execution_count": 38
        }
      ]
    },
    {
      "cell_type": "markdown",
      "metadata": {
        "id": "W9xB1TmOLRai",
        "colab_type": "text"
      },
      "source": [
        "#### Creating one seperate DataFrame for people with negative loan status\n",
        "\n",
        "\n"
      ]
    },
    {
      "cell_type": "code",
      "metadata": {
        "id": "aUUVUZSR81Mf",
        "colab_type": "code",
        "outputId": "d96d1f83-a226-4cbf-96b5-f63cc78f2f49",
        "colab": {
          "base_uri": "https://localhost:8080/",
          "height": 1000
        }
      },
      "source": [
        "result = testresult[['Loan_ID','LoanAmount','Prob_Yes','Loan_Amount_Term']]\n",
        "result = result[result['Prob_Yes']<.5]\n",
        "result"
      ],
      "execution_count": 0,
      "outputs": [
        {
          "output_type": "execute_result",
          "data": {
            "text/html": [
              "<div>\n",
              "<style scoped>\n",
              "    .dataframe tbody tr th:only-of-type {\n",
              "        vertical-align: middle;\n",
              "    }\n",
              "\n",
              "    .dataframe tbody tr th {\n",
              "        vertical-align: top;\n",
              "    }\n",
              "\n",
              "    .dataframe thead th {\n",
              "        text-align: right;\n",
              "    }\n",
              "</style>\n",
              "<table border=\"1\" class=\"dataframe\">\n",
              "  <thead>\n",
              "    <tr style=\"text-align: right;\">\n",
              "      <th></th>\n",
              "      <th>Loan_ID</th>\n",
              "      <th>LoanAmount</th>\n",
              "      <th>Prob_Yes</th>\n",
              "      <th>Loan_Amount_Term</th>\n",
              "    </tr>\n",
              "  </thead>\n",
              "  <tbody>\n",
              "    <tr>\n",
              "      <th>7</th>\n",
              "      <td>LP001056</td>\n",
              "      <td>147.0</td>\n",
              "      <td>0.150157</td>\n",
              "      <td>360.0</td>\n",
              "    </tr>\n",
              "    <tr>\n",
              "      <th>13</th>\n",
              "      <td>LP001094</td>\n",
              "      <td>166.0</td>\n",
              "      <td>0.345513</td>\n",
              "      <td>360.0</td>\n",
              "    </tr>\n",
              "    <tr>\n",
              "      <th>25</th>\n",
              "      <td>LP001153</td>\n",
              "      <td>148.0</td>\n",
              "      <td>0.027685</td>\n",
              "      <td>360.0</td>\n",
              "    </tr>\n",
              "    <tr>\n",
              "      <th>35</th>\n",
              "      <td>LP001203</td>\n",
              "      <td>176.0</td>\n",
              "      <td>0.193072</td>\n",
              "      <td>360.0</td>\n",
              "    </tr>\n",
              "    <tr>\n",
              "      <th>55</th>\n",
              "      <td>LP001313</td>\n",
              "      <td>130.0</td>\n",
              "      <td>0.131145</td>\n",
              "      <td>360.0</td>\n",
              "    </tr>\n",
              "    <tr>\n",
              "      <th>58</th>\n",
              "      <td>LP001323</td>\n",
              "      <td>176.0</td>\n",
              "      <td>0.278174</td>\n",
              "      <td>360.0</td>\n",
              "    </tr>\n",
              "    <tr>\n",
              "      <th>63</th>\n",
              "      <td>LP001347</td>\n",
              "      <td>108.0</td>\n",
              "      <td>0.111215</td>\n",
              "      <td>360.0</td>\n",
              "    </tr>\n",
              "    <tr>\n",
              "      <th>66</th>\n",
              "      <td>LP001352</td>\n",
              "      <td>135.0</td>\n",
              "      <td>0.212993</td>\n",
              "      <td>360.0</td>\n",
              "    </tr>\n",
              "    <tr>\n",
              "      <th>67</th>\n",
              "      <td>LP001358</td>\n",
              "      <td>130.0</td>\n",
              "      <td>0.287654</td>\n",
              "      <td>360.0</td>\n",
              "    </tr>\n",
              "    <tr>\n",
              "      <th>69</th>\n",
              "      <td>LP001361</td>\n",
              "      <td>188.0</td>\n",
              "      <td>0.117669</td>\n",
              "      <td>360.0</td>\n",
              "    </tr>\n",
              "    <tr>\n",
              "      <th>79</th>\n",
              "      <td>LP001419</td>\n",
              "      <td>185.0</td>\n",
              "      <td>0.168805</td>\n",
              "      <td>360.0</td>\n",
              "    </tr>\n",
              "    <tr>\n",
              "      <th>81</th>\n",
              "      <td>LP001428</td>\n",
              "      <td>360.0</td>\n",
              "      <td>0.090356</td>\n",
              "      <td>360.0</td>\n",
              "    </tr>\n",
              "    <tr>\n",
              "      <th>83</th>\n",
              "      <td>LP001446</td>\n",
              "      <td>257.0</td>\n",
              "      <td>0.489772</td>\n",
              "      <td>360.0</td>\n",
              "    </tr>\n",
              "    <tr>\n",
              "      <th>93</th>\n",
              "      <td>LP001490</td>\n",
              "      <td>100.0</td>\n",
              "      <td>0.183108</td>\n",
              "      <td>360.0</td>\n",
              "    </tr>\n",
              "    <tr>\n",
              "      <th>104</th>\n",
              "      <td>LP001558</td>\n",
              "      <td>107.0</td>\n",
              "      <td>0.120593</td>\n",
              "      <td>360.0</td>\n",
              "    </tr>\n",
              "    <tr>\n",
              "      <th>115</th>\n",
              "      <td>LP001601</td>\n",
              "      <td>157.0</td>\n",
              "      <td>0.104894</td>\n",
              "      <td>360.0</td>\n",
              "    </tr>\n",
              "    <tr>\n",
              "      <th>116</th>\n",
              "      <td>LP001607</td>\n",
              "      <td>180.0</td>\n",
              "      <td>0.117441</td>\n",
              "      <td>360.0</td>\n",
              "    </tr>\n",
              "    <tr>\n",
              "      <th>117</th>\n",
              "      <td>LP001611</td>\n",
              "      <td>80.0</td>\n",
              "      <td>0.154557</td>\n",
              "      <td>360.0</td>\n",
              "    </tr>\n",
              "    <tr>\n",
              "      <th>121</th>\n",
              "      <td>LP001650</td>\n",
              "      <td>146.0</td>\n",
              "      <td>0.073985</td>\n",
              "      <td>360.0</td>\n",
              "    </tr>\n",
              "    <tr>\n",
              "      <th>122</th>\n",
              "      <td>LP001651</td>\n",
              "      <td>135.0</td>\n",
              "      <td>0.104160</td>\n",
              "      <td>360.0</td>\n",
              "    </tr>\n",
              "    <tr>\n",
              "      <th>124</th>\n",
              "      <td>LP001655</td>\n",
              "      <td>300.0</td>\n",
              "      <td>0.147763</td>\n",
              "      <td>360.0</td>\n",
              "    </tr>\n",
              "    <tr>\n",
              "      <th>138</th>\n",
              "      <td>LP001769</td>\n",
              "      <td>110.0</td>\n",
              "      <td>0.114681</td>\n",
              "      <td>360.0</td>\n",
              "    </tr>\n",
              "    <tr>\n",
              "      <th>140</th>\n",
              "      <td>LP001785</td>\n",
              "      <td>150.0</td>\n",
              "      <td>0.131076</td>\n",
              "      <td>360.0</td>\n",
              "    </tr>\n",
              "    <tr>\n",
              "      <th>145</th>\n",
              "      <td>LP001797</td>\n",
              "      <td>150.0</td>\n",
              "      <td>0.070303</td>\n",
              "      <td>300.0</td>\n",
              "    </tr>\n",
              "    <tr>\n",
              "      <th>151</th>\n",
              "      <td>LP001831</td>\n",
              "      <td>113.0</td>\n",
              "      <td>0.079763</td>\n",
              "      <td>360.0</td>\n",
              "    </tr>\n",
              "    <tr>\n",
              "      <th>159</th>\n",
              "      <td>LP001881</td>\n",
              "      <td>143.0</td>\n",
              "      <td>0.221703</td>\n",
              "      <td>360.0</td>\n",
              "    </tr>\n",
              "    <tr>\n",
              "      <th>163</th>\n",
              "      <td>LP001911</td>\n",
              "      <td>65.0</td>\n",
              "      <td>0.138940</td>\n",
              "      <td>360.0</td>\n",
              "    </tr>\n",
              "    <tr>\n",
              "      <th>164</th>\n",
              "      <td>LP001921</td>\n",
              "      <td>80.0</td>\n",
              "      <td>0.106145</td>\n",
              "      <td>240.0</td>\n",
              "    </tr>\n",
              "    <tr>\n",
              "      <th>166</th>\n",
              "      <td>LP001933</td>\n",
              "      <td>120.0</td>\n",
              "      <td>0.259580</td>\n",
              "      <td>360.0</td>\n",
              "    </tr>\n",
              "    <tr>\n",
              "      <th>171</th>\n",
              "      <td>LP001973</td>\n",
              "      <td>130.0</td>\n",
              "      <td>0.221014</td>\n",
              "      <td>360.0</td>\n",
              "    </tr>\n",
              "    <tr>\n",
              "      <th>172</th>\n",
              "      <td>LP001975</td>\n",
              "      <td>143.0</td>\n",
              "      <td>0.112865</td>\n",
              "      <td>360.0</td>\n",
              "    </tr>\n",
              "    <tr>\n",
              "      <th>189</th>\n",
              "      <td>LP002059</td>\n",
              "      <td>336.0</td>\n",
              "      <td>0.121599</td>\n",
              "      <td>360.0</td>\n",
              "    </tr>\n",
              "    <tr>\n",
              "      <th>190</th>\n",
              "      <td>LP002062</td>\n",
              "      <td>132.0</td>\n",
              "      <td>0.107308</td>\n",
              "      <td>84.0</td>\n",
              "    </tr>\n",
              "    <tr>\n",
              "      <th>193</th>\n",
              "      <td>LP002070</td>\n",
              "      <td>128.0</td>\n",
              "      <td>0.208748</td>\n",
              "      <td>360.0</td>\n",
              "    </tr>\n",
              "    <tr>\n",
              "      <th>195</th>\n",
              "      <td>LP002083</td>\n",
              "      <td>116.0</td>\n",
              "      <td>0.235741</td>\n",
              "      <td>360.0</td>\n",
              "    </tr>\n",
              "    <tr>\n",
              "      <th>206</th>\n",
              "      <td>LP002125</td>\n",
              "      <td>187.0</td>\n",
              "      <td>0.475400</td>\n",
              "      <td>360.0</td>\n",
              "    </tr>\n",
              "    <tr>\n",
              "      <th>208</th>\n",
              "      <td>LP002152</td>\n",
              "      <td>80.0</td>\n",
              "      <td>0.092482</td>\n",
              "      <td>360.0</td>\n",
              "    </tr>\n",
              "    <tr>\n",
              "      <th>221</th>\n",
              "      <td>LP002240</td>\n",
              "      <td>149.0</td>\n",
              "      <td>0.224892</td>\n",
              "      <td>360.0</td>\n",
              "    </tr>\n",
              "    <tr>\n",
              "      <th>226</th>\n",
              "      <td>LP002264</td>\n",
              "      <td>102.0</td>\n",
              "      <td>0.136672</td>\n",
              "      <td>360.0</td>\n",
              "    </tr>\n",
              "    <tr>\n",
              "      <th>232</th>\n",
              "      <td>LP002306</td>\n",
              "      <td>28.0</td>\n",
              "      <td>0.103951</td>\n",
              "      <td>180.0</td>\n",
              "    </tr>\n",
              "    <tr>\n",
              "      <th>233</th>\n",
              "      <td>LP002310</td>\n",
              "      <td>92.0</td>\n",
              "      <td>0.161110</td>\n",
              "      <td>360.0</td>\n",
              "    </tr>\n",
              "    <tr>\n",
              "      <th>238</th>\n",
              "      <td>LP002326</td>\n",
              "      <td>107.0</td>\n",
              "      <td>0.278897</td>\n",
              "      <td>360.0</td>\n",
              "    </tr>\n",
              "    <tr>\n",
              "      <th>240</th>\n",
              "      <td>LP002333</td>\n",
              "      <td>105.0</td>\n",
              "      <td>0.156670</td>\n",
              "      <td>360.0</td>\n",
              "    </tr>\n",
              "    <tr>\n",
              "      <th>242</th>\n",
              "      <td>LP002344</td>\n",
              "      <td>105.0</td>\n",
              "      <td>0.430274</td>\n",
              "      <td>360.0</td>\n",
              "    </tr>\n",
              "    <tr>\n",
              "      <th>246</th>\n",
              "      <td>LP002358</td>\n",
              "      <td>150.0</td>\n",
              "      <td>0.110003</td>\n",
              "      <td>360.0</td>\n",
              "    </tr>\n",
              "    <tr>\n",
              "      <th>251</th>\n",
              "      <td>LP002385</td>\n",
              "      <td>70.0</td>\n",
              "      <td>0.118662</td>\n",
              "      <td>300.0</td>\n",
              "    </tr>\n",
              "    <tr>\n",
              "      <th>262</th>\n",
              "      <td>LP002425</td>\n",
              "      <td>100.0</td>\n",
              "      <td>0.049987</td>\n",
              "      <td>360.0</td>\n",
              "    </tr>\n",
              "    <tr>\n",
              "      <th>263</th>\n",
              "      <td>LP002433</td>\n",
              "      <td>234.0</td>\n",
              "      <td>0.476480</td>\n",
              "      <td>360.0</td>\n",
              "    </tr>\n",
              "    <tr>\n",
              "      <th>264</th>\n",
              "      <td>LP002440</td>\n",
              "      <td>184.0</td>\n",
              "      <td>0.235077</td>\n",
              "      <td>360.0</td>\n",
              "    </tr>\n",
              "    <tr>\n",
              "      <th>269</th>\n",
              "      <td>LP002471</td>\n",
              "      <td>99.0</td>\n",
              "      <td>0.344722</td>\n",
              "      <td>360.0</td>\n",
              "    </tr>\n",
              "    <tr>\n",
              "      <th>270</th>\n",
              "      <td>LP002476</td>\n",
              "      <td>99.0</td>\n",
              "      <td>0.218418</td>\n",
              "      <td>360.0</td>\n",
              "    </tr>\n",
              "    <tr>\n",
              "      <th>274</th>\n",
              "      <td>LP002496</td>\n",
              "      <td>94.0</td>\n",
              "      <td>0.188181</td>\n",
              "      <td>360.0</td>\n",
              "    </tr>\n",
              "    <tr>\n",
              "      <th>288</th>\n",
              "      <td>LP002592</td>\n",
              "      <td>141.0</td>\n",
              "      <td>0.181191</td>\n",
              "      <td>360.0</td>\n",
              "    </tr>\n",
              "    <tr>\n",
              "      <th>296</th>\n",
              "      <td>LP002614</td>\n",
              "      <td>108.0</td>\n",
              "      <td>0.131374</td>\n",
              "      <td>360.0</td>\n",
              "    </tr>\n",
              "    <tr>\n",
              "      <th>306</th>\n",
              "      <td>LP002721</td>\n",
              "      <td>183.0</td>\n",
              "      <td>0.082494</td>\n",
              "      <td>360.0</td>\n",
              "    </tr>\n",
              "    <tr>\n",
              "      <th>312</th>\n",
              "      <td>LP002754</td>\n",
              "      <td>104.0</td>\n",
              "      <td>0.127503</td>\n",
              "      <td>84.0</td>\n",
              "    </tr>\n",
              "    <tr>\n",
              "      <th>334</th>\n",
              "      <td>LP002849</td>\n",
              "      <td>35.0</td>\n",
              "      <td>0.098176</td>\n",
              "      <td>360.0</td>\n",
              "    </tr>\n",
              "    <tr>\n",
              "      <th>341</th>\n",
              "      <td>LP002867</td>\n",
              "      <td>187.0</td>\n",
              "      <td>0.153316</td>\n",
              "      <td>360.0</td>\n",
              "    </tr>\n",
              "    <tr>\n",
              "      <th>349</th>\n",
              "      <td>LP002891</td>\n",
              "      <td>137.0</td>\n",
              "      <td>0.375126</td>\n",
              "      <td>300.0</td>\n",
              "    </tr>\n",
              "  </tbody>\n",
              "</table>\n",
              "</div>"
            ],
            "text/plain": [
              "      Loan_ID  LoanAmount  Prob_Yes  Loan_Amount_Term\n",
              "7    LP001056       147.0  0.150157             360.0\n",
              "13   LP001094       166.0  0.345513             360.0\n",
              "25   LP001153       148.0  0.027685             360.0\n",
              "35   LP001203       176.0  0.193072             360.0\n",
              "55   LP001313       130.0  0.131145             360.0\n",
              "58   LP001323       176.0  0.278174             360.0\n",
              "63   LP001347       108.0  0.111215             360.0\n",
              "66   LP001352       135.0  0.212993             360.0\n",
              "67   LP001358       130.0  0.287654             360.0\n",
              "69   LP001361       188.0  0.117669             360.0\n",
              "79   LP001419       185.0  0.168805             360.0\n",
              "81   LP001428       360.0  0.090356             360.0\n",
              "83   LP001446       257.0  0.489772             360.0\n",
              "93   LP001490       100.0  0.183108             360.0\n",
              "104  LP001558       107.0  0.120593             360.0\n",
              "115  LP001601       157.0  0.104894             360.0\n",
              "116  LP001607       180.0  0.117441             360.0\n",
              "117  LP001611        80.0  0.154557             360.0\n",
              "121  LP001650       146.0  0.073985             360.0\n",
              "122  LP001651       135.0  0.104160             360.0\n",
              "124  LP001655       300.0  0.147763             360.0\n",
              "138  LP001769       110.0  0.114681             360.0\n",
              "140  LP001785       150.0  0.131076             360.0\n",
              "145  LP001797       150.0  0.070303             300.0\n",
              "151  LP001831       113.0  0.079763             360.0\n",
              "159  LP001881       143.0  0.221703             360.0\n",
              "163  LP001911        65.0  0.138940             360.0\n",
              "164  LP001921        80.0  0.106145             240.0\n",
              "166  LP001933       120.0  0.259580             360.0\n",
              "171  LP001973       130.0  0.221014             360.0\n",
              "172  LP001975       143.0  0.112865             360.0\n",
              "189  LP002059       336.0  0.121599             360.0\n",
              "190  LP002062       132.0  0.107308              84.0\n",
              "193  LP002070       128.0  0.208748             360.0\n",
              "195  LP002083       116.0  0.235741             360.0\n",
              "206  LP002125       187.0  0.475400             360.0\n",
              "208  LP002152        80.0  0.092482             360.0\n",
              "221  LP002240       149.0  0.224892             360.0\n",
              "226  LP002264       102.0  0.136672             360.0\n",
              "232  LP002306        28.0  0.103951             180.0\n",
              "233  LP002310        92.0  0.161110             360.0\n",
              "238  LP002326       107.0  0.278897             360.0\n",
              "240  LP002333       105.0  0.156670             360.0\n",
              "242  LP002344       105.0  0.430274             360.0\n",
              "246  LP002358       150.0  0.110003             360.0\n",
              "251  LP002385        70.0  0.118662             300.0\n",
              "262  LP002425       100.0  0.049987             360.0\n",
              "263  LP002433       234.0  0.476480             360.0\n",
              "264  LP002440       184.0  0.235077             360.0\n",
              "269  LP002471        99.0  0.344722             360.0\n",
              "270  LP002476        99.0  0.218418             360.0\n",
              "274  LP002496        94.0  0.188181             360.0\n",
              "288  LP002592       141.0  0.181191             360.0\n",
              "296  LP002614       108.0  0.131374             360.0\n",
              "306  LP002721       183.0  0.082494             360.0\n",
              "312  LP002754       104.0  0.127503              84.0\n",
              "334  LP002849        35.0  0.098176             360.0\n",
              "341  LP002867       187.0  0.153316             360.0\n",
              "349  LP002891       137.0  0.375126             300.0"
            ]
          },
          "metadata": {
            "tags": []
          },
          "execution_count": 39
        }
      ]
    },
    {
      "cell_type": "markdown",
      "metadata": {
        "id": "HbQmY7ijMXYQ",
        "colab_type": "text"
      },
      "source": [
        "#### Approved Amount = (0.5 + Probablity of getting loan) * Loan Amount"
      ]
    },
    {
      "cell_type": "code",
      "metadata": {
        "id": "Qu9VdhrZ-jGl",
        "colab_type": "code",
        "colab": {}
      },
      "source": [
        "result['Approved_Amount'] = (0.5+result['Prob_Yes'])*result['LoanAmount']"
      ],
      "execution_count": 0,
      "outputs": []
    },
    {
      "cell_type": "markdown",
      "metadata": {
        "id": "2HLfmiOfM1ej",
        "colab_type": "text"
      },
      "source": [
        "#### Extended Tenure = ((1 - Probablity of getting loan)/2)*Loan_Amount_Term + Loan_Amount_Term\n",
        "\n"
      ]
    },
    {
      "cell_type": "code",
      "metadata": {
        "id": "EDYiIwHSKyQT",
        "colab_type": "code",
        "colab": {}
      },
      "source": [
        "result['Tenure'] = ((1-result['Prob_Yes'])/2)*result['Loan_Amount_Term']+result['Loan_Amount_Term']\n"
      ],
      "execution_count": 0,
      "outputs": []
    },
    {
      "cell_type": "code",
      "metadata": {
        "id": "GBCcvt3mL6-a",
        "colab_type": "code",
        "colab": {}
      },
      "source": [
        "result['Tenure']=result['Tenure'].apply(int)"
      ],
      "execution_count": 0,
      "outputs": []
    },
    {
      "cell_type": "code",
      "metadata": {
        "id": "prbUuXmHOKHz",
        "colab_type": "code",
        "colab": {}
      },
      "source": [
        "result = result.set_index(['Loan_ID'])\n"
      ],
      "execution_count": 0,
      "outputs": []
    },
    {
      "cell_type": "code",
      "metadata": {
        "id": "3DkMy7OrOLQq",
        "colab_type": "code",
        "colab": {}
      },
      "source": [
        "result.drop(['Prob_Yes'],axis=1,inplace=True)"
      ],
      "execution_count": 0,
      "outputs": []
    },
    {
      "cell_type": "code",
      "metadata": {
        "id": "k6K_Je2JOa3m",
        "colab_type": "code",
        "outputId": "b180cabb-3ad3-4330-d627-a39bffde5219",
        "colab": {
          "base_uri": "https://localhost:8080/",
          "height": 1000
        }
      },
      "source": [
        "result"
      ],
      "execution_count": 0,
      "outputs": [
        {
          "output_type": "execute_result",
          "data": {
            "text/html": [
              "<div>\n",
              "<style scoped>\n",
              "    .dataframe tbody tr th:only-of-type {\n",
              "        vertical-align: middle;\n",
              "    }\n",
              "\n",
              "    .dataframe tbody tr th {\n",
              "        vertical-align: top;\n",
              "    }\n",
              "\n",
              "    .dataframe thead th {\n",
              "        text-align: right;\n",
              "    }\n",
              "</style>\n",
              "<table border=\"1\" class=\"dataframe\">\n",
              "  <thead>\n",
              "    <tr style=\"text-align: right;\">\n",
              "      <th></th>\n",
              "      <th>LoanAmount</th>\n",
              "      <th>Loan_Amount_Term</th>\n",
              "      <th>Approved_Amount</th>\n",
              "      <th>Tenure</th>\n",
              "    </tr>\n",
              "    <tr>\n",
              "      <th>Loan_ID</th>\n",
              "      <th></th>\n",
              "      <th></th>\n",
              "      <th></th>\n",
              "      <th></th>\n",
              "    </tr>\n",
              "  </thead>\n",
              "  <tbody>\n",
              "    <tr>\n",
              "      <th>LP001056</th>\n",
              "      <td>147.0</td>\n",
              "      <td>360.0</td>\n",
              "      <td>95.573014</td>\n",
              "      <td>512</td>\n",
              "    </tr>\n",
              "    <tr>\n",
              "      <th>LP001094</th>\n",
              "      <td>166.0</td>\n",
              "      <td>360.0</td>\n",
              "      <td>140.355203</td>\n",
              "      <td>477</td>\n",
              "    </tr>\n",
              "    <tr>\n",
              "      <th>LP001153</th>\n",
              "      <td>148.0</td>\n",
              "      <td>360.0</td>\n",
              "      <td>78.097348</td>\n",
              "      <td>535</td>\n",
              "    </tr>\n",
              "    <tr>\n",
              "      <th>LP001203</th>\n",
              "      <td>176.0</td>\n",
              "      <td>360.0</td>\n",
              "      <td>121.980600</td>\n",
              "      <td>505</td>\n",
              "    </tr>\n",
              "    <tr>\n",
              "      <th>LP001313</th>\n",
              "      <td>130.0</td>\n",
              "      <td>360.0</td>\n",
              "      <td>82.048884</td>\n",
              "      <td>516</td>\n",
              "    </tr>\n",
              "    <tr>\n",
              "      <th>LP001323</th>\n",
              "      <td>176.0</td>\n",
              "      <td>360.0</td>\n",
              "      <td>136.958711</td>\n",
              "      <td>489</td>\n",
              "    </tr>\n",
              "    <tr>\n",
              "      <th>LP001347</th>\n",
              "      <td>108.0</td>\n",
              "      <td>360.0</td>\n",
              "      <td>66.011250</td>\n",
              "      <td>519</td>\n",
              "    </tr>\n",
              "    <tr>\n",
              "      <th>LP001352</th>\n",
              "      <td>135.0</td>\n",
              "      <td>360.0</td>\n",
              "      <td>96.254111</td>\n",
              "      <td>501</td>\n",
              "    </tr>\n",
              "    <tr>\n",
              "      <th>LP001358</th>\n",
              "      <td>130.0</td>\n",
              "      <td>360.0</td>\n",
              "      <td>102.395003</td>\n",
              "      <td>488</td>\n",
              "    </tr>\n",
              "    <tr>\n",
              "      <th>LP001361</th>\n",
              "      <td>188.0</td>\n",
              "      <td>360.0</td>\n",
              "      <td>116.121864</td>\n",
              "      <td>518</td>\n",
              "    </tr>\n",
              "    <tr>\n",
              "      <th>LP001419</th>\n",
              "      <td>185.0</td>\n",
              "      <td>360.0</td>\n",
              "      <td>123.728838</td>\n",
              "      <td>509</td>\n",
              "    </tr>\n",
              "    <tr>\n",
              "      <th>LP001428</th>\n",
              "      <td>360.0</td>\n",
              "      <td>360.0</td>\n",
              "      <td>212.528062</td>\n",
              "      <td>523</td>\n",
              "    </tr>\n",
              "    <tr>\n",
              "      <th>LP001446</th>\n",
              "      <td>257.0</td>\n",
              "      <td>360.0</td>\n",
              "      <td>254.371417</td>\n",
              "      <td>451</td>\n",
              "    </tr>\n",
              "    <tr>\n",
              "      <th>LP001490</th>\n",
              "      <td>100.0</td>\n",
              "      <td>360.0</td>\n",
              "      <td>68.310795</td>\n",
              "      <td>507</td>\n",
              "    </tr>\n",
              "    <tr>\n",
              "      <th>LP001558</th>\n",
              "      <td>107.0</td>\n",
              "      <td>360.0</td>\n",
              "      <td>66.403428</td>\n",
              "      <td>518</td>\n",
              "    </tr>\n",
              "    <tr>\n",
              "      <th>LP001601</th>\n",
              "      <td>157.0</td>\n",
              "      <td>360.0</td>\n",
              "      <td>94.968281</td>\n",
              "      <td>521</td>\n",
              "    </tr>\n",
              "    <tr>\n",
              "      <th>LP001607</th>\n",
              "      <td>180.0</td>\n",
              "      <td>360.0</td>\n",
              "      <td>111.139342</td>\n",
              "      <td>518</td>\n",
              "    </tr>\n",
              "    <tr>\n",
              "      <th>LP001611</th>\n",
              "      <td>80.0</td>\n",
              "      <td>360.0</td>\n",
              "      <td>52.364577</td>\n",
              "      <td>512</td>\n",
              "    </tr>\n",
              "    <tr>\n",
              "      <th>LP001650</th>\n",
              "      <td>146.0</td>\n",
              "      <td>360.0</td>\n",
              "      <td>83.801858</td>\n",
              "      <td>526</td>\n",
              "    </tr>\n",
              "    <tr>\n",
              "      <th>LP001651</th>\n",
              "      <td>135.0</td>\n",
              "      <td>360.0</td>\n",
              "      <td>81.561594</td>\n",
              "      <td>521</td>\n",
              "    </tr>\n",
              "    <tr>\n",
              "      <th>LP001655</th>\n",
              "      <td>300.0</td>\n",
              "      <td>360.0</td>\n",
              "      <td>194.328781</td>\n",
              "      <td>513</td>\n",
              "    </tr>\n",
              "    <tr>\n",
              "      <th>LP001769</th>\n",
              "      <td>110.0</td>\n",
              "      <td>360.0</td>\n",
              "      <td>67.614928</td>\n",
              "      <td>519</td>\n",
              "    </tr>\n",
              "    <tr>\n",
              "      <th>LP001785</th>\n",
              "      <td>150.0</td>\n",
              "      <td>360.0</td>\n",
              "      <td>94.661408</td>\n",
              "      <td>516</td>\n",
              "    </tr>\n",
              "    <tr>\n",
              "      <th>LP001797</th>\n",
              "      <td>150.0</td>\n",
              "      <td>300.0</td>\n",
              "      <td>85.545430</td>\n",
              "      <td>439</td>\n",
              "    </tr>\n",
              "    <tr>\n",
              "      <th>LP001831</th>\n",
              "      <td>113.0</td>\n",
              "      <td>360.0</td>\n",
              "      <td>65.513257</td>\n",
              "      <td>525</td>\n",
              "    </tr>\n",
              "    <tr>\n",
              "      <th>LP001881</th>\n",
              "      <td>143.0</td>\n",
              "      <td>360.0</td>\n",
              "      <td>103.203585</td>\n",
              "      <td>500</td>\n",
              "    </tr>\n",
              "    <tr>\n",
              "      <th>LP001911</th>\n",
              "      <td>65.0</td>\n",
              "      <td>360.0</td>\n",
              "      <td>41.531128</td>\n",
              "      <td>514</td>\n",
              "    </tr>\n",
              "    <tr>\n",
              "      <th>LP001921</th>\n",
              "      <td>80.0</td>\n",
              "      <td>240.0</td>\n",
              "      <td>48.491588</td>\n",
              "      <td>347</td>\n",
              "    </tr>\n",
              "    <tr>\n",
              "      <th>LP001933</th>\n",
              "      <td>120.0</td>\n",
              "      <td>360.0</td>\n",
              "      <td>91.149549</td>\n",
              "      <td>493</td>\n",
              "    </tr>\n",
              "    <tr>\n",
              "      <th>LP001973</th>\n",
              "      <td>130.0</td>\n",
              "      <td>360.0</td>\n",
              "      <td>93.731798</td>\n",
              "      <td>500</td>\n",
              "    </tr>\n",
              "    <tr>\n",
              "      <th>LP001975</th>\n",
              "      <td>143.0</td>\n",
              "      <td>360.0</td>\n",
              "      <td>87.639698</td>\n",
              "      <td>519</td>\n",
              "    </tr>\n",
              "    <tr>\n",
              "      <th>LP002059</th>\n",
              "      <td>336.0</td>\n",
              "      <td>360.0</td>\n",
              "      <td>208.857250</td>\n",
              "      <td>518</td>\n",
              "    </tr>\n",
              "    <tr>\n",
              "      <th>LP002062</th>\n",
              "      <td>132.0</td>\n",
              "      <td>84.0</td>\n",
              "      <td>80.164685</td>\n",
              "      <td>121</td>\n",
              "    </tr>\n",
              "    <tr>\n",
              "      <th>LP002070</th>\n",
              "      <td>128.0</td>\n",
              "      <td>360.0</td>\n",
              "      <td>90.719796</td>\n",
              "      <td>502</td>\n",
              "    </tr>\n",
              "    <tr>\n",
              "      <th>LP002083</th>\n",
              "      <td>116.0</td>\n",
              "      <td>360.0</td>\n",
              "      <td>85.345958</td>\n",
              "      <td>497</td>\n",
              "    </tr>\n",
              "    <tr>\n",
              "      <th>LP002125</th>\n",
              "      <td>187.0</td>\n",
              "      <td>360.0</td>\n",
              "      <td>182.399766</td>\n",
              "      <td>454</td>\n",
              "    </tr>\n",
              "    <tr>\n",
              "      <th>LP002152</th>\n",
              "      <td>80.0</td>\n",
              "      <td>360.0</td>\n",
              "      <td>47.398567</td>\n",
              "      <td>523</td>\n",
              "    </tr>\n",
              "    <tr>\n",
              "      <th>LP002240</th>\n",
              "      <td>149.0</td>\n",
              "      <td>360.0</td>\n",
              "      <td>108.008862</td>\n",
              "      <td>499</td>\n",
              "    </tr>\n",
              "    <tr>\n",
              "      <th>LP002264</th>\n",
              "      <td>102.0</td>\n",
              "      <td>360.0</td>\n",
              "      <td>64.940536</td>\n",
              "      <td>515</td>\n",
              "    </tr>\n",
              "    <tr>\n",
              "      <th>LP002306</th>\n",
              "      <td>28.0</td>\n",
              "      <td>180.0</td>\n",
              "      <td>16.910620</td>\n",
              "      <td>260</td>\n",
              "    </tr>\n",
              "    <tr>\n",
              "      <th>LP002310</th>\n",
              "      <td>92.0</td>\n",
              "      <td>360.0</td>\n",
              "      <td>60.822130</td>\n",
              "      <td>511</td>\n",
              "    </tr>\n",
              "    <tr>\n",
              "      <th>LP002326</th>\n",
              "      <td>107.0</td>\n",
              "      <td>360.0</td>\n",
              "      <td>83.341934</td>\n",
              "      <td>489</td>\n",
              "    </tr>\n",
              "    <tr>\n",
              "      <th>LP002333</th>\n",
              "      <td>105.0</td>\n",
              "      <td>360.0</td>\n",
              "      <td>68.950326</td>\n",
              "      <td>511</td>\n",
              "    </tr>\n",
              "    <tr>\n",
              "      <th>LP002344</th>\n",
              "      <td>105.0</td>\n",
              "      <td>360.0</td>\n",
              "      <td>97.678821</td>\n",
              "      <td>462</td>\n",
              "    </tr>\n",
              "    <tr>\n",
              "      <th>LP002358</th>\n",
              "      <td>150.0</td>\n",
              "      <td>360.0</td>\n",
              "      <td>91.500456</td>\n",
              "      <td>520</td>\n",
              "    </tr>\n",
              "    <tr>\n",
              "      <th>LP002385</th>\n",
              "      <td>70.0</td>\n",
              "      <td>300.0</td>\n",
              "      <td>43.306369</td>\n",
              "      <td>432</td>\n",
              "    </tr>\n",
              "    <tr>\n",
              "      <th>LP002425</th>\n",
              "      <td>100.0</td>\n",
              "      <td>360.0</td>\n",
              "      <td>54.998720</td>\n",
              "      <td>531</td>\n",
              "    </tr>\n",
              "    <tr>\n",
              "      <th>LP002433</th>\n",
              "      <td>234.0</td>\n",
              "      <td>360.0</td>\n",
              "      <td>228.496257</td>\n",
              "      <td>454</td>\n",
              "    </tr>\n",
              "    <tr>\n",
              "      <th>LP002440</th>\n",
              "      <td>184.0</td>\n",
              "      <td>360.0</td>\n",
              "      <td>135.254251</td>\n",
              "      <td>497</td>\n",
              "    </tr>\n",
              "    <tr>\n",
              "      <th>LP002471</th>\n",
              "      <td>99.0</td>\n",
              "      <td>360.0</td>\n",
              "      <td>83.627518</td>\n",
              "      <td>477</td>\n",
              "    </tr>\n",
              "    <tr>\n",
              "      <th>LP002476</th>\n",
              "      <td>99.0</td>\n",
              "      <td>360.0</td>\n",
              "      <td>71.123333</td>\n",
              "      <td>500</td>\n",
              "    </tr>\n",
              "    <tr>\n",
              "      <th>LP002496</th>\n",
              "      <td>94.0</td>\n",
              "      <td>360.0</td>\n",
              "      <td>64.689011</td>\n",
              "      <td>506</td>\n",
              "    </tr>\n",
              "    <tr>\n",
              "      <th>LP002592</th>\n",
              "      <td>141.0</td>\n",
              "      <td>360.0</td>\n",
              "      <td>96.047867</td>\n",
              "      <td>507</td>\n",
              "    </tr>\n",
              "    <tr>\n",
              "      <th>LP002614</th>\n",
              "      <td>108.0</td>\n",
              "      <td>360.0</td>\n",
              "      <td>68.188375</td>\n",
              "      <td>516</td>\n",
              "    </tr>\n",
              "    <tr>\n",
              "      <th>LP002721</th>\n",
              "      <td>183.0</td>\n",
              "      <td>360.0</td>\n",
              "      <td>106.596341</td>\n",
              "      <td>525</td>\n",
              "    </tr>\n",
              "    <tr>\n",
              "      <th>LP002754</th>\n",
              "      <td>104.0</td>\n",
              "      <td>84.0</td>\n",
              "      <td>65.260345</td>\n",
              "      <td>120</td>\n",
              "    </tr>\n",
              "    <tr>\n",
              "      <th>LP002849</th>\n",
              "      <td>35.0</td>\n",
              "      <td>360.0</td>\n",
              "      <td>20.936173</td>\n",
              "      <td>522</td>\n",
              "    </tr>\n",
              "    <tr>\n",
              "      <th>LP002867</th>\n",
              "      <td>187.0</td>\n",
              "      <td>360.0</td>\n",
              "      <td>122.170097</td>\n",
              "      <td>512</td>\n",
              "    </tr>\n",
              "    <tr>\n",
              "      <th>LP002891</th>\n",
              "      <td>137.0</td>\n",
              "      <td>300.0</td>\n",
              "      <td>119.892221</td>\n",
              "      <td>393</td>\n",
              "    </tr>\n",
              "  </tbody>\n",
              "</table>\n",
              "</div>"
            ],
            "text/plain": [
              "          LoanAmount  Loan_Amount_Term  Approved_Amount  Tenure\n",
              "Loan_ID                                                        \n",
              "LP001056       147.0             360.0        95.573014     512\n",
              "LP001094       166.0             360.0       140.355203     477\n",
              "LP001153       148.0             360.0        78.097348     535\n",
              "LP001203       176.0             360.0       121.980600     505\n",
              "LP001313       130.0             360.0        82.048884     516\n",
              "LP001323       176.0             360.0       136.958711     489\n",
              "LP001347       108.0             360.0        66.011250     519\n",
              "LP001352       135.0             360.0        96.254111     501\n",
              "LP001358       130.0             360.0       102.395003     488\n",
              "LP001361       188.0             360.0       116.121864     518\n",
              "LP001419       185.0             360.0       123.728838     509\n",
              "LP001428       360.0             360.0       212.528062     523\n",
              "LP001446       257.0             360.0       254.371417     451\n",
              "LP001490       100.0             360.0        68.310795     507\n",
              "LP001558       107.0             360.0        66.403428     518\n",
              "LP001601       157.0             360.0        94.968281     521\n",
              "LP001607       180.0             360.0       111.139342     518\n",
              "LP001611        80.0             360.0        52.364577     512\n",
              "LP001650       146.0             360.0        83.801858     526\n",
              "LP001651       135.0             360.0        81.561594     521\n",
              "LP001655       300.0             360.0       194.328781     513\n",
              "LP001769       110.0             360.0        67.614928     519\n",
              "LP001785       150.0             360.0        94.661408     516\n",
              "LP001797       150.0             300.0        85.545430     439\n",
              "LP001831       113.0             360.0        65.513257     525\n",
              "LP001881       143.0             360.0       103.203585     500\n",
              "LP001911        65.0             360.0        41.531128     514\n",
              "LP001921        80.0             240.0        48.491588     347\n",
              "LP001933       120.0             360.0        91.149549     493\n",
              "LP001973       130.0             360.0        93.731798     500\n",
              "LP001975       143.0             360.0        87.639698     519\n",
              "LP002059       336.0             360.0       208.857250     518\n",
              "LP002062       132.0              84.0        80.164685     121\n",
              "LP002070       128.0             360.0        90.719796     502\n",
              "LP002083       116.0             360.0        85.345958     497\n",
              "LP002125       187.0             360.0       182.399766     454\n",
              "LP002152        80.0             360.0        47.398567     523\n",
              "LP002240       149.0             360.0       108.008862     499\n",
              "LP002264       102.0             360.0        64.940536     515\n",
              "LP002306        28.0             180.0        16.910620     260\n",
              "LP002310        92.0             360.0        60.822130     511\n",
              "LP002326       107.0             360.0        83.341934     489\n",
              "LP002333       105.0             360.0        68.950326     511\n",
              "LP002344       105.0             360.0        97.678821     462\n",
              "LP002358       150.0             360.0        91.500456     520\n",
              "LP002385        70.0             300.0        43.306369     432\n",
              "LP002425       100.0             360.0        54.998720     531\n",
              "LP002433       234.0             360.0       228.496257     454\n",
              "LP002440       184.0             360.0       135.254251     497\n",
              "LP002471        99.0             360.0        83.627518     477\n",
              "LP002476        99.0             360.0        71.123333     500\n",
              "LP002496        94.0             360.0        64.689011     506\n",
              "LP002592       141.0             360.0        96.047867     507\n",
              "LP002614       108.0             360.0        68.188375     516\n",
              "LP002721       183.0             360.0       106.596341     525\n",
              "LP002754       104.0              84.0        65.260345     120\n",
              "LP002849        35.0             360.0        20.936173     522\n",
              "LP002867       187.0             360.0       122.170097     512\n",
              "LP002891       137.0             300.0       119.892221     393"
            ]
          },
          "metadata": {
            "tags": []
          },
          "execution_count": 45
        }
      ]
    },
    {
      "cell_type": "markdown",
      "metadata": {
        "id": "09TSGaAKOdZX",
        "colab_type": "text"
      },
      "source": [
        "#### Converting to .csv and saving it to Google Drive"
      ]
    },
    {
      "cell_type": "code",
      "metadata": {
        "id": "YW3w0M7lPsNY",
        "colab_type": "code",
        "colab": {}
      },
      "source": [
        "result.to_csv('404FailedLoanStatus.csv')\n",
        "!cp 404FailedLoanStatus.csv drive/My\\ Drive/"
      ],
      "execution_count": 0,
      "outputs": []
    },
    {
      "cell_type": "code",
      "metadata": {
        "id": "tas2K6qkQBYh",
        "colab_type": "code",
        "colab": {}
      },
      "source": [
        ""
      ],
      "execution_count": 0,
      "outputs": []
    }
  ]
}